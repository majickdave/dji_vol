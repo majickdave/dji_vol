{
 "cells": [
  {
   "cell_type": "markdown",
   "metadata": {},
   "source": [
    "# Load Data"
   ]
  },
  {
   "cell_type": "code",
   "execution_count": 41,
   "metadata": {},
   "outputs": [
    {
     "data": {
      "text/html": [
       "<div>\n",
       "<style scoped>\n",
       "    .dataframe tbody tr th:only-of-type {\n",
       "        vertical-align: middle;\n",
       "    }\n",
       "\n",
       "    .dataframe tbody tr th {\n",
       "        vertical-align: top;\n",
       "    }\n",
       "\n",
       "    .dataframe thead th {\n",
       "        text-align: right;\n",
       "    }\n",
       "</style>\n",
       "<table border=\"1\" class=\"dataframe\">\n",
       "  <thead>\n",
       "    <tr style=\"text-align: right;\">\n",
       "      <th></th>\n",
       "      <th>date</th>\n",
       "      <th>month</th>\n",
       "      <th>year</th>\n",
       "      <th>bu</th>\n",
       "      <th>Conformance %</th>\n",
       "      <th>System Outage (hrs)</th>\n",
       "      <th>Unplanned out %</th>\n",
       "      <th>Shrinkage %</th>\n",
       "      <th>aht</th>\n",
       "      <th>Attrition %</th>\n",
       "    </tr>\n",
       "  </thead>\n",
       "  <tbody>\n",
       "    <tr>\n",
       "      <th>1064</th>\n",
       "      <td>2019-08-01</td>\n",
       "      <td>August</td>\n",
       "      <td>2019</td>\n",
       "      <td>Client Transactions</td>\n",
       "      <td>0.826030</td>\n",
       "      <td>0.0</td>\n",
       "      <td>0.07</td>\n",
       "      <td>0.24</td>\n",
       "      <td>382.768996</td>\n",
       "      <td>0.046512</td>\n",
       "    </tr>\n",
       "    <tr>\n",
       "      <th>1065</th>\n",
       "      <td>2019-08-01</td>\n",
       "      <td>August</td>\n",
       "      <td>2019</td>\n",
       "      <td>Participant Transactions</td>\n",
       "      <td>0.900010</td>\n",
       "      <td>0.0</td>\n",
       "      <td>0.02</td>\n",
       "      <td>0.24</td>\n",
       "      <td>506.634718</td>\n",
       "      <td>0.035088</td>\n",
       "    </tr>\n",
       "    <tr>\n",
       "      <th>1066</th>\n",
       "      <td>2019-08-01</td>\n",
       "      <td>August</td>\n",
       "      <td>2019</td>\n",
       "      <td>RAM</td>\n",
       "      <td>0.975559</td>\n",
       "      <td>0.0</td>\n",
       "      <td>0.02</td>\n",
       "      <td>0.39</td>\n",
       "      <td>979.923837</td>\n",
       "      <td>0.024390</td>\n",
       "    </tr>\n",
       "    <tr>\n",
       "      <th>1067</th>\n",
       "      <td>2019-08-01</td>\n",
       "      <td>August</td>\n",
       "      <td>2019</td>\n",
       "      <td>RCS PHONES</td>\n",
       "      <td>NaN</td>\n",
       "      <td>0.0</td>\n",
       "      <td>0.01</td>\n",
       "      <td>0.30</td>\n",
       "      <td>NaN</td>\n",
       "      <td>0.111111</td>\n",
       "    </tr>\n",
       "    <tr>\n",
       "      <th>1068</th>\n",
       "      <td>2019-08-01</td>\n",
       "      <td>August</td>\n",
       "      <td>2019</td>\n",
       "      <td>RIS</td>\n",
       "      <td>1.019198</td>\n",
       "      <td>0.0</td>\n",
       "      <td>0.04</td>\n",
       "      <td>0.39</td>\n",
       "      <td>586.000000</td>\n",
       "      <td>0.022222</td>\n",
       "    </tr>\n",
       "  </tbody>\n",
       "</table>\n",
       "</div>"
      ],
      "text/plain": [
       "           date   month  year                        bu  Conformance %  \\\n",
       "1064 2019-08-01  August  2019       Client Transactions       0.826030   \n",
       "1065 2019-08-01  August  2019  Participant Transactions       0.900010   \n",
       "1066 2019-08-01  August  2019                       RAM       0.975559   \n",
       "1067 2019-08-01  August  2019                RCS PHONES            NaN   \n",
       "1068 2019-08-01  August  2019                       RIS       1.019198   \n",
       "\n",
       "      System Outage (hrs)  Unplanned out %  Shrinkage %         aht  \\\n",
       "1064                  0.0             0.07         0.24  382.768996   \n",
       "1065                  0.0             0.02         0.24  506.634718   \n",
       "1066                  0.0             0.02         0.39  979.923837   \n",
       "1067                  0.0             0.01         0.30         NaN   \n",
       "1068                  0.0             0.04         0.39  586.000000   \n",
       "\n",
       "      Attrition %  \n",
       "1064     0.046512  \n",
       "1065     0.035088  \n",
       "1066     0.024390  \n",
       "1067     0.111111  \n",
       "1068     0.022222  "
      ]
     },
     "execution_count": 41,
     "metadata": {},
     "output_type": "execute_result"
    }
   ],
   "source": [
    "import pandas as pd\n",
    "\n",
    "df = pd.read_csv('wfh3_noweekends_clean.csv')\n",
    "\n",
    "df['Shrinkage %'] = df['Shrinkage %']/100\n",
    "df['Attrition %'] = df['Attrition %']/100\n",
    "\n",
    "# convert to datetime \n",
    "df['date'] = pd.to_datetime(df['date'])\n",
    "\n",
    "# filter on months\n",
    "df = df[df['month'].isin(['August', 'September', 'October', 'November'])]\n",
    "df.head()"
   ]
  },
  {
   "cell_type": "markdown",
   "metadata": {},
   "source": [
    "# What data types are in this dataset?"
   ]
  },
  {
   "cell_type": "code",
   "execution_count": 42,
   "metadata": {},
   "outputs": [
    {
     "name": "stdout",
     "output_type": "stream",
     "text": [
      "<class 'pandas.core.frame.DataFrame'>\n",
      "Int64Index: 1211 entries, 1064 to 3499\n",
      "Data columns (total 10 columns):\n",
      " #   Column               Non-Null Count  Dtype         \n",
      "---  ------               --------------  -----         \n",
      " 0   date                 1211 non-null   datetime64[ns]\n",
      " 1   month                1211 non-null   object        \n",
      " 2   year                 1211 non-null   int64         \n",
      " 3   bu                   1211 non-null   object        \n",
      " 4   Conformance %        804 non-null    float64       \n",
      " 5   System Outage (hrs)  1211 non-null   float64       \n",
      " 6   Unplanned out %      1139 non-null   float64       \n",
      " 7   Shrinkage %          1139 non-null   float64       \n",
      " 8   aht                  819 non-null    float64       \n",
      " 9   Attrition %          1038 non-null   float64       \n",
      "dtypes: datetime64[ns](1), float64(6), int64(1), object(2)\n",
      "memory usage: 104.1+ KB\n"
     ]
    }
   ],
   "source": [
    "df.info()"
   ]
  },
  {
   "cell_type": "markdown",
   "metadata": {},
   "source": [
    "# How many days are in this dataset?"
   ]
  },
  {
   "cell_type": "code",
   "execution_count": 45,
   "metadata": {
    "scrolled": true
   },
   "outputs": [
    {
     "data": {
      "text/plain": [
       "1211"
      ]
     },
     "execution_count": 45,
     "metadata": {},
     "output_type": "execute_result"
    }
   ],
   "source": [
    "df.shape[0]"
   ]
  },
  {
   "cell_type": "markdown",
   "metadata": {},
   "source": [
    "# What is the mean value for each kpi by year?\n"
   ]
  },
  {
   "cell_type": "code",
   "execution_count": 46,
   "metadata": {},
   "outputs": [
    {
     "data": {
      "text/html": [
       "<div>\n",
       "<style scoped>\n",
       "    .dataframe tbody tr th:only-of-type {\n",
       "        vertical-align: middle;\n",
       "    }\n",
       "\n",
       "    .dataframe tbody tr th {\n",
       "        vertical-align: top;\n",
       "    }\n",
       "\n",
       "    .dataframe thead th {\n",
       "        text-align: right;\n",
       "    }\n",
       "</style>\n",
       "<table border=\"1\" class=\"dataframe\">\n",
       "  <thead>\n",
       "    <tr style=\"text-align: right;\">\n",
       "      <th></th>\n",
       "      <th>Conformance %</th>\n",
       "      <th>System Outage (hrs)</th>\n",
       "      <th>Unplanned out %</th>\n",
       "      <th>Shrinkage %</th>\n",
       "      <th>aht</th>\n",
       "      <th>Attrition %</th>\n",
       "    </tr>\n",
       "    <tr>\n",
       "      <th>year</th>\n",
       "      <th></th>\n",
       "      <th></th>\n",
       "      <th></th>\n",
       "      <th></th>\n",
       "      <th></th>\n",
       "      <th></th>\n",
       "    </tr>\n",
       "  </thead>\n",
       "  <tbody>\n",
       "    <tr>\n",
       "      <th>2019</th>\n",
       "      <td>0.935353</td>\n",
       "      <td>0.866420</td>\n",
       "      <td>0.052559</td>\n",
       "      <td>0.338478</td>\n",
       "      <td>604.624853</td>\n",
       "      <td>0.040068</td>\n",
       "    </tr>\n",
       "    <tr>\n",
       "      <th>2020</th>\n",
       "      <td>0.954661</td>\n",
       "      <td>9.273367</td>\n",
       "      <td>0.032680</td>\n",
       "      <td>0.333309</td>\n",
       "      <td>700.925561</td>\n",
       "      <td>0.037026</td>\n",
       "    </tr>\n",
       "  </tbody>\n",
       "</table>\n",
       "</div>"
      ],
      "text/plain": [
       "      Conformance %  System Outage (hrs)  Unplanned out %  Shrinkage %  \\\n",
       "year                                                                     \n",
       "2019       0.935353             0.866420         0.052559     0.338478   \n",
       "2020       0.954661             9.273367         0.032680     0.333309   \n",
       "\n",
       "             aht  Attrition %  \n",
       "year                           \n",
       "2019  604.624853     0.040068  \n",
       "2020  700.925561     0.037026  "
      ]
     },
     "execution_count": 46,
     "metadata": {},
     "output_type": "execute_result"
    }
   ],
   "source": [
    "g = df.groupby(['year']).mean()\n",
    "g"
   ]
  },
  {
   "cell_type": "markdown",
   "metadata": {},
   "source": [
    "# What is the percent change from 2019 to 2020"
   ]
  },
  {
   "cell_type": "code",
   "execution_count": 47,
   "metadata": {},
   "outputs": [],
   "source": [
    "pct = pd.DataFrame(g.pct_change().loc[2020] * 100).T"
   ]
  },
  {
   "cell_type": "code",
   "execution_count": 48,
   "metadata": {
    "scrolled": true
   },
   "outputs": [
    {
     "data": {
      "text/html": [
       "<div>\n",
       "<style scoped>\n",
       "    .dataframe tbody tr th:only-of-type {\n",
       "        vertical-align: middle;\n",
       "    }\n",
       "\n",
       "    .dataframe tbody tr th {\n",
       "        vertical-align: top;\n",
       "    }\n",
       "\n",
       "    .dataframe thead th {\n",
       "        text-align: right;\n",
       "    }\n",
       "</style>\n",
       "<table border=\"1\" class=\"dataframe\">\n",
       "  <thead>\n",
       "    <tr style=\"text-align: right;\">\n",
       "      <th></th>\n",
       "      <th>Conformance %</th>\n",
       "      <th>System Outage (hrs)</th>\n",
       "      <th>Unplanned out %</th>\n",
       "      <th>Shrinkage %</th>\n",
       "      <th>aht</th>\n",
       "      <th>Attrition %</th>\n",
       "    </tr>\n",
       "  </thead>\n",
       "  <tbody>\n",
       "    <tr>\n",
       "      <th>2019</th>\n",
       "      <td>0.935353</td>\n",
       "      <td>0.866420</td>\n",
       "      <td>0.052559</td>\n",
       "      <td>0.338478</td>\n",
       "      <td>604.624853</td>\n",
       "      <td>0.040068</td>\n",
       "    </tr>\n",
       "    <tr>\n",
       "      <th>2020</th>\n",
       "      <td>0.954661</td>\n",
       "      <td>9.273367</td>\n",
       "      <td>0.032680</td>\n",
       "      <td>0.333309</td>\n",
       "      <td>700.925561</td>\n",
       "      <td>0.037026</td>\n",
       "    </tr>\n",
       "    <tr>\n",
       "      <th>2020</th>\n",
       "      <td>2.064268</td>\n",
       "      <td>970.308013</td>\n",
       "      <td>-37.821277</td>\n",
       "      <td>-1.527298</td>\n",
       "      <td>15.927348</td>\n",
       "      <td>-7.591768</td>\n",
       "    </tr>\n",
       "  </tbody>\n",
       "</table>\n",
       "</div>"
      ],
      "text/plain": [
       "      Conformance %  System Outage (hrs)  Unplanned out %  Shrinkage %  \\\n",
       "2019       0.935353             0.866420         0.052559     0.338478   \n",
       "2020       0.954661             9.273367         0.032680     0.333309   \n",
       "2020       2.064268           970.308013       -37.821277    -1.527298   \n",
       "\n",
       "             aht  Attrition %  \n",
       "2019  604.624853     0.040068  \n",
       "2020  700.925561     0.037026  \n",
       "2020   15.927348    -7.591768  "
      ]
     },
     "execution_count": 48,
     "metadata": {},
     "output_type": "execute_result"
    }
   ],
   "source": [
    "pct_change = pd.concat([g,pct],0)\n",
    "pct_change"
   ]
  },
  {
   "cell_type": "code",
   "execution_count": 49,
   "metadata": {},
   "outputs": [],
   "source": [
    "pct_change.to_csv('pct_change.csv')"
   ]
  },
  {
   "cell_type": "code",
   "execution_count": null,
   "metadata": {},
   "outputs": [],
   "source": []
  }
 ],
 "metadata": {
  "kernelspec": {
   "display_name": "Python 3",
   "language": "python",
   "name": "python3"
  },
  "language_info": {
   "codemirror_mode": {
    "name": "ipython",
    "version": 3
   },
   "file_extension": ".py",
   "mimetype": "text/x-python",
   "name": "python",
   "nbconvert_exporter": "python",
   "pygments_lexer": "ipython3",
   "version": "3.7.6"
  }
 },
 "nbformat": 4,
 "nbformat_minor": 4
}
