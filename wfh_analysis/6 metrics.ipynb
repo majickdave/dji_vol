{
 "cells": [
  {
   "cell_type": "markdown",
   "metadata": {},
   "source": [
    "# Analysis of Employee performance from 2019 to 2020\n",
    "6 Metrics:\n",
    "\n",
    "1. Aht (seconds/call)\n",
    "2. Unplanned out (%)\n",
    "3. Mean attrition (%)\n",
    "4. Mean conformance (%)\n",
    "5. Mean monthly system outage (hours)\n",
    "6. Mean shrinkage (%)"
   ]
  },
  {
   "cell_type": "markdown",
   "metadata": {},
   "source": [
    "# Load Data"
   ]
  },
  {
   "cell_type": "code",
   "execution_count": 338,
   "metadata": {
    "scrolled": true
   },
   "outputs": [
    {
     "data": {
      "text/html": [
       "<div>\n",
       "<style scoped>\n",
       "    .dataframe tbody tr th:only-of-type {\n",
       "        vertical-align: middle;\n",
       "    }\n",
       "\n",
       "    .dataframe tbody tr th {\n",
       "        vertical-align: top;\n",
       "    }\n",
       "\n",
       "    .dataframe thead th {\n",
       "        text-align: right;\n",
       "    }\n",
       "</style>\n",
       "<table border=\"1\" class=\"dataframe\">\n",
       "  <thead>\n",
       "    <tr style=\"text-align: right;\">\n",
       "      <th></th>\n",
       "      <th>date</th>\n",
       "      <th>bu</th>\n",
       "      <th>VOLUME - HANDLED</th>\n",
       "      <th>TOTAL TIME - AHT (sec)</th>\n",
       "      <th>AHT CALC</th>\n",
       "      <th>Sum of PRODUCTIVE TIME - ACTUAL (hrs)</th>\n",
       "      <th>Sum of PRODUCTIVE TIME - SCHEDULED (hrs)</th>\n",
       "      <th>Conformance CALC</th>\n",
       "      <th>Attrition</th>\n",
       "      <th>EOM Headcount</th>\n",
       "      <th>Attrition % CALC</th>\n",
       "      <th>System Outage (hrs)</th>\n",
       "      <th>Unplanned out</th>\n",
       "      <th>Shrinkage</th>\n",
       "      <th>Regular Scheduled Time (no OT)</th>\n",
       "      <th>Unplanned out % CALC</th>\n",
       "      <th>Shrinkage % CALC</th>\n",
       "      <th>month</th>\n",
       "      <th>year</th>\n",
       "      <th>aht</th>\n",
       "    </tr>\n",
       "  </thead>\n",
       "  <tbody>\n",
       "    <tr>\n",
       "      <th>0</th>\n",
       "      <td>2019-01-01</td>\n",
       "      <td>Client Transactions</td>\n",
       "      <td>290</td>\n",
       "      <td>0</td>\n",
       "      <td>0</td>\n",
       "      <td>0.000000</td>\n",
       "      <td>0.0</td>\n",
       "      <td>#DIV/0!</td>\n",
       "      <td>0</td>\n",
       "      <td>0</td>\n",
       "      <td>NaN</td>\n",
       "      <td>0.0</td>\n",
       "      <td>0.0</td>\n",
       "      <td>0.00</td>\n",
       "      <td>0.00</td>\n",
       "      <td>#DIV/0!</td>\n",
       "      <td>#DIV/0!</td>\n",
       "      <td>January</td>\n",
       "      <td>2019</td>\n",
       "      <td>0.000000</td>\n",
       "    </tr>\n",
       "    <tr>\n",
       "      <th>1</th>\n",
       "      <td>2019-01-01</td>\n",
       "      <td>Participant Transactions</td>\n",
       "      <td>429</td>\n",
       "      <td>0</td>\n",
       "      <td>0</td>\n",
       "      <td>0.000000</td>\n",
       "      <td>0.0</td>\n",
       "      <td>#DIV/0!</td>\n",
       "      <td>0</td>\n",
       "      <td>0</td>\n",
       "      <td>NaN</td>\n",
       "      <td>0.0</td>\n",
       "      <td>0.0</td>\n",
       "      <td>0.00</td>\n",
       "      <td>0.00</td>\n",
       "      <td>#DIV/0!</td>\n",
       "      <td>#DIV/0!</td>\n",
       "      <td>January</td>\n",
       "      <td>2019</td>\n",
       "      <td>0.000000</td>\n",
       "    </tr>\n",
       "    <tr>\n",
       "      <th>2</th>\n",
       "      <td>2019-01-01</td>\n",
       "      <td>RAM</td>\n",
       "      <td>1072</td>\n",
       "      <td>1315240</td>\n",
       "      <td>1226.902985</td>\n",
       "      <td>360.443889</td>\n",
       "      <td>507.5</td>\n",
       "      <td>0.710234264</td>\n",
       "      <td>0</td>\n",
       "      <td>0</td>\n",
       "      <td>NaN</td>\n",
       "      <td>0.0</td>\n",
       "      <td>0.0</td>\n",
       "      <td>115.25</td>\n",
       "      <td>656.25</td>\n",
       "      <td>0%</td>\n",
       "      <td>18%</td>\n",
       "      <td>January</td>\n",
       "      <td>2019</td>\n",
       "      <td>1226.902985</td>\n",
       "    </tr>\n",
       "    <tr>\n",
       "      <th>3</th>\n",
       "      <td>2019-01-01</td>\n",
       "      <td>RCS PHONES</td>\n",
       "      <td>0</td>\n",
       "      <td>0</td>\n",
       "      <td>#DIV/0!</td>\n",
       "      <td>0.000000</td>\n",
       "      <td>0.0</td>\n",
       "      <td>#DIV/0!</td>\n",
       "      <td>0</td>\n",
       "      <td>0</td>\n",
       "      <td>NaN</td>\n",
       "      <td>0.0</td>\n",
       "      <td>0.0</td>\n",
       "      <td>0.00</td>\n",
       "      <td>0.00</td>\n",
       "      <td>#DIV/0!</td>\n",
       "      <td>#DIV/0!</td>\n",
       "      <td>January</td>\n",
       "      <td>2019</td>\n",
       "      <td>NaN</td>\n",
       "    </tr>\n",
       "    <tr>\n",
       "      <th>4</th>\n",
       "      <td>2019-01-01</td>\n",
       "      <td>RIS</td>\n",
       "      <td>3</td>\n",
       "      <td>105</td>\n",
       "      <td>35</td>\n",
       "      <td>0.000000</td>\n",
       "      <td>0.0</td>\n",
       "      <td>#DIV/0!</td>\n",
       "      <td>0</td>\n",
       "      <td>0</td>\n",
       "      <td>NaN</td>\n",
       "      <td>0.0</td>\n",
       "      <td>0.0</td>\n",
       "      <td>0.00</td>\n",
       "      <td>0.00</td>\n",
       "      <td>#DIV/0!</td>\n",
       "      <td>#DIV/0!</td>\n",
       "      <td>January</td>\n",
       "      <td>2019</td>\n",
       "      <td>35.000000</td>\n",
       "    </tr>\n",
       "  </tbody>\n",
       "</table>\n",
       "</div>"
      ],
      "text/plain": [
       "        date                        bu  VOLUME - HANDLED  \\\n",
       "0 2019-01-01       Client Transactions               290   \n",
       "1 2019-01-01  Participant Transactions               429   \n",
       "2 2019-01-01                       RAM              1072   \n",
       "3 2019-01-01                RCS PHONES                 0   \n",
       "4 2019-01-01                       RIS                 3   \n",
       "\n",
       "   TOTAL TIME - AHT (sec)     AHT CALC  Sum of PRODUCTIVE TIME - ACTUAL (hrs)  \\\n",
       "0                       0            0                               0.000000   \n",
       "1                       0            0                               0.000000   \n",
       "2                 1315240  1226.902985                             360.443889   \n",
       "3                       0      #DIV/0!                               0.000000   \n",
       "4                     105           35                               0.000000   \n",
       "\n",
       "   Sum of PRODUCTIVE TIME - SCHEDULED (hrs) Conformance CALC  Attrition  \\\n",
       "0                                       0.0          #DIV/0!          0   \n",
       "1                                       0.0          #DIV/0!          0   \n",
       "2                                     507.5      0.710234264          0   \n",
       "3                                       0.0          #DIV/0!          0   \n",
       "4                                       0.0          #DIV/0!          0   \n",
       "\n",
       "   EOM Headcount  Attrition % CALC  System Outage (hrs)  Unplanned out  \\\n",
       "0              0               NaN                  0.0            0.0   \n",
       "1              0               NaN                  0.0            0.0   \n",
       "2              0               NaN                  0.0            0.0   \n",
       "3              0               NaN                  0.0            0.0   \n",
       "4              0               NaN                  0.0            0.0   \n",
       "\n",
       "   Shrinkage  Regular Scheduled Time (no OT) Unplanned out % CALC  \\\n",
       "0       0.00                            0.00              #DIV/0!   \n",
       "1       0.00                            0.00              #DIV/0!   \n",
       "2     115.25                          656.25                   0%   \n",
       "3       0.00                            0.00              #DIV/0!   \n",
       "4       0.00                            0.00              #DIV/0!   \n",
       "\n",
       "  Shrinkage % CALC    month  year          aht  \n",
       "0          #DIV/0!  January  2019     0.000000  \n",
       "1          #DIV/0!  January  2019     0.000000  \n",
       "2              18%  January  2019  1226.902985  \n",
       "3          #DIV/0!  January  2019          NaN  \n",
       "4          #DIV/0!  January  2019    35.000000  "
      ]
     },
     "execution_count": 338,
     "metadata": {},
     "output_type": "execute_result"
    }
   ],
   "source": [
    "import pandas as pd\n",
    "import seaborn as sns\n",
    "import matplotlib.pyplot as plt\n",
    "import matplotlib as mpl\n",
    "\n",
    "df = pd.read_csv('wfh3.csv')\n",
    "df.rename(columns={'ACTIVITY DATE': 'date', 'BUSINESS UNIT': 'bu'}, inplace=True)\n",
    "df['date'] = pd.to_datetime(df['date'])\n",
    "df['month'] = df['date'].dt.month_name()\n",
    "df['year'] = df['date'].dt.year\n",
    "df['aht'] = df['TOTAL TIME - AHT (sec)'] / df['VOLUME - HANDLED']\n",
    "\n",
    "df.head()"
   ]
  },
  {
   "cell_type": "markdown",
   "metadata": {},
   "source": [
    "# Fix attrition to repeat"
   ]
  },
  {
   "cell_type": "code",
   "execution_count": 357,
   "metadata": {},
   "outputs": [
    {
     "data": {
      "text/html": [
       "<div>\n",
       "<style scoped>\n",
       "    .dataframe tbody tr th:only-of-type {\n",
       "        vertical-align: middle;\n",
       "    }\n",
       "\n",
       "    .dataframe tbody tr th {\n",
       "        vertical-align: top;\n",
       "    }\n",
       "\n",
       "    .dataframe thead th {\n",
       "        text-align: right;\n",
       "    }\n",
       "</style>\n",
       "<table border=\"1\" class=\"dataframe\">\n",
       "  <thead>\n",
       "    <tr style=\"text-align: right;\">\n",
       "      <th></th>\n",
       "      <th>BUSINESS UNIT</th>\n",
       "      <th>last date of month</th>\n",
       "      <th>attrition</th>\n",
       "      <th>filled position</th>\n",
       "      <th>Attrition %</th>\n",
       "      <th>month</th>\n",
       "      <th>year</th>\n",
       "    </tr>\n",
       "  </thead>\n",
       "  <tbody>\n",
       "    <tr>\n",
       "      <th>0</th>\n",
       "      <td>Client Transactions</td>\n",
       "      <td>1/31/2019</td>\n",
       "      <td>2</td>\n",
       "      <td>47</td>\n",
       "      <td>0.042553191</td>\n",
       "      <td>January</td>\n",
       "      <td>2019</td>\n",
       "    </tr>\n",
       "    <tr>\n",
       "      <th>1</th>\n",
       "      <td>Participant Transactions</td>\n",
       "      <td>1/31/2019</td>\n",
       "      <td>2</td>\n",
       "      <td>59</td>\n",
       "      <td>0.033898305</td>\n",
       "      <td>January</td>\n",
       "      <td>2019</td>\n",
       "    </tr>\n",
       "    <tr>\n",
       "      <th>2</th>\n",
       "      <td>RAM</td>\n",
       "      <td>1/31/2019</td>\n",
       "      <td>2</td>\n",
       "      <td>89</td>\n",
       "      <td>0.02247191</td>\n",
       "      <td>January</td>\n",
       "      <td>2019</td>\n",
       "    </tr>\n",
       "    <tr>\n",
       "      <th>3</th>\n",
       "      <td>RCS PHONES</td>\n",
       "      <td>1/31/2019</td>\n",
       "      <td>2</td>\n",
       "      <td>20</td>\n",
       "      <td>0.1</td>\n",
       "      <td>January</td>\n",
       "      <td>2019</td>\n",
       "    </tr>\n",
       "    <tr>\n",
       "      <th>4</th>\n",
       "      <td>RIS</td>\n",
       "      <td>1/31/2019</td>\n",
       "      <td>2</td>\n",
       "      <td>126</td>\n",
       "      <td>0.015873016</td>\n",
       "      <td>January</td>\n",
       "      <td>2019</td>\n",
       "    </tr>\n",
       "  </tbody>\n",
       "</table>\n",
       "</div>"
      ],
      "text/plain": [
       "              BUSINESS UNIT last date of month  attrition  filled position  \\\n",
       "0       Client Transactions          1/31/2019          2               47   \n",
       "1  Participant Transactions          1/31/2019          2               59   \n",
       "2                       RAM          1/31/2019          2               89   \n",
       "3                RCS PHONES          1/31/2019          2               20   \n",
       "4                       RIS          1/31/2019          2              126   \n",
       "\n",
       "   Attrition %    month  year  \n",
       "0  0.042553191  January  2019  \n",
       "1  0.033898305  January  2019  \n",
       "2   0.02247191  January  2019  \n",
       "3          0.1  January  2019  \n",
       "4  0.015873016  January  2019  "
      ]
     },
     "execution_count": 357,
     "metadata": {},
     "output_type": "execute_result"
    }
   ],
   "source": [
    "att = pd.read_csv('attrition.csv')\n",
    "\n",
    "att.head()"
   ]
  },
  {
   "cell_type": "code",
   "execution_count": 363,
   "metadata": {},
   "outputs": [],
   "source": [
    "att['Attrition %'] = pd.to_numeric(att['Attrition %'], errors='coerce')"
   ]
  },
  {
   "cell_type": "code",
   "execution_count": null,
   "metadata": {},
   "outputs": [],
   "source": [
    "att = att.drop('last date of month', 1)"
   ]
  },
  {
   "cell_type": "code",
   "execution_count": 364,
   "metadata": {},
   "outputs": [],
   "source": [
    "att.to_csv('attrition_clean.csv')"
   ]
  },
  {
   "cell_type": "code",
   "execution_count": null,
   "metadata": {},
   "outputs": [],
   "source": []
  },
  {
   "cell_type": "code",
   "execution_count": 340,
   "metadata": {},
   "outputs": [],
   "source": [
    "# def replace_attrition(df):\n",
    "#     for year in df['year'].unique():\n",
    "#         for bu in df['bu'].unique():\n",
    "#             for month in df['month'].unique():\n",
    "#                 df[(df['year']==year) & (df['bu']==bu) & (df['month']==month)].fillna(method='backfill')\n",
    "# #                 month = df[(df['year']==year) & (df['bu']==bu) & (df['month']==month)]\n",
    "# #                 val = month[month['date']==month['date'].max()]['Attrition % CALC']\n",
    "# #                 print(val.values[0])\n",
    "# #                 df.loc[month.index,'Attrition % CALC'] = val.values*df.loc[month.index,'Attrition % CALC'].shape[0]\n",
    "# #                 display(df.loc[month.index,'Attrition % CALC'])\n",
    "# #                 print(month['Attrition % CALC'])\n",
    "#                 break\n",
    "#             break\n",
    "#         break\n",
    "#                 #                 df.loc[(df['year']==year) & (df['bu']==bu) & (df['month']==month)]['Attrition % CALC'] = new\n",
    "# #                 display(df[(df['year']==year) & (df['bu']==bu) & (df['month']==month)])\n",
    "# #                 display(df[(df['year']==year) & (df['bu']==bu) & (df['month']==month)])\n",
    "#                 #             to_replace = df[(df['year']==year) & (df['bu']==bu) & (df['month']==month) & (df['Attrition % CALC'].isnull())].fillna(fill.values[0])\n",
    "#     #             df.replace(to_replace=)\n",
    "\n",
    "# print(replace_attrition(df))\n",
    "\n"
   ]
  },
  {
   "cell_type": "code",
   "execution_count": null,
   "metadata": {},
   "outputs": [],
   "source": []
  },
  {
   "cell_type": "code",
   "execution_count": 341,
   "metadata": {},
   "outputs": [
    {
     "data": {
      "text/plain": [
       "Timestamp('2019-01-31 00:00:00')"
      ]
     },
     "execution_count": 341,
     "metadata": {},
     "output_type": "execute_result"
    }
   ],
   "source": [
    "month = df[(df['year']==2019)& (df['month']=='January') & (df['bu']=='RAM')]\n",
    "\n",
    "month['date'].max()"
   ]
  },
  {
   "cell_type": "markdown",
   "metadata": {},
   "source": [
    "# REMOVE WEEKENDS"
   ]
  },
  {
   "cell_type": "code",
   "execution_count": 342,
   "metadata": {},
   "outputs": [],
   "source": [
    "# df = df[~df['date'].dt.weekday.isin([5,6])]"
   ]
  },
  {
   "cell_type": "markdown",
   "metadata": {},
   "source": [
    "# 1. AHT"
   ]
  },
  {
   "cell_type": "code",
   "execution_count": 343,
   "metadata": {},
   "outputs": [
    {
     "data": {
      "image/png": "[encoded data removed]",
      "text/plain": [
       "<Figure size 576x432 with 1 Axes>"
      ]
     },
     "metadata": {
      "needs_background": "light"
     },
     "output_type": "display_data"
    }
   ],
   "source": [
    "import seaborn as sns\n",
    "\n",
    "plt.figure(figsize=(8,6))\n",
    "ax = sns.boxplot(x=\"aht\", y=\"bu\", hue=\"year\",\n",
    "                 data=df, palette=\"Set3\")\n",
    "plt.title('AHT distribution bu business unit and year')\n",
    "plt.tight_layout()"
   ]
  },
  {
   "cell_type": "markdown",
   "metadata": {},
   "source": [
    "# 2. Unplanned Out (%)"
   ]
  },
  {
   "cell_type": "code",
   "execution_count": 344,
   "metadata": {},
   "outputs": [
    {
     "data": {
      "image/png": "[encoded data removed]",
      "text/plain": [
       "<Figure size 576x432 with 1 Axes>"
      ]
     },
     "metadata": {
      "needs_background": "light"
     },
     "output_type": "display_data"
    }
   ],
   "source": [
    "df['Unplanned out % CALC'] = pd.to_numeric(df['Unplanned out % CALC'].str.replace('%', ''), errors='coerce')/100\n",
    "\n",
    "plt.figure(figsize=(8,6))\n",
    "ax = sns.boxplot(x='Unplanned out % CALC', y=\"bu\", hue=\"year\",\n",
    "                 data=df, palette=\"Set2\")\n",
    "plt.tight_layout()"
   ]
  },
  {
   "cell_type": "markdown",
   "metadata": {},
   "source": [
    "# 3. Mean attrition (%)"
   ]
  },
  {
   "cell_type": "code",
   "execution_count": 345,
   "metadata": {},
   "outputs": [],
   "source": [
    "g = df.groupby(['bu','month','year'])[['Attrition % CALC']].mean()"
   ]
  },
  {
   "cell_type": "code",
   "execution_count": 346,
   "metadata": {},
   "outputs": [
    {
     "data": {
      "text/html": [
       "<div>\n",
       "<style scoped>\n",
       "    .dataframe tbody tr th:only-of-type {\n",
       "        vertical-align: middle;\n",
       "    }\n",
       "\n",
       "    .dataframe tbody tr th {\n",
       "        vertical-align: top;\n",
       "    }\n",
       "\n",
       "    .dataframe thead th {\n",
       "        text-align: right;\n",
       "    }\n",
       "</style>\n",
       "<table border=\"1\" class=\"dataframe\">\n",
       "  <thead>\n",
       "    <tr style=\"text-align: right;\">\n",
       "      <th></th>\n",
       "      <th>date</th>\n",
       "      <th>bu</th>\n",
       "      <th>VOLUME - HANDLED</th>\n",
       "      <th>TOTAL TIME - AHT (sec)</th>\n",
       "      <th>AHT CALC</th>\n",
       "      <th>Sum of PRODUCTIVE TIME - ACTUAL (hrs)</th>\n",
       "      <th>Sum of PRODUCTIVE TIME - SCHEDULED (hrs)</th>\n",
       "      <th>Conformance CALC</th>\n",
       "      <th>Attrition</th>\n",
       "      <th>EOM Headcount</th>\n",
       "      <th>Attrition % CALC</th>\n",
       "      <th>System Outage (hrs)</th>\n",
       "      <th>Unplanned out</th>\n",
       "      <th>Shrinkage</th>\n",
       "      <th>Regular Scheduled Time (no OT)</th>\n",
       "      <th>Unplanned out % CALC</th>\n",
       "      <th>Shrinkage % CALC</th>\n",
       "      <th>month</th>\n",
       "      <th>year</th>\n",
       "      <th>aht</th>\n",
       "    </tr>\n",
       "  </thead>\n",
       "  <tbody>\n",
       "    <tr>\n",
       "      <th>1694</th>\n",
       "      <td>2019-08-31</td>\n",
       "      <td>Client Transactions</td>\n",
       "      <td>0</td>\n",
       "      <td>0</td>\n",
       "      <td>#DIV/0!</td>\n",
       "      <td>0.0</td>\n",
       "      <td>0.0</td>\n",
       "      <td>#DIV/0!</td>\n",
       "      <td>2</td>\n",
       "      <td>43</td>\n",
       "      <td>0.046512</td>\n",
       "      <td>0.0</td>\n",
       "      <td>0.0</td>\n",
       "      <td>0.0</td>\n",
       "      <td>0.0</td>\n",
       "      <td>NaN</td>\n",
       "      <td>#DIV/0!</td>\n",
       "      <td>August</td>\n",
       "      <td>2019</td>\n",
       "      <td>NaN</td>\n",
       "    </tr>\n",
       "    <tr>\n",
       "      <th>1695</th>\n",
       "      <td>2019-08-31</td>\n",
       "      <td>Participant Transactions</td>\n",
       "      <td>0</td>\n",
       "      <td>0</td>\n",
       "      <td>#DIV/0!</td>\n",
       "      <td>0.0</td>\n",
       "      <td>0.0</td>\n",
       "      <td>#DIV/0!</td>\n",
       "      <td>2</td>\n",
       "      <td>57</td>\n",
       "      <td>0.035088</td>\n",
       "      <td>0.0</td>\n",
       "      <td>0.0</td>\n",
       "      <td>0.0</td>\n",
       "      <td>0.0</td>\n",
       "      <td>NaN</td>\n",
       "      <td>#DIV/0!</td>\n",
       "      <td>August</td>\n",
       "      <td>2019</td>\n",
       "      <td>NaN</td>\n",
       "    </tr>\n",
       "    <tr>\n",
       "      <th>1696</th>\n",
       "      <td>2019-08-31</td>\n",
       "      <td>RAM</td>\n",
       "      <td>0</td>\n",
       "      <td>0</td>\n",
       "      <td>#DIV/0!</td>\n",
       "      <td>0.0</td>\n",
       "      <td>0.0</td>\n",
       "      <td>#DIV/0!</td>\n",
       "      <td>2</td>\n",
       "      <td>82</td>\n",
       "      <td>0.024390</td>\n",
       "      <td>0.0</td>\n",
       "      <td>0.0</td>\n",
       "      <td>0.0</td>\n",
       "      <td>0.0</td>\n",
       "      <td>NaN</td>\n",
       "      <td>#DIV/0!</td>\n",
       "      <td>August</td>\n",
       "      <td>2019</td>\n",
       "      <td>NaN</td>\n",
       "    </tr>\n",
       "    <tr>\n",
       "      <th>1697</th>\n",
       "      <td>2019-08-31</td>\n",
       "      <td>RCS PHONES</td>\n",
       "      <td>0</td>\n",
       "      <td>0</td>\n",
       "      <td>#DIV/0!</td>\n",
       "      <td>0.0</td>\n",
       "      <td>0.0</td>\n",
       "      <td>#DIV/0!</td>\n",
       "      <td>2</td>\n",
       "      <td>18</td>\n",
       "      <td>0.111111</td>\n",
       "      <td>0.0</td>\n",
       "      <td>0.0</td>\n",
       "      <td>0.0</td>\n",
       "      <td>0.0</td>\n",
       "      <td>NaN</td>\n",
       "      <td>#DIV/0!</td>\n",
       "      <td>August</td>\n",
       "      <td>2019</td>\n",
       "      <td>NaN</td>\n",
       "    </tr>\n",
       "    <tr>\n",
       "      <th>1698</th>\n",
       "      <td>2019-08-31</td>\n",
       "      <td>RIS</td>\n",
       "      <td>0</td>\n",
       "      <td>0</td>\n",
       "      <td>#DIV/0!</td>\n",
       "      <td>0.0</td>\n",
       "      <td>0.0</td>\n",
       "      <td>#DIV/0!</td>\n",
       "      <td>2</td>\n",
       "      <td>90</td>\n",
       "      <td>0.022222</td>\n",
       "      <td>0.0</td>\n",
       "      <td>0.0</td>\n",
       "      <td>0.0</td>\n",
       "      <td>0.0</td>\n",
       "      <td>NaN</td>\n",
       "      <td>#DIV/0!</td>\n",
       "      <td>August</td>\n",
       "      <td>2019</td>\n",
       "      <td>NaN</td>\n",
       "    </tr>\n",
       "    <tr>\n",
       "      <th>1699</th>\n",
       "      <td>2019-08-31</td>\n",
       "      <td>SCS</td>\n",
       "      <td>0</td>\n",
       "      <td>0</td>\n",
       "      <td>#DIV/0!</td>\n",
       "      <td>0.0</td>\n",
       "      <td>0.0</td>\n",
       "      <td>#DIV/0!</td>\n",
       "      <td>2</td>\n",
       "      <td>0</td>\n",
       "      <td>NaN</td>\n",
       "      <td>0.0</td>\n",
       "      <td>0.0</td>\n",
       "      <td>0.0</td>\n",
       "      <td>0.0</td>\n",
       "      <td>NaN</td>\n",
       "      <td>#DIV/0!</td>\n",
       "      <td>August</td>\n",
       "      <td>2019</td>\n",
       "      <td>NaN</td>\n",
       "    </tr>\n",
       "    <tr>\n",
       "      <th>1700</th>\n",
       "      <td>2019-08-31</td>\n",
       "      <td>WISE</td>\n",
       "      <td>0</td>\n",
       "      <td>0</td>\n",
       "      <td>#DIV/0!</td>\n",
       "      <td>0.0</td>\n",
       "      <td>0.0</td>\n",
       "      <td>#DIV/0!</td>\n",
       "      <td>2</td>\n",
       "      <td>298</td>\n",
       "      <td>0.006711</td>\n",
       "      <td>0.0</td>\n",
       "      <td>0.0</td>\n",
       "      <td>0.0</td>\n",
       "      <td>0.0</td>\n",
       "      <td>NaN</td>\n",
       "      <td>#DIV/0!</td>\n",
       "      <td>August</td>\n",
       "      <td>2019</td>\n",
       "      <td>NaN</td>\n",
       "    </tr>\n",
       "  </tbody>\n",
       "</table>\n",
       "</div>"
      ],
      "text/plain": [
       "           date                        bu  VOLUME - HANDLED  \\\n",
       "1694 2019-08-31       Client Transactions                 0   \n",
       "1695 2019-08-31  Participant Transactions                 0   \n",
       "1696 2019-08-31                       RAM                 0   \n",
       "1697 2019-08-31                RCS PHONES                 0   \n",
       "1698 2019-08-31                       RIS                 0   \n",
       "1699 2019-08-31                       SCS                 0   \n",
       "1700 2019-08-31                      WISE                 0   \n",
       "\n",
       "      TOTAL TIME - AHT (sec) AHT CALC  Sum of PRODUCTIVE TIME - ACTUAL (hrs)  \\\n",
       "1694                       0  #DIV/0!                                    0.0   \n",
       "1695                       0  #DIV/0!                                    0.0   \n",
       "1696                       0  #DIV/0!                                    0.0   \n",
       "1697                       0  #DIV/0!                                    0.0   \n",
       "1698                       0  #DIV/0!                                    0.0   \n",
       "1699                       0  #DIV/0!                                    0.0   \n",
       "1700                       0  #DIV/0!                                    0.0   \n",
       "\n",
       "      Sum of PRODUCTIVE TIME - SCHEDULED (hrs) Conformance CALC  Attrition  \\\n",
       "1694                                       0.0          #DIV/0!          2   \n",
       "1695                                       0.0          #DIV/0!          2   \n",
       "1696                                       0.0          #DIV/0!          2   \n",
       "1697                                       0.0          #DIV/0!          2   \n",
       "1698                                       0.0          #DIV/0!          2   \n",
       "1699                                       0.0          #DIV/0!          2   \n",
       "1700                                       0.0          #DIV/0!          2   \n",
       "\n",
       "      EOM Headcount  Attrition % CALC  System Outage (hrs)  Unplanned out  \\\n",
       "1694             43          0.046512                  0.0            0.0   \n",
       "1695             57          0.035088                  0.0            0.0   \n",
       "1696             82          0.024390                  0.0            0.0   \n",
       "1697             18          0.111111                  0.0            0.0   \n",
       "1698             90          0.022222                  0.0            0.0   \n",
       "1699              0               NaN                  0.0            0.0   \n",
       "1700            298          0.006711                  0.0            0.0   \n",
       "\n",
       "      Shrinkage  Regular Scheduled Time (no OT)  Unplanned out % CALC  \\\n",
       "1694        0.0                             0.0                   NaN   \n",
       "1695        0.0                             0.0                   NaN   \n",
       "1696        0.0                             0.0                   NaN   \n",
       "1697        0.0                             0.0                   NaN   \n",
       "1698        0.0                             0.0                   NaN   \n",
       "1699        0.0                             0.0                   NaN   \n",
       "1700        0.0                             0.0                   NaN   \n",
       "\n",
       "     Shrinkage % CALC   month  year  aht  \n",
       "1694          #DIV/0!  August  2019  NaN  \n",
       "1695          #DIV/0!  August  2019  NaN  \n",
       "1696          #DIV/0!  August  2019  NaN  \n",
       "1697          #DIV/0!  August  2019  NaN  \n",
       "1698          #DIV/0!  August  2019  NaN  \n",
       "1699          #DIV/0!  August  2019  NaN  \n",
       "1700          #DIV/0!  August  2019  NaN  "
      ]
     },
     "execution_count": 346,
     "metadata": {},
     "output_type": "execute_result"
    }
   ],
   "source": [
    "df[(df['date']=='2019-08-31')]"
   ]
  },
  {
   "cell_type": "code",
   "execution_count": 347,
   "metadata": {},
   "outputs": [],
   "source": [
    "def plot_bu(df, kpi, group='bu'):\n",
    "    for i, bu in enumerate(df[group].unique()):\n",
    "        plt.figure(figsize=(10,4), dpi=100)\n",
    "        ax = sns.barplot(data=df[df[group]==bu], palette='viridis', x='month', y=kpi, hue='year', errwidth=0)\n",
    "        plt.title(kpi+' - '+bu, y=1.08)\n",
    "        \n",
    "        for p in ax.patches:\n",
    "            width = p.get_width()\n",
    "            height = p.get_height()\n",
    "            x, y = p.get_xy()\n",
    "            if kpi in ['occupancy', 'online time']:\n",
    "                vals = ax.get_yticks()\n",
    "                ax.set_yticklabels(['{:,.0%}'.format(x) for x in vals])\n",
    "                ax.annotate(f'{height:.0%}', (x + width/2, y + height*1.02), \n",
    "                           ha = 'center', va = 'center', \n",
    "                           xytext = (1, 9), \n",
    "                           textcoords = 'offset points')\n",
    "            else:\n",
    "                ax.annotate(format(p.get_height(), '.1f'), \n",
    "                           (p.get_x() + p.get_width() / 2., p.get_height()), \n",
    "                           ha = 'center', va = 'center', \n",
    "                           xytext = (1, 9), \n",
    "                           textcoords = 'offset points')\n",
    "        plt.ylabel('')\n",
    "        plt.xlabel('')\n",
    "        ax.legend(loc='right', bbox_to_anchor=(1.12,0.5))\n",
    "        ax.spines['right'].set_visible(False)\n",
    "        ax.spines['top'].set_visible(False)\n",
    "        plt.tight_layout()\n",
    "        plt.show()"
   ]
  },
  {
   "cell_type": "code",
   "execution_count": 348,
   "metadata": {},
   "outputs": [
    {
     "data": {
      "image/png": "[encoded data removed]",
      "text/plain": [
       "<Figure size 576x432 with 1 Axes>"
      ]
     },
     "metadata": {
      "needs_background": "light"
     },
     "output_type": "display_data"
    }
   ],
   "source": [
    "plt.figure(figsize=(8,6))\n",
    "ax = sns.boxplot(x='Attrition % CALC', y=\"bu\", hue=\"year\",\n",
    "                 data=df, palette=\"Set2\")\n",
    "plt.tight_layout()"
   ]
  },
  {
   "cell_type": "markdown",
   "metadata": {},
   "source": [
    "# 4. Mean conformance (%)"
   ]
  },
  {
   "cell_type": "code",
   "execution_count": 349,
   "metadata": {},
   "outputs": [
    {
     "data": {
      "text/plain": [
       "count    2393.000000\n",
       "mean        0.939399\n",
       "std         0.063872\n",
       "min         0.000000\n",
       "25%         0.922599\n",
       "50%         0.954189\n",
       "75%         0.972888\n",
       "max         1.130215\n",
       "Name: Conformance CALC, dtype: float64"
      ]
     },
     "execution_count": 349,
     "metadata": {},
     "output_type": "execute_result"
    }
   ],
   "source": [
    "df['Conformance CALC'] = pd.to_numeric(df['Conformance CALC'].str.replace('%', ''), errors='coerce')\n",
    "df['Conformance CALC'].describe()"
   ]
  },
  {
   "cell_type": "code",
   "execution_count": 350,
   "metadata": {},
   "outputs": [
    {
     "data": {
      "image/png": "[encoded data removed]",
      "text/plain": [
       "<Figure size 576x432 with 1 Axes>"
      ]
     },
     "metadata": {
      "needs_background": "light"
     },
     "output_type": "display_data"
    }
   ],
   "source": [
    "plt.figure(figsize=(8,6))\n",
    "ax = sns.boxplot(x='Conformance CALC', y=\"bu\", hue=\"year\",\n",
    "                 data=df, palette=\"Set1\")\n",
    "plt.tight_layout()"
   ]
  },
  {
   "cell_type": "markdown",
   "metadata": {},
   "source": [
    "# 5. Mean monthly system outage (hours)"
   ]
  },
  {
   "cell_type": "code",
   "execution_count": 351,
   "metadata": {},
   "outputs": [
    {
     "data": {
      "text/plain": [
       "count    4921.000000\n",
       "mean        2.369369\n",
       "std        12.400305\n",
       "min         0.000000\n",
       "25%         0.000000\n",
       "50%         0.000000\n",
       "75%         0.000000\n",
       "max       455.266667\n",
       "Name: System Outage (hrs), dtype: float64"
      ]
     },
     "execution_count": 351,
     "metadata": {},
     "output_type": "execute_result"
    }
   ],
   "source": [
    "df['System Outage (hrs)'].describe()"
   ]
  },
  {
   "cell_type": "code",
   "execution_count": 352,
   "metadata": {},
   "outputs": [
    {
     "data": {
      "image/png": "[encoded data removed]",
      "text/plain": [
       "<Figure size 576x432 with 1 Axes>"
      ]
     },
     "metadata": {
      "needs_background": "light"
     },
     "output_type": "display_data"
    }
   ],
   "source": [
    "plt.figure(figsize=(8,6))\n",
    "ax = sns.boxplot(x='System Outage (hrs)', y=\"bu\", hue=\"year\",\n",
    "                 data=df, palette=\"Set3\")\n",
    "plt.tight_layout()"
   ]
  },
  {
   "cell_type": "markdown",
   "metadata": {},
   "source": [
    "# 6. Mean shrinkage (%)"
   ]
  },
  {
   "cell_type": "code",
   "execution_count": 353,
   "metadata": {},
   "outputs": [
    {
     "data": {
      "text/plain": [
       "count    3483.000000\n",
       "mean       31.641975\n",
       "std        10.368796\n",
       "min         0.000000\n",
       "25%        26.000000\n",
       "50%        31.000000\n",
       "75%        37.000000\n",
       "max       100.000000\n",
       "Name: Shrinkage % CALC, dtype: float64"
      ]
     },
     "execution_count": 353,
     "metadata": {},
     "output_type": "execute_result"
    }
   ],
   "source": [
    "df['Shrinkage % CALC'] = pd.to_numeric(df['Shrinkage % CALC'].str.replace('%', ''), errors='coerce')\n",
    "df['Shrinkage % CALC'].describe()"
   ]
  },
  {
   "cell_type": "code",
   "execution_count": 354,
   "metadata": {},
   "outputs": [
    {
     "data": {
      "image/png": "[encoded data removed]",
      "text/plain": [
       "<Figure size 576x432 with 1 Axes>"
      ]
     },
     "metadata": {
      "needs_background": "light"
     },
     "output_type": "display_data"
    }
   ],
   "source": [
    "plt.figure(figsize=(8,6))\n",
    "ax = sns.boxplot(x='Shrinkage % CALC', y=\"bu\", hue=\"year\",\n",
    "                 data=df, palette=\"Set3\")\n",
    "plt.tight_layout()"
   ]
  },
  {
   "cell_type": "code",
   "execution_count": 355,
   "metadata": {},
   "outputs": [],
   "source": [
    "df.to_csv('wfh3_weekends_clean.csv', index=False)"
   ]
  },
  {
   "cell_type": "code",
   "execution_count": null,
   "metadata": {},
   "outputs": [],
   "source": []
  }
 ],
 "metadata": {
  "kernelspec": {
   "display_name": "Python 3",
   "language": "python",
   "name": "python3"
  },
  "language_info": {
   "codemirror_mode": {
    "name": "ipython",
    "version": 3
   },
   "file_extension": ".py",
   "mimetype": "text/x-python",
   "name": "python",
   "nbconvert_exporter": "python",
   "pygments_lexer": "ipython3",
   "version": "3.7.6"
  }
 },
 "nbformat": 4,
 "nbformat_minor": 4
}
