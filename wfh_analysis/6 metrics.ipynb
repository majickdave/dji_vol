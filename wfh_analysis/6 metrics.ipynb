{
 "cells": [
  {
   "cell_type": "markdown",
   "metadata": {},
   "source": [
    "# Analysis of Employee performance from 2019 to 2020\n",
    "6 Metrics:\n",
    "\n",
    "1. Aht (seconds/call)\n",
    "2. Unplanned out (%)\n",
    "3. Mean attrition (%)\n",
    "4. Mean conformance (%)\n",
    "5. Mean monthly system outage (hours)\n",
    "6. Mean shrinkage (%)"
   ]
  },
  {
   "cell_type": "markdown",
   "metadata": {},
   "source": [
    "# Load Data"
   ]
  },
  {
   "cell_type": "code",
   "execution_count": 414,
   "metadata": {
    "scrolled": true
   },
   "outputs": [
    {
     "data": {
      "text/html": [
       "<div>\n",
       "<style scoped>\n",
       "    .dataframe tbody tr th:only-of-type {\n",
       "        vertical-align: middle;\n",
       "    }\n",
       "\n",
       "    .dataframe tbody tr th {\n",
       "        vertical-align: top;\n",
       "    }\n",
       "\n",
       "    .dataframe thead th {\n",
       "        text-align: right;\n",
       "    }\n",
       "</style>\n",
       "<table border=\"1\" class=\"dataframe\">\n",
       "  <thead>\n",
       "    <tr style=\"text-align: right;\">\n",
       "      <th></th>\n",
       "      <th>date</th>\n",
       "      <th>bu</th>\n",
       "      <th>VOLUME - HANDLED</th>\n",
       "      <th>TOTAL TIME - AHT (sec)</th>\n",
       "      <th>AHT CALC</th>\n",
       "      <th>Sum of PRODUCTIVE TIME - ACTUAL (hrs)</th>\n",
       "      <th>Sum of PRODUCTIVE TIME - SCHEDULED (hrs)</th>\n",
       "      <th>Conformance CALC</th>\n",
       "      <th>Attrition</th>\n",
       "      <th>EOM Headcount</th>\n",
       "      <th>Attrition % CALC</th>\n",
       "      <th>System Outage (hrs)</th>\n",
       "      <th>Unplanned out</th>\n",
       "      <th>Shrinkage</th>\n",
       "      <th>Regular Scheduled Time (no OT)</th>\n",
       "      <th>Unplanned out % CALC</th>\n",
       "      <th>Shrinkage % CALC</th>\n",
       "      <th>month</th>\n",
       "      <th>year</th>\n",
       "      <th>aht</th>\n",
       "    </tr>\n",
       "  </thead>\n",
       "  <tbody>\n",
       "    <tr>\n",
       "      <th>0</th>\n",
       "      <td>2019-01-01</td>\n",
       "      <td>Client Transactions</td>\n",
       "      <td>290</td>\n",
       "      <td>0</td>\n",
       "      <td>0</td>\n",
       "      <td>0.000000</td>\n",
       "      <td>0.0</td>\n",
       "      <td>#DIV/0!</td>\n",
       "      <td>0</td>\n",
       "      <td>0</td>\n",
       "      <td>NaN</td>\n",
       "      <td>0.0</td>\n",
       "      <td>0.0</td>\n",
       "      <td>0.00</td>\n",
       "      <td>0.00</td>\n",
       "      <td>#DIV/0!</td>\n",
       "      <td>#DIV/0!</td>\n",
       "      <td>January</td>\n",
       "      <td>2019</td>\n",
       "      <td>0.000000</td>\n",
       "    </tr>\n",
       "    <tr>\n",
       "      <th>1</th>\n",
       "      <td>2019-01-01</td>\n",
       "      <td>Participant Transactions</td>\n",
       "      <td>429</td>\n",
       "      <td>0</td>\n",
       "      <td>0</td>\n",
       "      <td>0.000000</td>\n",
       "      <td>0.0</td>\n",
       "      <td>#DIV/0!</td>\n",
       "      <td>0</td>\n",
       "      <td>0</td>\n",
       "      <td>NaN</td>\n",
       "      <td>0.0</td>\n",
       "      <td>0.0</td>\n",
       "      <td>0.00</td>\n",
       "      <td>0.00</td>\n",
       "      <td>#DIV/0!</td>\n",
       "      <td>#DIV/0!</td>\n",
       "      <td>January</td>\n",
       "      <td>2019</td>\n",
       "      <td>0.000000</td>\n",
       "    </tr>\n",
       "    <tr>\n",
       "      <th>2</th>\n",
       "      <td>2019-01-01</td>\n",
       "      <td>RAM</td>\n",
       "      <td>1072</td>\n",
       "      <td>1315240</td>\n",
       "      <td>1226.902985</td>\n",
       "      <td>360.443889</td>\n",
       "      <td>507.5</td>\n",
       "      <td>0.710234264</td>\n",
       "      <td>0</td>\n",
       "      <td>0</td>\n",
       "      <td>NaN</td>\n",
       "      <td>0.0</td>\n",
       "      <td>0.0</td>\n",
       "      <td>115.25</td>\n",
       "      <td>656.25</td>\n",
       "      <td>0%</td>\n",
       "      <td>18%</td>\n",
       "      <td>January</td>\n",
       "      <td>2019</td>\n",
       "      <td>1226.902985</td>\n",
       "    </tr>\n",
       "    <tr>\n",
       "      <th>3</th>\n",
       "      <td>2019-01-01</td>\n",
       "      <td>RCS PHONES</td>\n",
       "      <td>0</td>\n",
       "      <td>0</td>\n",
       "      <td>#DIV/0!</td>\n",
       "      <td>0.000000</td>\n",
       "      <td>0.0</td>\n",
       "      <td>#DIV/0!</td>\n",
       "      <td>0</td>\n",
       "      <td>0</td>\n",
       "      <td>NaN</td>\n",
       "      <td>0.0</td>\n",
       "      <td>0.0</td>\n",
       "      <td>0.00</td>\n",
       "      <td>0.00</td>\n",
       "      <td>#DIV/0!</td>\n",
       "      <td>#DIV/0!</td>\n",
       "      <td>January</td>\n",
       "      <td>2019</td>\n",
       "      <td>NaN</td>\n",
       "    </tr>\n",
       "    <tr>\n",
       "      <th>4</th>\n",
       "      <td>2019-01-01</td>\n",
       "      <td>RIS</td>\n",
       "      <td>3</td>\n",
       "      <td>105</td>\n",
       "      <td>35</td>\n",
       "      <td>0.000000</td>\n",
       "      <td>0.0</td>\n",
       "      <td>#DIV/0!</td>\n",
       "      <td>0</td>\n",
       "      <td>0</td>\n",
       "      <td>NaN</td>\n",
       "      <td>0.0</td>\n",
       "      <td>0.0</td>\n",
       "      <td>0.00</td>\n",
       "      <td>0.00</td>\n",
       "      <td>#DIV/0!</td>\n",
       "      <td>#DIV/0!</td>\n",
       "      <td>January</td>\n",
       "      <td>2019</td>\n",
       "      <td>35.000000</td>\n",
       "    </tr>\n",
       "  </tbody>\n",
       "</table>\n",
       "</div>"
      ],
      "text/plain": [
       "        date                        bu  VOLUME - HANDLED  \\\n",
       "0 2019-01-01       Client Transactions               290   \n",
       "1 2019-01-01  Participant Transactions               429   \n",
       "2 2019-01-01                       RAM              1072   \n",
       "3 2019-01-01                RCS PHONES                 0   \n",
       "4 2019-01-01                       RIS                 3   \n",
       "\n",
       "   TOTAL TIME - AHT (sec)     AHT CALC  Sum of PRODUCTIVE TIME - ACTUAL (hrs)  \\\n",
       "0                       0            0                               0.000000   \n",
       "1                       0            0                               0.000000   \n",
       "2                 1315240  1226.902985                             360.443889   \n",
       "3                       0      #DIV/0!                               0.000000   \n",
       "4                     105           35                               0.000000   \n",
       "\n",
       "   Sum of PRODUCTIVE TIME - SCHEDULED (hrs) Conformance CALC  Attrition  \\\n",
       "0                                       0.0          #DIV/0!          0   \n",
       "1                                       0.0          #DIV/0!          0   \n",
       "2                                     507.5      0.710234264          0   \n",
       "3                                       0.0          #DIV/0!          0   \n",
       "4                                       0.0          #DIV/0!          0   \n",
       "\n",
       "   EOM Headcount  Attrition % CALC  System Outage (hrs)  Unplanned out  \\\n",
       "0              0               NaN                  0.0            0.0   \n",
       "1              0               NaN                  0.0            0.0   \n",
       "2              0               NaN                  0.0            0.0   \n",
       "3              0               NaN                  0.0            0.0   \n",
       "4              0               NaN                  0.0            0.0   \n",
       "\n",
       "   Shrinkage  Regular Scheduled Time (no OT) Unplanned out % CALC  \\\n",
       "0       0.00                            0.00              #DIV/0!   \n",
       "1       0.00                            0.00              #DIV/0!   \n",
       "2     115.25                          656.25                   0%   \n",
       "3       0.00                            0.00              #DIV/0!   \n",
       "4       0.00                            0.00              #DIV/0!   \n",
       "\n",
       "  Shrinkage % CALC    month  year          aht  \n",
       "0          #DIV/0!  January  2019     0.000000  \n",
       "1          #DIV/0!  January  2019     0.000000  \n",
       "2              18%  January  2019  1226.902985  \n",
       "3          #DIV/0!  January  2019          NaN  \n",
       "4          #DIV/0!  January  2019    35.000000  "
      ]
     },
     "execution_count": 414,
     "metadata": {},
     "output_type": "execute_result"
    }
   ],
   "source": [
    "import pandas as pd\n",
    "import seaborn as sns\n",
    "import matplotlib.pyplot as plt\n",
    "import matplotlib as mpl\n",
    "\n",
    "df = pd.read_csv('wfh3.csv')\n",
    "df.rename(columns={'ACTIVITY DATE': 'date', 'BUSINESS UNIT': 'bu'}, inplace=True)\n",
    "df['date'] = pd.to_datetime(df['date'])\n",
    "df['month'] = df['date'].dt.month_name()\n",
    "df['year'] = df['date'].dt.year\n",
    "df['aht'] = df['TOTAL TIME - AHT (sec)'] / df['VOLUME - HANDLED']\n",
    "\n",
    "df.head()"
   ]
  },
  {
   "cell_type": "markdown",
   "metadata": {},
   "source": [
    "# Join Attrition Monthly to daily performance"
   ]
  },
  {
   "cell_type": "code",
   "execution_count": 415,
   "metadata": {},
   "outputs": [
    {
     "data": {
      "text/html": [
       "<div>\n",
       "<style scoped>\n",
       "    .dataframe tbody tr th:only-of-type {\n",
       "        vertical-align: middle;\n",
       "    }\n",
       "\n",
       "    .dataframe tbody tr th {\n",
       "        vertical-align: top;\n",
       "    }\n",
       "\n",
       "    .dataframe thead th {\n",
       "        text-align: right;\n",
       "    }\n",
       "</style>\n",
       "<table border=\"1\" class=\"dataframe\">\n",
       "  <thead>\n",
       "    <tr style=\"text-align: right;\">\n",
       "      <th></th>\n",
       "      <th>bu</th>\n",
       "      <th>month</th>\n",
       "      <th>year</th>\n",
       "      <th>Attrition %</th>\n",
       "    </tr>\n",
       "  </thead>\n",
       "  <tbody>\n",
       "    <tr>\n",
       "      <th>0</th>\n",
       "      <td>Client Transactions</td>\n",
       "      <td>January</td>\n",
       "      <td>2019</td>\n",
       "      <td>0.042553</td>\n",
       "    </tr>\n",
       "    <tr>\n",
       "      <th>1</th>\n",
       "      <td>Participant Transactions</td>\n",
       "      <td>January</td>\n",
       "      <td>2019</td>\n",
       "      <td>0.033898</td>\n",
       "    </tr>\n",
       "    <tr>\n",
       "      <th>2</th>\n",
       "      <td>RAM</td>\n",
       "      <td>January</td>\n",
       "      <td>2019</td>\n",
       "      <td>0.022472</td>\n",
       "    </tr>\n",
       "    <tr>\n",
       "      <th>3</th>\n",
       "      <td>RCS PHONES</td>\n",
       "      <td>January</td>\n",
       "      <td>2019</td>\n",
       "      <td>0.100000</td>\n",
       "    </tr>\n",
       "    <tr>\n",
       "      <th>4</th>\n",
       "      <td>RIS</td>\n",
       "      <td>January</td>\n",
       "      <td>2019</td>\n",
       "      <td>0.015873</td>\n",
       "    </tr>\n",
       "  </tbody>\n",
       "</table>\n",
       "</div>"
      ],
      "text/plain": [
       "                         bu    month  year  Attrition %\n",
       "0       Client Transactions  January  2019     0.042553\n",
       "1  Participant Transactions  January  2019     0.033898\n",
       "2                       RAM  January  2019     0.022472\n",
       "3                RCS PHONES  January  2019     0.100000\n",
       "4                       RIS  January  2019     0.015873"
      ]
     },
     "execution_count": 415,
     "metadata": {},
     "output_type": "execute_result"
    }
   ],
   "source": [
    "att = pd.read_csv('attrition_clean.csv', index_col=0)\n",
    "att.rename(columns={'BUSINESS UNIT':'bu'}, inplace=True)\n",
    "att[['bu','month','year','Attrition %']].head()"
   ]
  },
  {
   "cell_type": "code",
   "execution_count": 416,
   "metadata": {},
   "outputs": [],
   "source": [
    "df = df.merge(att, on=['bu', 'month', 'year'], how='left')"
   ]
  },
  {
   "cell_type": "code",
   "execution_count": 417,
   "metadata": {},
   "outputs": [],
   "source": [
    "df = df[['date', 'month', 'year', \n",
    "         'bu', 'Conformance CALC', 'System Outage (hrs)', \n",
    "         'Unplanned out % CALC', 'Shrinkage % CALC', 'aht', 'Attrition %']]"
   ]
  },
  {
   "cell_type": "code",
   "execution_count": 418,
   "metadata": {},
   "outputs": [],
   "source": [
    "df = df.rename(columns={'Conformance CALC': 'Conformance %', \n",
    "                  'Unplanned out % CALC':'Unplanned out %',\n",
    "                  'Shrinkage % CALC':'Shrinkage %'})"
   ]
  },
  {
   "cell_type": "markdown",
   "metadata": {},
   "source": [
    "# REMOVE WEEKENDS"
   ]
  },
  {
   "cell_type": "code",
   "execution_count": 419,
   "metadata": {},
   "outputs": [],
   "source": [
    "df = df[~df['date'].dt.weekday.isin([5,6])]"
   ]
  },
  {
   "cell_type": "markdown",
   "metadata": {},
   "source": [
    "# 1. AHT"
   ]
  },
  {
   "cell_type": "code",
   "execution_count": 420,
   "metadata": {},
   "outputs": [
    {
     "data": {
      "image/png": "[encoded data removed]",
      "text/plain": [
       "<Figure size 576x432 with 1 Axes>"
      ]
     },
     "metadata": {
      "needs_background": "light"
     },
     "output_type": "display_data"
    }
   ],
   "source": [
    "import seaborn as sns\n",
    "\n",
    "plt.figure(figsize=(8,6))\n",
    "ax = sns.boxplot(x=\"aht\", y=\"bu\", hue=\"year\",\n",
    "                 data=df, palette=\"Set3\")\n",
    "plt.title('AHT distribution bu business unit and year')\n",
    "plt.tight_layout()"
   ]
  },
  {
   "cell_type": "markdown",
   "metadata": {},
   "source": [
    "# 2. Unplanned Out (%)"
   ]
  },
  {
   "cell_type": "code",
   "execution_count": 421,
   "metadata": {},
   "outputs": [
    {
     "data": {
      "image/png": "[encoded data removed]",
      "text/plain": [
       "<Figure size 576x432 with 1 Axes>"
      ]
     },
     "metadata": {
      "needs_background": "light"
     },
     "output_type": "display_data"
    }
   ],
   "source": [
    "df.loc[:,'Unplanned out %'] = pd.to_numeric(df['Unplanned out %'].str.replace('%', ''), errors='coerce')/100\n",
    "\n",
    "plt.figure(figsize=(8,6))\n",
    "ax = sns.boxplot(x='Unplanned out %', y=\"bu\", hue=\"year\",\n",
    "                 data=df, palette=\"Set2\")\n",
    "plt.tight_layout()"
   ]
  },
  {
   "cell_type": "markdown",
   "metadata": {},
   "source": [
    "# 3. Mean attrition (%)"
   ]
  },
  {
   "cell_type": "code",
   "execution_count": 424,
   "metadata": {},
   "outputs": [
    {
     "data": {
      "image/png": "[encoded data removed]",
      "text/plain": [
       "<Figure size 576x432 with 1 Axes>"
      ]
     },
     "metadata": {
      "needs_background": "light"
     },
     "output_type": "display_data"
    }
   ],
   "source": [
    "plt.figure(figsize=(8,6))\n",
    "ax = sns.boxplot(x='Attrition %', y=\"bu\", hue=\"year\",\n",
    "                 data=df, palette=\"Set2\")\n",
    "plt.tight_layout()"
   ]
  },
  {
   "cell_type": "markdown",
   "metadata": {},
   "source": [
    "# 4. Mean conformance (%)"
   ]
  },
  {
   "cell_type": "code",
   "execution_count": 426,
   "metadata": {},
   "outputs": [
    {
     "data": {
      "text/plain": [
       "count    2393.000000\n",
       "mean        0.939399\n",
       "std         0.063872\n",
       "min         0.000000\n",
       "25%         0.922599\n",
       "50%         0.954189\n",
       "75%         0.972888\n",
       "max         1.130215\n",
       "Name: Conformance %, dtype: float64"
      ]
     },
     "execution_count": 426,
     "metadata": {},
     "output_type": "execute_result"
    }
   ],
   "source": [
    "df['Conformance %'] = pd.to_numeric(df['Conformance %'].str.replace('%', ''), errors='coerce')\n",
    "df['Conformance %'].describe()"
   ]
  },
  {
   "cell_type": "code",
   "execution_count": 428,
   "metadata": {},
   "outputs": [
    {
     "data": {
      "image/png": "[encoded data removed]",
      "text/plain": [
       "<Figure size 576x432 with 1 Axes>"
      ]
     },
     "metadata": {
      "needs_background": "light"
     },
     "output_type": "display_data"
    }
   ],
   "source": [
    "plt.figure(figsize=(8,6))\n",
    "ax = sns.boxplot(x='Conformance %', y=\"bu\", hue=\"year\",\n",
    "                 data=df, palette=\"Set1\")\n",
    "plt.tight_layout()"
   ]
  },
  {
   "cell_type": "markdown",
   "metadata": {},
   "source": [
    "# 5. Mean monthly system outage (hours)"
   ]
  },
  {
   "cell_type": "code",
   "execution_count": 429,
   "metadata": {},
   "outputs": [
    {
     "data": {
      "text/plain": [
       "count    3521.000000\n",
       "mean        3.311465\n",
       "std        14.553505\n",
       "min         0.000000\n",
       "25%         0.000000\n",
       "50%         0.000000\n",
       "75%         1.000000\n",
       "max       455.266667\n",
       "Name: System Outage (hrs), dtype: float64"
      ]
     },
     "execution_count": 429,
     "metadata": {},
     "output_type": "execute_result"
    }
   ],
   "source": [
    "df['System Outage (hrs)'].describe()"
   ]
  },
  {
   "cell_type": "code",
   "execution_count": 430,
   "metadata": {},
   "outputs": [
    {
     "data": {
      "image/png": "[encoded data removed]",
      "text/plain": [
       "<Figure size 576x432 with 1 Axes>"
      ]
     },
     "metadata": {
      "needs_background": "light"
     },
     "output_type": "display_data"
    }
   ],
   "source": [
    "plt.figure(figsize=(8,6))\n",
    "ax = sns.boxplot(x='System Outage (hrs)', y=\"bu\", hue=\"year\",\n",
    "                 data=df, palette=\"Set3\")\n",
    "plt.tight_layout()"
   ]
  },
  {
   "cell_type": "markdown",
   "metadata": {},
   "source": [
    "# 6. Mean shrinkage (%)"
   ]
  },
  {
   "cell_type": "code",
   "execution_count": 431,
   "metadata": {},
   "outputs": [
    {
     "data": {
      "text/plain": [
       "count    3371.000000\n",
       "mean       32.334026\n",
       "std         9.198082\n",
       "min         6.000000\n",
       "25%        26.000000\n",
       "50%        31.000000\n",
       "75%        37.000000\n",
       "max       100.000000\n",
       "Name: Shrinkage %, dtype: float64"
      ]
     },
     "execution_count": 431,
     "metadata": {},
     "output_type": "execute_result"
    }
   ],
   "source": [
    "df['Shrinkage %'] = pd.to_numeric(df['Shrinkage %'].str.replace('%', ''), errors='coerce')\n",
    "df['Shrinkage %'].describe()"
   ]
  },
  {
   "cell_type": "code",
   "execution_count": 433,
   "metadata": {
    "scrolled": false
   },
   "outputs": [
    {
     "data": {
      "image/png": "[encoded data removed]",
      "text/plain": [
       "<Figure size 576x432 with 1 Axes>"
      ]
     },
     "metadata": {
      "needs_background": "light"
     },
     "output_type": "display_data"
    }
   ],
   "source": [
    "plt.figure(figsize=(8,6))\n",
    "ax = sns.boxplot(x='Shrinkage %', y=\"bu\", hue=\"year\",\n",
    "                 data=df, palette=\"Set3\")\n",
    "plt.tight_layout()"
   ]
  },
  {
   "cell_type": "code",
   "execution_count": 435,
   "metadata": {},
   "outputs": [],
   "source": [
    "df.to_csv('wfh3_noweekends_clean.csv', index=False)"
   ]
  },
  {
   "cell_type": "code",
   "execution_count": 436,
   "metadata": {},
   "outputs": [
    {
     "data": {
      "text/html": [
       "<div>\n",
       "<style scoped>\n",
       "    .dataframe tbody tr th:only-of-type {\n",
       "        vertical-align: middle;\n",
       "    }\n",
       "\n",
       "    .dataframe tbody tr th {\n",
       "        vertical-align: top;\n",
       "    }\n",
       "\n",
       "    .dataframe thead th {\n",
       "        text-align: right;\n",
       "    }\n",
       "</style>\n",
       "<table border=\"1\" class=\"dataframe\">\n",
       "  <thead>\n",
       "    <tr style=\"text-align: right;\">\n",
       "      <th></th>\n",
       "      <th>date</th>\n",
       "      <th>month</th>\n",
       "      <th>year</th>\n",
       "      <th>bu</th>\n",
       "      <th>Conformance %</th>\n",
       "      <th>System Outage (hrs)</th>\n",
       "      <th>Unplanned out %</th>\n",
       "      <th>Shrinkage %</th>\n",
       "      <th>aht</th>\n",
       "      <th>Attrition %</th>\n",
       "    </tr>\n",
       "  </thead>\n",
       "  <tbody>\n",
       "    <tr>\n",
       "      <th>0</th>\n",
       "      <td>2019-01-01</td>\n",
       "      <td>January</td>\n",
       "      <td>2019</td>\n",
       "      <td>Client Transactions</td>\n",
       "      <td>NaN</td>\n",
       "      <td>0.0</td>\n",
       "      <td>NaN</td>\n",
       "      <td>NaN</td>\n",
       "      <td>0.000000</td>\n",
       "      <td>0.042553</td>\n",
       "    </tr>\n",
       "    <tr>\n",
       "      <th>1</th>\n",
       "      <td>2019-01-01</td>\n",
       "      <td>January</td>\n",
       "      <td>2019</td>\n",
       "      <td>Participant Transactions</td>\n",
       "      <td>NaN</td>\n",
       "      <td>0.0</td>\n",
       "      <td>NaN</td>\n",
       "      <td>NaN</td>\n",
       "      <td>0.000000</td>\n",
       "      <td>0.033898</td>\n",
       "    </tr>\n",
       "    <tr>\n",
       "      <th>2</th>\n",
       "      <td>2019-01-01</td>\n",
       "      <td>January</td>\n",
       "      <td>2019</td>\n",
       "      <td>RAM</td>\n",
       "      <td>0.710234</td>\n",
       "      <td>0.0</td>\n",
       "      <td>0.0</td>\n",
       "      <td>18.0</td>\n",
       "      <td>1226.902985</td>\n",
       "      <td>0.022472</td>\n",
       "    </tr>\n",
       "    <tr>\n",
       "      <th>3</th>\n",
       "      <td>2019-01-01</td>\n",
       "      <td>January</td>\n",
       "      <td>2019</td>\n",
       "      <td>RCS PHONES</td>\n",
       "      <td>NaN</td>\n",
       "      <td>0.0</td>\n",
       "      <td>NaN</td>\n",
       "      <td>NaN</td>\n",
       "      <td>NaN</td>\n",
       "      <td>0.100000</td>\n",
       "    </tr>\n",
       "    <tr>\n",
       "      <th>4</th>\n",
       "      <td>2019-01-01</td>\n",
       "      <td>January</td>\n",
       "      <td>2019</td>\n",
       "      <td>RIS</td>\n",
       "      <td>NaN</td>\n",
       "      <td>0.0</td>\n",
       "      <td>NaN</td>\n",
       "      <td>NaN</td>\n",
       "      <td>35.000000</td>\n",
       "      <td>0.015873</td>\n",
       "    </tr>\n",
       "    <tr>\n",
       "      <th>...</th>\n",
       "      <td>...</td>\n",
       "      <td>...</td>\n",
       "      <td>...</td>\n",
       "      <td>...</td>\n",
       "      <td>...</td>\n",
       "      <td>...</td>\n",
       "      <td>...</td>\n",
       "      <td>...</td>\n",
       "      <td>...</td>\n",
       "      <td>...</td>\n",
       "    </tr>\n",
       "    <tr>\n",
       "      <th>4916</th>\n",
       "      <td>2020-12-03</td>\n",
       "      <td>December</td>\n",
       "      <td>2020</td>\n",
       "      <td>RAM</td>\n",
       "      <td>NaN</td>\n",
       "      <td>0.0</td>\n",
       "      <td>NaN</td>\n",
       "      <td>NaN</td>\n",
       "      <td>NaN</td>\n",
       "      <td>NaN</td>\n",
       "    </tr>\n",
       "    <tr>\n",
       "      <th>4917</th>\n",
       "      <td>2020-12-03</td>\n",
       "      <td>December</td>\n",
       "      <td>2020</td>\n",
       "      <td>RCS PHONES</td>\n",
       "      <td>NaN</td>\n",
       "      <td>0.0</td>\n",
       "      <td>NaN</td>\n",
       "      <td>NaN</td>\n",
       "      <td>NaN</td>\n",
       "      <td>NaN</td>\n",
       "    </tr>\n",
       "    <tr>\n",
       "      <th>4918</th>\n",
       "      <td>2020-12-03</td>\n",
       "      <td>December</td>\n",
       "      <td>2020</td>\n",
       "      <td>RIS</td>\n",
       "      <td>NaN</td>\n",
       "      <td>0.0</td>\n",
       "      <td>NaN</td>\n",
       "      <td>NaN</td>\n",
       "      <td>NaN</td>\n",
       "      <td>NaN</td>\n",
       "    </tr>\n",
       "    <tr>\n",
       "      <th>4919</th>\n",
       "      <td>2020-12-03</td>\n",
       "      <td>December</td>\n",
       "      <td>2020</td>\n",
       "      <td>SCS</td>\n",
       "      <td>NaN</td>\n",
       "      <td>0.0</td>\n",
       "      <td>NaN</td>\n",
       "      <td>NaN</td>\n",
       "      <td>NaN</td>\n",
       "      <td>NaN</td>\n",
       "    </tr>\n",
       "    <tr>\n",
       "      <th>4920</th>\n",
       "      <td>2020-12-03</td>\n",
       "      <td>December</td>\n",
       "      <td>2020</td>\n",
       "      <td>WISE</td>\n",
       "      <td>NaN</td>\n",
       "      <td>0.0</td>\n",
       "      <td>NaN</td>\n",
       "      <td>NaN</td>\n",
       "      <td>NaN</td>\n",
       "      <td>NaN</td>\n",
       "    </tr>\n",
       "  </tbody>\n",
       "</table>\n",
       "<p>3521 rows × 10 columns</p>\n",
       "</div>"
      ],
      "text/plain": [
       "           date     month  year                        bu  Conformance %  \\\n",
       "0    2019-01-01   January  2019       Client Transactions            NaN   \n",
       "1    2019-01-01   January  2019  Participant Transactions            NaN   \n",
       "2    2019-01-01   January  2019                       RAM       0.710234   \n",
       "3    2019-01-01   January  2019                RCS PHONES            NaN   \n",
       "4    2019-01-01   January  2019                       RIS            NaN   \n",
       "...         ...       ...   ...                       ...            ...   \n",
       "4916 2020-12-03  December  2020                       RAM            NaN   \n",
       "4917 2020-12-03  December  2020                RCS PHONES            NaN   \n",
       "4918 2020-12-03  December  2020                       RIS            NaN   \n",
       "4919 2020-12-03  December  2020                       SCS            NaN   \n",
       "4920 2020-12-03  December  2020                      WISE            NaN   \n",
       "\n",
       "      System Outage (hrs)  Unplanned out %  Shrinkage %          aht  \\\n",
       "0                     0.0              NaN          NaN     0.000000   \n",
       "1                     0.0              NaN          NaN     0.000000   \n",
       "2                     0.0              0.0         18.0  1226.902985   \n",
       "3                     0.0              NaN          NaN          NaN   \n",
       "4                     0.0              NaN          NaN    35.000000   \n",
       "...                   ...              ...          ...          ...   \n",
       "4916                  0.0              NaN          NaN          NaN   \n",
       "4917                  0.0              NaN          NaN          NaN   \n",
       "4918                  0.0              NaN          NaN          NaN   \n",
       "4919                  0.0              NaN          NaN          NaN   \n",
       "4920                  0.0              NaN          NaN          NaN   \n",
       "\n",
       "      Attrition %  \n",
       "0        0.042553  \n",
       "1        0.033898  \n",
       "2        0.022472  \n",
       "3        0.100000  \n",
       "4        0.015873  \n",
       "...           ...  \n",
       "4916          NaN  \n",
       "4917          NaN  \n",
       "4918          NaN  \n",
       "4919          NaN  \n",
       "4920          NaN  \n",
       "\n",
       "[3521 rows x 10 columns]"
      ]
     },
     "execution_count": 436,
     "metadata": {},
     "output_type": "execute_result"
    }
   ],
   "source": [
    "df"
   ]
  },
  {
   "cell_type": "code",
   "execution_count": null,
   "metadata": {},
   "outputs": [],
   "source": []
  }
 ],
 "metadata": {
  "kernelspec": {
   "display_name": "Python 3",
   "language": "python",
   "name": "python3"
  },
  "language_info": {
   "codemirror_mode": {
    "name": "ipython",
    "version": 3
   },
   "file_extension": ".py",
   "mimetype": "text/x-python",
   "name": "python",
   "nbconvert_exporter": "python",
   "pygments_lexer": "ipython3",
   "version": "3.7.6"
  }
 },
 "nbformat": 4,
 "nbformat_minor": 4
}
