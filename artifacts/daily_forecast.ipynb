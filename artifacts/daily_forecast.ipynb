{
 "cells": [
  {
   "cell_type": "code",
   "execution_count": 2,
   "metadata": {},
   "outputs": [
    {
     "data": {
      "text/html": [
       "<div>\n",
       "<style scoped>\n",
       "    .dataframe tbody tr th:only-of-type {\n",
       "        vertical-align: middle;\n",
       "    }\n",
       "\n",
       "    .dataframe tbody tr th {\n",
       "        vertical-align: top;\n",
       "    }\n",
       "\n",
       "    .dataframe thead th {\n",
       "        text-align: right;\n",
       "    }\n",
       "</style>\n",
       "<table border=\"1\" class=\"dataframe\">\n",
       "  <thead>\n",
       "    <tr style=\"text-align: right;\">\n",
       "      <th></th>\n",
       "      <th>campaign</th>\n",
       "      <th>actual_effective_date</th>\n",
       "      <th>original_submit_date</th>\n",
       "      <th>Month</th>\n",
       "      <th>status</th>\n",
       "      <th>volume</th>\n",
       "      <th>volume_per_day</th>\n",
       "      <th>aht</th>\n",
       "      <th>ot_hrs_per_wk</th>\n",
       "      <th>attrition_headcount</th>\n",
       "      <th>new_hire_headcount</th>\n",
       "      <th>service_level</th>\n",
       "      <th>business_days</th>\n",
       "      <th>total_staff_fte</th>\n",
       "      <th>online_production_fte</th>\n",
       "    </tr>\n",
       "  </thead>\n",
       "  <tbody>\n",
       "    <tr>\n",
       "      <th>0</th>\n",
       "      <td>BRO</td>\n",
       "      <td>8/4/2017 0:00</td>\n",
       "      <td>8/4/2017 0:00</td>\n",
       "      <td>'2017-08</td>\n",
       "      <td>Implemented</td>\n",
       "      <td>9694.0</td>\n",
       "      <td>421.478261</td>\n",
       "      <td>596.0</td>\n",
       "      <td>NaN</td>\n",
       "      <td>1.0</td>\n",
       "      <td>NaN</td>\n",
       "      <td>NaN</td>\n",
       "      <td>23.0</td>\n",
       "      <td>29.0</td>\n",
       "      <td>16.0</td>\n",
       "    </tr>\n",
       "    <tr>\n",
       "      <th>1</th>\n",
       "      <td>BRO</td>\n",
       "      <td>8/4/2017 0:00</td>\n",
       "      <td>8/4/2017 0:00</td>\n",
       "      <td>'2017-09</td>\n",
       "      <td>Implemented</td>\n",
       "      <td>10626.0</td>\n",
       "      <td>531.300000</td>\n",
       "      <td>602.0</td>\n",
       "      <td>NaN</td>\n",
       "      <td>1.0</td>\n",
       "      <td>NaN</td>\n",
       "      <td>NaN</td>\n",
       "      <td>20.0</td>\n",
       "      <td>29.0</td>\n",
       "      <td>16.0</td>\n",
       "    </tr>\n",
       "    <tr>\n",
       "      <th>2</th>\n",
       "      <td>BRO</td>\n",
       "      <td>8/4/2017 0:00</td>\n",
       "      <td>8/4/2017 0:00</td>\n",
       "      <td>'2017-10</td>\n",
       "      <td>Implemented</td>\n",
       "      <td>11252.0</td>\n",
       "      <td>511.454545</td>\n",
       "      <td>609.0</td>\n",
       "      <td>NaN</td>\n",
       "      <td>1.0</td>\n",
       "      <td>NaN</td>\n",
       "      <td>NaN</td>\n",
       "      <td>22.0</td>\n",
       "      <td>29.0</td>\n",
       "      <td>17.0</td>\n",
       "    </tr>\n",
       "    <tr>\n",
       "      <th>3</th>\n",
       "      <td>BRO</td>\n",
       "      <td>8/4/2017 0:00</td>\n",
       "      <td>8/4/2017 0:00</td>\n",
       "      <td>'2017-11</td>\n",
       "      <td>Implemented</td>\n",
       "      <td>11265.0</td>\n",
       "      <td>536.428571</td>\n",
       "      <td>596.0</td>\n",
       "      <td>NaN</td>\n",
       "      <td>1.0</td>\n",
       "      <td>NaN</td>\n",
       "      <td>NaN</td>\n",
       "      <td>21.0</td>\n",
       "      <td>28.0</td>\n",
       "      <td>16.0</td>\n",
       "    </tr>\n",
       "    <tr>\n",
       "      <th>4</th>\n",
       "      <td>BRO</td>\n",
       "      <td>8/4/2017 0:00</td>\n",
       "      <td>8/4/2017 0:00</td>\n",
       "      <td>'2017-12</td>\n",
       "      <td>Implemented</td>\n",
       "      <td>12483.0</td>\n",
       "      <td>624.150000</td>\n",
       "      <td>597.0</td>\n",
       "      <td>NaN</td>\n",
       "      <td>1.0</td>\n",
       "      <td>NaN</td>\n",
       "      <td>NaN</td>\n",
       "      <td>20.0</td>\n",
       "      <td>27.0</td>\n",
       "      <td>15.0</td>\n",
       "    </tr>\n",
       "  </tbody>\n",
       "</table>\n",
       "</div>"
      ],
      "text/plain": [
       "  campaign actual_effective_date original_submit_date     Month       status  \\\n",
       "0      BRO         8/4/2017 0:00        8/4/2017 0:00  '2017-08  Implemented   \n",
       "1      BRO         8/4/2017 0:00        8/4/2017 0:00  '2017-09  Implemented   \n",
       "2      BRO         8/4/2017 0:00        8/4/2017 0:00  '2017-10  Implemented   \n",
       "3      BRO         8/4/2017 0:00        8/4/2017 0:00  '2017-11  Implemented   \n",
       "4      BRO         8/4/2017 0:00        8/4/2017 0:00  '2017-12  Implemented   \n",
       "\n",
       "    volume  volume_per_day    aht  ot_hrs_per_wk  attrition_headcount  \\\n",
       "0   9694.0      421.478261  596.0            NaN                  1.0   \n",
       "1  10626.0      531.300000  602.0            NaN                  1.0   \n",
       "2  11252.0      511.454545  609.0            NaN                  1.0   \n",
       "3  11265.0      536.428571  596.0            NaN                  1.0   \n",
       "4  12483.0      624.150000  597.0            NaN                  1.0   \n",
       "\n",
       "   new_hire_headcount  service_level  business_days  total_staff_fte  \\\n",
       "0                 NaN            NaN           23.0             29.0   \n",
       "1                 NaN            NaN           20.0             29.0   \n",
       "2                 NaN            NaN           22.0             29.0   \n",
       "3                 NaN            NaN           21.0             28.0   \n",
       "4                 NaN            NaN           20.0             27.0   \n",
       "\n",
       "   online_production_fte  \n",
       "0                   16.0  \n",
       "1                   16.0  \n",
       "2                   17.0  \n",
       "3                   16.0  \n",
       "4                   15.0  "
      ]
     },
     "execution_count": 2,
     "metadata": {},
     "output_type": "execute_result"
    }
   ],
   "source": [
    "from fbprophet import Prophet\n",
    "import pandas as pd\n",
    "import matplotlib.pyplot as plt\n",
    "\n",
    "df = pd.read_csv('daily.csv')\n",
    "\n",
    "df.head()"
   ]
  },
  {
   "cell_type": "code",
   "execution_count": 3,
   "metadata": {},
   "outputs": [
    {
     "data": {
      "text/plain": [
       "Index(['campaign', 'actual_effective_date', 'original_submit_date', 'Month',\n",
       "       'status', 'volume', 'volume_per_day', 'aht', 'ot_hrs_per_wk',\n",
       "       'attrition_headcount', 'new_hire_headcount', 'service_level',\n",
       "       'business_days', 'total_staff_fte', 'online_production_fte'],\n",
       "      dtype='object')"
      ]
     },
     "execution_count": 3,
     "metadata": {},
     "output_type": "execute_result"
    }
   ],
   "source": [
    "df.columns"
   ]
  },
  {
   "cell_type": "code",
   "execution_count": 4,
   "metadata": {},
   "outputs": [],
   "source": [
    "df = df[['campaign', 'actual_effective_date', 'volume_per_day', \n",
    "    'aht', 'attrition_headcount', 'new_hire_headcount', 'service_level',\n",
    "   'business_days', 'total_staff_fte', 'online_production_fte']]"
   ]
  },
  {
   "cell_type": "code",
   "execution_count": 5,
   "metadata": {},
   "outputs": [
    {
     "data": {
      "text/plain": [
       "Text(0, 0.5, 'Null Data')"
      ]
     },
     "execution_count": 5,
     "metadata": {},
     "output_type": "execute_result"
    },
    {
     "data": {
      "image/png": "[encoded data removed]",
      "text/plain": [
       "<Figure size 432x288 with 1 Axes>"
      ]
     },
     "metadata": {},
     "output_type": "display_data"
    }
   ],
   "source": [
    "import seaborn as sns\n",
    "\n",
    "sns.set_style('whitegrid')\n",
    "p= (df.isnull().sum()/df.shape[0]*100)\n",
    "_ = p.plot.pie()\n",
    "plt.ylabel('Null Data')\n"
   ]
  },
  {
   "cell_type": "markdown",
   "metadata": {},
   "source": [
    "There are many nulls, approximately 2/3 all nulls are `new_hireheadcount data`, and `service_level data`"
   ]
  },
  {
   "cell_type": "code",
   "execution_count": 6,
   "metadata": {},
   "outputs": [],
   "source": [
    "df = df[df['aht'].notnull()]"
   ]
  },
  {
   "cell_type": "code",
   "execution_count": 9,
   "metadata": {},
   "outputs": [
    {
     "data": {
      "text/plain": [
       "<matplotlib.axes._subplots.AxesSubplot at 0x7fe4f3d30850>"
      ]
     },
     "execution_count": 9,
     "metadata": {},
     "output_type": "execute_result"
    },
    {
     "data": {
      "image/png": "[encoded data removed]",
      "text/plain": [
       "<Figure size 432x288 with 1 Axes>"
      ]
     },
     "metadata": {},
     "output_type": "display_data"
    }
   ],
   "source": [
    "df['aht'][df['aht']>0].hist(bins=30)"
   ]
  },
  {
   "cell_type": "code",
   "execution_count": 85,
   "metadata": {},
   "outputs": [
    {
     "data": {
      "text/plain": [
       "count    7508.000000\n",
       "mean      815.344600\n",
       "std       418.385804\n",
       "min         0.000000\n",
       "25%       541.000000\n",
       "50%       665.097500\n",
       "75%      1050.000000\n",
       "max      2765.890000\n",
       "Name: aht, dtype: float64"
      ]
     },
     "execution_count": 85,
     "metadata": {},
     "output_type": "execute_result"
    }
   ],
   "source": [
    "df['aht'].describe()"
   ]
  },
  {
   "cell_type": "code",
   "execution_count": 90,
   "metadata": {},
   "outputs": [
    {
     "data": {
      "text/plain": [
       "Timedelta('1109 days 00:00:00')"
      ]
     },
     "execution_count": 90,
     "metadata": {},
     "output_type": "execute_result"
    }
   ],
   "source": [
    "df['date'].max() - df['date'].min()"
   ]
  },
  {
   "cell_type": "code",
   "execution_count": null,
   "metadata": {},
   "outputs": [],
   "source": [
    "df = df[['Date','RIS Actual Volume']]\n",
    "\n",
    "#  pre-format for prophet\n",
    "df.columns = ['ds','y']\n",
    "\n",
    "# set start date of training data\n",
    "df = df[df['ds'] >= '2018-07-01']\n",
    "\n",
    "# set end date of training data\n",
    "df = df[df['ds'] < '2020-06-01']\n",
    "df.head()"
   ]
  },
  {
   "cell_type": "code",
   "execution_count": 10,
   "metadata": {},
   "outputs": [
    {
     "data": {
      "text/html": [
       "<div>\n",
       "<style scoped>\n",
       "    .dataframe tbody tr th:only-of-type {\n",
       "        vertical-align: middle;\n",
       "    }\n",
       "\n",
       "    .dataframe tbody tr th {\n",
       "        vertical-align: top;\n",
       "    }\n",
       "\n",
       "    .dataframe thead th {\n",
       "        text-align: right;\n",
       "    }\n",
       "</style>\n",
       "<table border=\"1\" class=\"dataframe\">\n",
       "  <thead>\n",
       "    <tr style=\"text-align: right;\">\n",
       "      <th></th>\n",
       "      <th>campaign</th>\n",
       "      <th>actual_effective_date</th>\n",
       "      <th>volume_per_day</th>\n",
       "      <th>aht</th>\n",
       "      <th>attrition_headcount</th>\n",
       "      <th>new_hire_headcount</th>\n",
       "      <th>service_level</th>\n",
       "      <th>business_days</th>\n",
       "      <th>total_staff_fte</th>\n",
       "      <th>online_production_fte</th>\n",
       "    </tr>\n",
       "  </thead>\n",
       "  <tbody>\n",
       "    <tr>\n",
       "      <th>8062</th>\n",
       "      <td>WISE</td>\n",
       "      <td>7/7/2020 0:00</td>\n",
       "      <td>NaN</td>\n",
       "      <td>NaN</td>\n",
       "      <td>NaN</td>\n",
       "      <td>NaN</td>\n",
       "      <td>NaN</td>\n",
       "      <td>NaN</td>\n",
       "      <td>NaN</td>\n",
       "      <td>NaN</td>\n",
       "    </tr>\n",
       "    <tr>\n",
       "      <th>8063</th>\n",
       "      <td>WISE</td>\n",
       "      <td>7/7/2020 0:00</td>\n",
       "      <td>NaN</td>\n",
       "      <td>NaN</td>\n",
       "      <td>NaN</td>\n",
       "      <td>NaN</td>\n",
       "      <td>NaN</td>\n",
       "      <td>NaN</td>\n",
       "      <td>NaN</td>\n",
       "      <td>NaN</td>\n",
       "    </tr>\n",
       "    <tr>\n",
       "      <th>8064</th>\n",
       "      <td>WISE</td>\n",
       "      <td>7/7/2020 0:00</td>\n",
       "      <td>NaN</td>\n",
       "      <td>NaN</td>\n",
       "      <td>NaN</td>\n",
       "      <td>NaN</td>\n",
       "      <td>NaN</td>\n",
       "      <td>NaN</td>\n",
       "      <td>NaN</td>\n",
       "      <td>NaN</td>\n",
       "    </tr>\n",
       "    <tr>\n",
       "      <th>8065</th>\n",
       "      <td>WISE</td>\n",
       "      <td>7/7/2020 0:00</td>\n",
       "      <td>NaN</td>\n",
       "      <td>NaN</td>\n",
       "      <td>NaN</td>\n",
       "      <td>NaN</td>\n",
       "      <td>NaN</td>\n",
       "      <td>NaN</td>\n",
       "      <td>NaN</td>\n",
       "      <td>NaN</td>\n",
       "    </tr>\n",
       "    <tr>\n",
       "      <th>8066</th>\n",
       "      <td>WISE</td>\n",
       "      <td>7/7/2020 0:00</td>\n",
       "      <td>NaN</td>\n",
       "      <td>NaN</td>\n",
       "      <td>NaN</td>\n",
       "      <td>NaN</td>\n",
       "      <td>NaN</td>\n",
       "      <td>NaN</td>\n",
       "      <td>NaN</td>\n",
       "      <td>NaN</td>\n",
       "    </tr>\n",
       "  </tbody>\n",
       "</table>\n",
       "</div>"
      ],
      "text/plain": [
       "     campaign actual_effective_date  volume_per_day  aht  attrition_headcount  \\\n",
       "8062     WISE         7/7/2020 0:00             NaN  NaN                  NaN   \n",
       "8063     WISE         7/7/2020 0:00             NaN  NaN                  NaN   \n",
       "8064     WISE         7/7/2020 0:00             NaN  NaN                  NaN   \n",
       "8065     WISE         7/7/2020 0:00             NaN  NaN                  NaN   \n",
       "8066     WISE         7/7/2020 0:00             NaN  NaN                  NaN   \n",
       "\n",
       "      new_hire_headcount  service_level  business_days  total_staff_fte  \\\n",
       "8062                 NaN            NaN            NaN              NaN   \n",
       "8063                 NaN            NaN            NaN              NaN   \n",
       "8064                 NaN            NaN            NaN              NaN   \n",
       "8065                 NaN            NaN            NaN              NaN   \n",
       "8066                 NaN            NaN            NaN              NaN   \n",
       "\n",
       "      online_production_fte  \n",
       "8062                    NaN  \n",
       "8063                    NaN  \n",
       "8064                    NaN  \n",
       "8065                    NaN  \n",
       "8066                    NaN  "
      ]
     },
     "execution_count": 10,
     "metadata": {},
     "output_type": "execute_result"
    }
   ],
   "source": [
    "df.tail()"
   ]
  },
  {
   "cell_type": "code",
   "execution_count": 13,
   "metadata": {},
   "outputs": [],
   "source": [
    "df = df.rename(columns={'actual_effective_date': 'date'})"
   ]
  },
  {
   "cell_type": "code",
   "execution_count": 15,
   "metadata": {},
   "outputs": [],
   "source": [
    "df['date'] = pd.to_datetime(df['date'])"
   ]
  },
  {
   "cell_type": "code",
   "execution_count": 17,
   "metadata": {},
   "outputs": [
    {
     "data": {
      "text/plain": [
       "count                    8067\n",
       "unique                     79\n",
       "top       2020-04-28 00:00:00\n",
       "freq                      684\n",
       "first     2017-08-04 00:00:00\n",
       "last      2020-08-17 00:00:00\n",
       "Name: date, dtype: object"
      ]
     },
     "execution_count": 17,
     "metadata": {},
     "output_type": "execute_result"
    }
   ],
   "source": [
    "df['date'].describe()"
   ]
  },
  {
   "cell_type": "code",
   "execution_count": 32,
   "metadata": {},
   "outputs": [
    {
     "data": {
      "text/plain": [
       "campaign                 0.000000\n",
       "date                     0.000000\n",
       "volume_per_day           0.074873\n",
       "aht                      0.069295\n",
       "attrition_headcount      0.151605\n",
       "new_hire_headcount       0.495351\n",
       "service_level            0.526218\n",
       "business_days            0.071154\n",
       "total_staff_fte          0.077848\n",
       "online_production_fte    0.098054\n",
       "dtype: float64"
      ]
     },
     "execution_count": 32,
     "metadata": {},
     "output_type": "execute_result"
    }
   ],
   "source": [
    "r = df.shape[0]\n",
    "df.isnull().sum()/r"
   ]
  },
  {
   "cell_type": "code",
   "execution_count": 58,
   "metadata": {},
   "outputs": [
    {
     "data": {
      "text/plain": [
       "<matplotlib.axes._subplots.AxesSubplot at 0x7fd3b14245d0>"
      ]
     },
     "execution_count": 58,
     "metadata": {},
     "output_type": "execute_result"
    },
    {
     "data": {
      "image/png": "[encoded data removed]",
      "text/plain": [
       "<Figure size 432x288 with 1 Axes>"
      ]
     },
     "metadata": {
      "needs_background": "light"
     },
     "output_type": "display_data"
    }
   ],
   "source": [
    "df[df['volume_per_day'].isnull()]['date'].dt.day_name().value_counts().plot(kind='bar')"
   ]
  },
  {
   "cell_type": "code",
   "execution_count": 64,
   "metadata": {
    "scrolled": false
   },
   "outputs": [
    {
     "name": "stdout",
     "output_type": "stream",
     "text": [
      "campaign\n",
      "date\n",
      "volume_per_day\n"
     ]
    },
    {
     "data": {
      "image/png": "[encoded data removed]",
      "text/plain": [
       "<Figure size 432x288 with 1 Axes>"
      ]
     },
     "metadata": {
      "needs_background": "light"
     },
     "output_type": "display_data"
    },
    {
     "name": "stdout",
     "output_type": "stream",
     "text": [
      "aht\n"
     ]
    },
    {
     "data": {
      "image/png": "[encoded data removed]",
      "text/plain": [
       "<Figure size 432x288 with 1 Axes>"
      ]
     },
     "metadata": {
      "needs_background": "light"
     },
     "output_type": "display_data"
    },
    {
     "name": "stdout",
     "output_type": "stream",
     "text": [
      "attrition_headcount\n"
     ]
    },
    {
     "data": {
      "image/png": "[encoded data removed]",
      "text/plain": [
       "<Figure size 432x288 with 1 Axes>"
      ]
     },
     "metadata": {
      "needs_background": "light"
     },
     "output_type": "display_data"
    },
    {
     "name": "stdout",
     "output_type": "stream",
     "text": [
      "new_hire_headcount\n"
     ]
    },
    {
     "data": {
      "image/png": "[encoded data removed]",
      "text/plain": [
       "<Figure size 432x288 with 1 Axes>"
      ]
     },
     "metadata": {
      "needs_background": "light"
     },
     "output_type": "display_data"
    },
    {
     "name": "stdout",
     "output_type": "stream",
     "text": [
      "service_level\n"
     ]
    },
    {
     "data": {
      "image/png": "[encoded data removed]",
      "text/plain": [
       "<Figure size 432x288 with 1 Axes>"
      ]
     },
     "metadata": {
      "needs_background": "light"
     },
     "output_type": "display_data"
    },
    {
     "name": "stdout",
     "output_type": "stream",
     "text": [
      "business_days\n"
     ]
    },
    {
     "data": {
      "image/png": "[encoded data removed]",
      "text/plain": [
       "<Figure size 432x288 with 1 Axes>"
      ]
     },
     "metadata": {
      "needs_background": "light"
     },
     "output_type": "display_data"
    },
    {
     "name": "stdout",
     "output_type": "stream",
     "text": [
      "total_staff_fte\n"
     ]
    },
    {
     "data": {
      "image/png": "[encoded data removed]",
      "text/plain": [
       "<Figure size 432x288 with 1 Axes>"
      ]
     },
     "metadata": {
      "needs_background": "light"
     },
     "output_type": "display_data"
    },
    {
     "name": "stdout",
     "output_type": "stream",
     "text": [
      "online_production_fte\n"
     ]
    },
    {
     "data": {
      "image/png": "[encoded data removed]",
      "text/plain": [
       "<Figure size 432x288 with 1 Axes>"
      ]
     },
     "metadata": {
      "needs_background": "light"
     },
     "output_type": "display_data"
    }
   ],
   "source": [
    "import seaborn as sns\n",
    "import matplotlib.pyplot as plt\n",
    "\n",
    "for col in df.columns:\n",
    "    print(col)\n",
    "    n=df[df[col].isnull()]\n",
    "    try:\n",
    "        n['date'].dt.day_name().value_counts().plot(kind='bar')\n",
    "    except:\n",
    "        continue\n",
    "    plt.show()"
   ]
  },
  {
   "cell_type": "code",
   "execution_count": null,
   "metadata": {},
   "outputs": [],
   "source": []
  }
 ],
 "metadata": {
  "kernelspec": {
   "display_name": "Python 3",
   "language": "python",
   "name": "python3"
  },
  "language_info": {
   "codemirror_mode": {
    "name": "ipython",
    "version": 3
   },
   "file_extension": ".py",
   "mimetype": "text/x-python",
   "name": "python",
   "nbconvert_exporter": "python",
   "pygments_lexer": "ipython3",
   "version": "3.7.6"
  }
 },
 "nbformat": 4,
 "nbformat_minor": 4
}
