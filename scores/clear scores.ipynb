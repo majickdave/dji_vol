{
 "cells": [
  {
   "cell_type": "code",
   "execution_count": 25,
   "metadata": {},
   "outputs": [],
   "source": [
    "import pandas as pd\n",
    "\n",
    "names = ['bu','old','prophet','kpi','start_train', 'end_train']\n",
    "dfs = {}\n",
    "for kpi in ['aht','handle_time','volume']:\n",
    "    dfs[kpi] = pd.read_csv(kpi+'_score.csv', names=names, header=0)\n",
    "    dfs[kpi][['old','prophet']] = dfs[kpi][['old','prophet']].applymap(lambda x: float('inf'))\n",
    "    dfs[kpi].to_csv(kpi+'_score.csv', index=False)"
   ]
  }
 ],
 "metadata": {
  "kernelspec": {
   "display_name": "Python 3",
   "language": "python",
   "name": "python3"
  },
  "language_info": {
   "codemirror_mode": {
    "name": "ipython",
    "version": 3
   },
   "file_extension": ".py",
   "mimetype": "text/x-python",
   "name": "python",
   "nbconvert_exporter": "python",
   "pygments_lexer": "ipython3",
   "version": "3.7.6"
  }
 },
 "nbformat": 4,
 "nbformat_minor": 4
}
