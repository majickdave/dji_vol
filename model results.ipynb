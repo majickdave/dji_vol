{
 "cells": [
  {
   "cell_type": "code",
   "execution_count": 125,
   "metadata": {},
   "outputs": [
    {
     "data": {
      "text/html": [
       "<div>\n",
       "<style scoped>\n",
       "    .dataframe tbody tr th:only-of-type {\n",
       "        vertical-align: middle;\n",
       "    }\n",
       "\n",
       "    .dataframe tbody tr th {\n",
       "        vertical-align: top;\n",
       "    }\n",
       "\n",
       "    .dataframe thead th {\n",
       "        text-align: right;\n",
       "    }\n",
       "</style>\n",
       "<table border=\"1\" class=\"dataframe\">\n",
       "  <thead>\n",
       "    <tr style=\"text-align: right;\">\n",
       "      <th></th>\n",
       "      <th>old</th>\n",
       "      <th>prophet</th>\n",
       "      <th>kpi</th>\n",
       "      <th>start_train</th>\n",
       "      <th>end_train</th>\n",
       "    </tr>\n",
       "  </thead>\n",
       "  <tbody>\n",
       "    <tr>\n",
       "      <th>bro</th>\n",
       "      <td>48697.394231</td>\n",
       "      <td>43695.842907</td>\n",
       "      <td>handle_time</td>\n",
       "      <td>2016-03-10</td>\n",
       "      <td>2020-06-01</td>\n",
       "    </tr>\n",
       "    <tr>\n",
       "      <th>psg</th>\n",
       "      <td>82164.500000</td>\n",
       "      <td>73158.413740</td>\n",
       "      <td>handle_time</td>\n",
       "      <td>2017-01-10</td>\n",
       "      <td>2020-06-01</td>\n",
       "    </tr>\n",
       "    <tr>\n",
       "      <th>wis</th>\n",
       "      <td>497281.224500</td>\n",
       "      <td>393280.911400</td>\n",
       "      <td>handle_time</td>\n",
       "      <td>2016-01-20</td>\n",
       "      <td>2020-06-01</td>\n",
       "    </tr>\n",
       "    <tr>\n",
       "      <th>scs</th>\n",
       "      <td>124690.785700</td>\n",
       "      <td>100969.886000</td>\n",
       "      <td>handle_time</td>\n",
       "      <td>2018-01-20</td>\n",
       "      <td>2020-06-01</td>\n",
       "    </tr>\n",
       "    <tr>\n",
       "      <th>ris</th>\n",
       "      <td>141385.193900</td>\n",
       "      <td>112769.400400</td>\n",
       "      <td>handle_time</td>\n",
       "      <td>2017-01-20</td>\n",
       "      <td>2020-06-01</td>\n",
       "    </tr>\n",
       "    <tr>\n",
       "      <th>rcs</th>\n",
       "      <td>37143.693880</td>\n",
       "      <td>37131.786030</td>\n",
       "      <td>handle_time</td>\n",
       "      <td>2016-04-30</td>\n",
       "      <td>2020-06-01</td>\n",
       "    </tr>\n",
       "    <tr>\n",
       "      <th>col</th>\n",
       "      <td>124690.785714</td>\n",
       "      <td>484255.237171</td>\n",
       "      <td>handle_time</td>\n",
       "      <td>2017-01-01</td>\n",
       "      <td>2020-06-01</td>\n",
       "    </tr>\n",
       "  </tbody>\n",
       "</table>\n",
       "</div>"
      ],
      "text/plain": [
       "               old        prophet          kpi start_train   end_train\n",
       "bro   48697.394231   43695.842907  handle_time  2016-03-10  2020-06-01\n",
       "psg   82164.500000   73158.413740  handle_time  2017-01-10  2020-06-01\n",
       "wis  497281.224500  393280.911400  handle_time  2016-01-20  2020-06-01\n",
       "scs  124690.785700  100969.886000  handle_time  2018-01-20  2020-06-01\n",
       "ris  141385.193900  112769.400400  handle_time  2017-01-20  2020-06-01\n",
       "rcs   37143.693880   37131.786030  handle_time  2016-04-30  2020-06-01\n",
       "col  124690.785714  484255.237171  handle_time  2017-01-01  2020-06-01"
      ]
     },
     "execution_count": 125,
     "metadata": {},
     "output_type": "execute_result"
    }
   ],
   "source": [
    "import pandas as pd\n",
    "import os\n",
    "df = pd.read_csv('scores/handle_time_score.csv', index_col=0)\n",
    "df"
   ]
  },
  {
   "cell_type": "code",
   "execution_count": 126,
   "metadata": {},
   "outputs": [],
   "source": [
    "end = ['2020-06-01']*7\n",
    "start = ['2016-03-10','2017-01-10', '2016-01-20', '2017-01-01', \n",
    "       '2018-01-20', '2017-01-20', '2016-04-30']\n",
    "bu = ['bro', 'psg', 'wis', 'col', 'scs', 'ris', 'rcs']\n",
    "kpi = ['handle_time']*7\n",
    "\n",
    "# for line in list(zip(bu, kpi, start, end)):\n",
    "#     stream = os.popen('python code/run_model.py '+line[0]+'_aht_vol.csv '+line[1]+ ' '+line[2]+' '+line[3]+ ' 200')\n",
    "#     output = stream.readlines()\n",
    "#     output"
   ]
  },
  {
   "cell_type": "code",
   "execution_count": 127,
   "metadata": {
    "scrolled": false
   },
   "outputs": [
    {
     "name": "stdout",
     "output_type": "stream",
     "text": [
      "Daily Hours Saved: 47.3\n",
      "Annual Savings: 309954.28\n"
     ]
    }
   ],
   "source": [
    "df['diff (sec)'] = (df['old'] - df['prophet'])\n",
    "\n",
    "df['diff (hours)'] = df['diff (sec)']/3600\n",
    "\n",
    "hours_saved = df[df.index!='col']['diff (hours)'].sum()\n",
    "\n",
    "print('Daily Hours Saved:',round(hours_saved,1))\n",
    "print('Annual Savings:',round(hours_saved * 262 * 25, 2))"
   ]
  },
  {
   "cell_type": "markdown",
   "metadata": {},
   "source": [
    "# approximately 47 hours per day in handle time savings\n",
    "accross 262 business days at approximately `$25 per hour = $309,954 per year` in labor allocation cost savings across BRO, PSG, RIS, SCS, RCS, and WISE "
   ]
  },
  {
   "cell_type": "code",
   "execution_count": 130,
   "metadata": {},
   "outputs": [
    {
     "data": {
      "text/html": [
       "<div>\n",
       "<style scoped>\n",
       "    .dataframe tbody tr th:only-of-type {\n",
       "        vertical-align: middle;\n",
       "    }\n",
       "\n",
       "    .dataframe tbody tr th {\n",
       "        vertical-align: top;\n",
       "    }\n",
       "\n",
       "    .dataframe thead th {\n",
       "        text-align: right;\n",
       "    }\n",
       "</style>\n",
       "<table border=\"1\" class=\"dataframe\">\n",
       "  <thead>\n",
       "    <tr style=\"text-align: right;\">\n",
       "      <th></th>\n",
       "      <th>diff (hours)</th>\n",
       "    </tr>\n",
       "  </thead>\n",
       "  <tbody>\n",
       "    <tr>\n",
       "      <th>bro</th>\n",
       "      <td>1.389320</td>\n",
       "    </tr>\n",
       "    <tr>\n",
       "      <th>psg</th>\n",
       "      <td>2.501691</td>\n",
       "    </tr>\n",
       "    <tr>\n",
       "      <th>wis</th>\n",
       "      <td>28.888976</td>\n",
       "    </tr>\n",
       "    <tr>\n",
       "      <th>scs</th>\n",
       "      <td>6.589139</td>\n",
       "    </tr>\n",
       "    <tr>\n",
       "      <th>ris</th>\n",
       "      <td>7.948832</td>\n",
       "    </tr>\n",
       "    <tr>\n",
       "      <th>rcs</th>\n",
       "      <td>0.003308</td>\n",
       "    </tr>\n",
       "  </tbody>\n",
       "</table>\n",
       "</div>"
      ],
      "text/plain": [
       "     diff (hours)\n",
       "bro      1.389320\n",
       "psg      2.501691\n",
       "wis     28.888976\n",
       "scs      6.589139\n",
       "ris      7.948832\n",
       "rcs      0.003308"
      ]
     },
     "execution_count": 130,
     "metadata": {},
     "output_type": "execute_result"
    }
   ],
   "source": [
    "df[df.index!='col'][['diff (hours)']]"
   ]
  },
  {
   "cell_type": "code",
   "execution_count": 138,
   "metadata": {},
   "outputs": [
    {
     "data": {
      "image/png": "[encoded data removed]",
      "text/plain": [
       "<Figure size 360x360 with 1 Axes>"
      ]
     },
     "metadata": {},
     "output_type": "display_data"
    }
   ],
   "source": [
    "df['diff (sec)'][df.index!='col'].plot.pie(autopct='%0.1f%%', figsize=(5, 5),\n",
    "                                          shadow=True)\n",
    "plt.title('cost savings in hours')\n",
    "plt.ylabel('')\n",
    "plt.show()"
   ]
  },
  {
   "cell_type": "code",
   "execution_count": null,
   "metadata": {},
   "outputs": [],
   "source": []
  }
 ],
 "metadata": {
  "kernelspec": {
   "display_name": "Python 3",
   "language": "python",
   "name": "python3"
  },
  "language_info": {
   "codemirror_mode": {
    "name": "ipython",
    "version": 3
   },
   "file_extension": ".py",
   "mimetype": "text/x-python",
   "name": "python",
   "nbconvert_exporter": "python",
   "pygments_lexer": "ipython3",
   "version": "3.7.6"
  }
 },
 "nbformat": 4,
 "nbformat_minor": 4
}
