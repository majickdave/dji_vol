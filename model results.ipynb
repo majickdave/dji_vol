{
 "cells": [
  {
   "cell_type": "code",
   "execution_count": 5,
   "metadata": {},
   "outputs": [
    {
     "data": {
      "text/html": [
       "<div>\n",
       "<style scoped>\n",
       "    .dataframe tbody tr th:only-of-type {\n",
       "        vertical-align: middle;\n",
       "    }\n",
       "\n",
       "    .dataframe tbody tr th {\n",
       "        vertical-align: top;\n",
       "    }\n",
       "\n",
       "    .dataframe thead th {\n",
       "        text-align: right;\n",
       "    }\n",
       "</style>\n",
       "<table border=\"1\" class=\"dataframe\">\n",
       "  <thead>\n",
       "    <tr style=\"text-align: right;\">\n",
       "      <th></th>\n",
       "      <th>old</th>\n",
       "      <th>prophet</th>\n",
       "      <th>kpi</th>\n",
       "      <th>start_train</th>\n",
       "      <th>end_train</th>\n",
       "    </tr>\n",
       "  </thead>\n",
       "  <tbody>\n",
       "    <tr>\n",
       "      <th>bro</th>\n",
       "      <td>48697.394231</td>\n",
       "      <td>43695.842907</td>\n",
       "      <td>handle_time</td>\n",
       "      <td>2016-03-10</td>\n",
       "      <td>2020-06-01</td>\n",
       "    </tr>\n",
       "    <tr>\n",
       "      <th>psg</th>\n",
       "      <td>82164.500000</td>\n",
       "      <td>73158.413740</td>\n",
       "      <td>handle_time</td>\n",
       "      <td>2017-01-10</td>\n",
       "      <td>2020-06-01</td>\n",
       "    </tr>\n",
       "    <tr>\n",
       "      <th>wis</th>\n",
       "      <td>497281.224490</td>\n",
       "      <td>393280.911407</td>\n",
       "      <td>handle_time</td>\n",
       "      <td>2016-01-20</td>\n",
       "      <td>2020-06-01</td>\n",
       "    </tr>\n",
       "    <tr>\n",
       "      <th>col</th>\n",
       "      <td>25.797192</td>\n",
       "      <td>39.178905</td>\n",
       "      <td>aht</td>\n",
       "      <td>2017-01-01</td>\n",
       "      <td>2020-06-01</td>\n",
       "    </tr>\n",
       "    <tr>\n",
       "      <th>scs</th>\n",
       "      <td>124690.785714</td>\n",
       "      <td>100969.886028</td>\n",
       "      <td>handle_time</td>\n",
       "      <td>2018-01-20</td>\n",
       "      <td>2020-06-01</td>\n",
       "    </tr>\n",
       "    <tr>\n",
       "      <th>ris</th>\n",
       "      <td>141385.193878</td>\n",
       "      <td>112769.400413</td>\n",
       "      <td>handle_time</td>\n",
       "      <td>2017-01-20</td>\n",
       "      <td>2020-06-01</td>\n",
       "    </tr>\n",
       "    <tr>\n",
       "      <th>rcs</th>\n",
       "      <td>37143.693878</td>\n",
       "      <td>37131.786031</td>\n",
       "      <td>handle_time</td>\n",
       "      <td>2016-04-30</td>\n",
       "      <td>2020-06-01</td>\n",
       "    </tr>\n",
       "  </tbody>\n",
       "</table>\n",
       "</div>"
      ],
      "text/plain": [
       "               old        prophet          kpi start_train   end_train\n",
       "bro   48697.394231   43695.842907  handle_time  2016-03-10  2020-06-01\n",
       "psg   82164.500000   73158.413740  handle_time  2017-01-10  2020-06-01\n",
       "wis  497281.224490  393280.911407  handle_time  2016-01-20  2020-06-01\n",
       "col      25.797192      39.178905          aht  2017-01-01  2020-06-01\n",
       "scs  124690.785714  100969.886028  handle_time  2018-01-20  2020-06-01\n",
       "ris  141385.193878  112769.400413  handle_time  2017-01-20  2020-06-01\n",
       "rcs   37143.693878   37131.786031  handle_time  2016-04-30  2020-06-01"
      ]
     },
     "execution_count": 5,
     "metadata": {},
     "output_type": "execute_result"
    }
   ],
   "source": [
    "import pandas as pd\n",
    "\n",
    "df = pd.read_csv('score.csv', index_col=0)\n",
    "df"
   ]
  },
  {
   "cell_type": "code",
   "execution_count": null,
   "metadata": {},
   "outputs": [],
   "source": []
  }
 ],
 "metadata": {
  "kernelspec": {
   "display_name": "Python 3",
   "language": "python",
   "name": "python3"
  },
  "language_info": {
   "codemirror_mode": {
    "name": "ipython",
    "version": 3
   },
   "file_extension": ".py",
   "mimetype": "text/x-python",
   "name": "python",
   "nbconvert_exporter": "python",
   "pygments_lexer": "ipython3",
   "version": "3.7.6"
  }
 },
 "nbformat": 4,
 "nbformat_minor": 4
}
