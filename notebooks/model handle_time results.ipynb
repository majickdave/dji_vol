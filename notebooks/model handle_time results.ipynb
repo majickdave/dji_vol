{
 "cells": [
  {
   "cell_type": "code",
   "execution_count": 126,
   "metadata": {},
   "outputs": [],
   "source": [
    "import pandas as pd\n",
    "import os"
   ]
  },
  {
   "cell_type": "code",
   "execution_count": 131,
   "metadata": {},
   "outputs": [
    {
     "data": {
      "text/html": [
       "<div>\n",
       "<style scoped>\n",
       "    .dataframe tbody tr th:only-of-type {\n",
       "        vertical-align: middle;\n",
       "    }\n",
       "\n",
       "    .dataframe tbody tr th {\n",
       "        vertical-align: top;\n",
       "    }\n",
       "\n",
       "    .dataframe thead th {\n",
       "        text-align: right;\n",
       "    }\n",
       "</style>\n",
       "<table border=\"1\" class=\"dataframe\">\n",
       "  <thead>\n",
       "    <tr style=\"text-align: right;\">\n",
       "      <th></th>\n",
       "      <th>old</th>\n",
       "      <th>prophet</th>\n",
       "      <th>kpi</th>\n",
       "      <th>start_train</th>\n",
       "      <th>end_train</th>\n",
       "    </tr>\n",
       "  </thead>\n",
       "  <tbody>\n",
       "    <tr>\n",
       "      <th>BRO_ah</th>\n",
       "      <td>34702.912281</td>\n",
       "      <td>37541.553703</td>\n",
       "      <td>handle_time</td>\n",
       "      <td>2016-03-10</td>\n",
       "      <td>2020-09-01</td>\n",
       "    </tr>\n",
       "    <tr>\n",
       "      <th>CS-Mar</th>\n",
       "      <td>24197.719298</td>\n",
       "      <td>24307.992113</td>\n",
       "      <td>handle_time</td>\n",
       "      <td>2017-01-01</td>\n",
       "      <td>2020-09-01</td>\n",
       "    </tr>\n",
       "    <tr>\n",
       "      <th>PSG_ah</th>\n",
       "      <td>104305.350877</td>\n",
       "      <td>72455.078836</td>\n",
       "      <td>handle_time</td>\n",
       "      <td>2017-01-10</td>\n",
       "      <td>2020-09-01</td>\n",
       "    </tr>\n",
       "    <tr>\n",
       "      <th>CS-Joh</th>\n",
       "      <td>21875.333333</td>\n",
       "      <td>24413.392752</td>\n",
       "      <td>handle_time</td>\n",
       "      <td>2017-01-01</td>\n",
       "      <td>2020-09-01</td>\n",
       "    </tr>\n",
       "    <tr>\n",
       "      <th>CS-Nat</th>\n",
       "      <td>11322.122807</td>\n",
       "      <td>7020.772130</td>\n",
       "      <td>handle_time</td>\n",
       "      <td>2017-01-01</td>\n",
       "      <td>2020-09-01</td>\n",
       "    </tr>\n",
       "    <tr>\n",
       "      <th>CS-Ala</th>\n",
       "      <td>5820.754386</td>\n",
       "      <td>11755.152740</td>\n",
       "      <td>handle_time</td>\n",
       "      <td>2016-04-30</td>\n",
       "      <td>2020-09-01</td>\n",
       "    </tr>\n",
       "    <tr>\n",
       "      <th>WISE-C</th>\n",
       "      <td>352606.070175</td>\n",
       "      <td>213364.695370</td>\n",
       "      <td>handle_time</td>\n",
       "      <td>2016-01-20</td>\n",
       "      <td>2020-09-01</td>\n",
       "    </tr>\n",
       "    <tr>\n",
       "      <th>RCS-PH</th>\n",
       "      <td>29702.736842</td>\n",
       "      <td>31530.660507</td>\n",
       "      <td>handle_time</td>\n",
       "      <td>2016-04-30</td>\n",
       "      <td>2020-09-01</td>\n",
       "    </tr>\n",
       "  </tbody>\n",
       "</table>\n",
       "</div>"
      ],
      "text/plain": [
       "                  old        prophet          kpi start_train   end_train\n",
       "BRO_ah   34702.912281   37541.553703  handle_time  2016-03-10  2020-09-01\n",
       "CS-Mar   24197.719298   24307.992113  handle_time  2017-01-01  2020-09-01\n",
       "PSG_ah  104305.350877   72455.078836  handle_time  2017-01-10  2020-09-01\n",
       "CS-Joh   21875.333333   24413.392752  handle_time  2017-01-01  2020-09-01\n",
       "CS-Nat   11322.122807    7020.772130  handle_time  2017-01-01  2020-09-01\n",
       "CS-Ala    5820.754386   11755.152740  handle_time  2016-04-30  2020-09-01\n",
       "WISE-C  352606.070175  213364.695370  handle_time  2016-01-20  2020-09-01\n",
       "RCS-PH   29702.736842   31530.660507  handle_time  2016-04-30  2020-09-01"
      ]
     },
     "execution_count": 131,
     "metadata": {},
     "output_type": "execute_result"
    }
   ],
   "source": [
    "df = pd.read_csv('scores/handle_time_score.csv', index_col=0)\n",
    "wis = df.loc['WISE-C']\n",
    "df = df.loc['BRO_ah':]\n",
    "df"
   ]
  },
  {
   "cell_type": "code",
   "execution_count": 132,
   "metadata": {},
   "outputs": [
    {
     "data": {
      "text/plain": [
       "PSG_ah     8.847298\n",
       "CS-Nat     1.194820\n",
       "WISE-C    38.678160\n",
       "Name: diff (hours), dtype: float64"
      ]
     },
     "execution_count": 132,
     "metadata": {},
     "output_type": "execute_result"
    }
   ],
   "source": [
    "df['diff (hours)'] = (df['old'] - df['prophet'])/3600\n",
    "diff = df[df['diff (hours)']>0]['diff (hours)']\n",
    "diff"
   ]
  },
  {
   "cell_type": "code",
   "execution_count": 133,
   "metadata": {
    "scrolled": false
   },
   "outputs": [
    {
     "name": "stdout",
     "output_type": "stream",
     "text": [
      "Daily volumes Saved: 48.7\n",
      "Annual Savings: $319,117.81\n"
     ]
    }
   ],
   "source": [
    "hours_saved = diff.sum()\n",
    "\n",
    "print('Daily volumes Saved:',round(hours_saved,1))\n",
    "print('Annual Savings:',\"${:,.2f}\".format(hours_saved * 262 * 25))"
   ]
  },
  {
   "cell_type": "markdown",
   "metadata": {},
   "source": [
    "# approximately 49 hours per day in handle time savings\n",
    "accross 262 business days at approximately `$25 per hour = $319,117 per year` in labor allocation cost savings."
   ]
  },
  {
   "cell_type": "code",
   "execution_count": 134,
   "metadata": {},
   "outputs": [
    {
     "data": {
      "image/png": "[encoded data removed]",
      "text/plain": [
       "<Figure size 360x360 with 1 Axes>"
      ]
     },
     "metadata": {},
     "output_type": "display_data"
    }
   ],
   "source": [
    "import matplotlib.pyplot as plt\n",
    "\n",
    "df['diff (hours)'][df['diff (hours)']>0].plot.pie(autopct='%0.1f%%', figsize=(5, 5),\n",
    "                                          shadow=True)\n",
    "plt.title('cost savings in hours')\n",
    "plt.ylabel('')\n",
    "plt.legend(loc='lower right')\n",
    "plt.show()"
   ]
  },
  {
   "cell_type": "code",
   "execution_count": null,
   "metadata": {},
   "outputs": [],
   "source": []
  },
  {
   "cell_type": "code",
   "execution_count": null,
   "metadata": {},
   "outputs": [],
   "source": []
  }
 ],
 "metadata": {
  "kernelspec": {
   "display_name": "Python 3",
   "language": "python",
   "name": "python3"
  },
  "language_info": {
   "codemirror_mode": {
    "name": "ipython",
    "version": 3
   },
   "file_extension": ".py",
   "mimetype": "text/x-python",
   "name": "python",
   "nbconvert_exporter": "python",
   "pygments_lexer": "ipython3",
   "version": "3.7.6"
  }
 },
 "nbformat": 4,
 "nbformat_minor": 4
}
