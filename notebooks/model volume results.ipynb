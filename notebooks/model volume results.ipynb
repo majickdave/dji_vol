{
 "cells": [
  {
   "cell_type": "code",
   "execution_count": 21,
   "metadata": {},
   "outputs": [],
   "source": [
    "import pandas as pd\n",
    "import os"
   ]
  },
  {
   "cell_type": "code",
   "execution_count": 22,
   "metadata": {},
   "outputs": [
    {
     "data": {
      "text/html": [
       "<div>\n",
       "<style scoped>\n",
       "    .dataframe tbody tr th:only-of-type {\n",
       "        vertical-align: middle;\n",
       "    }\n",
       "\n",
       "    .dataframe tbody tr th {\n",
       "        vertical-align: top;\n",
       "    }\n",
       "\n",
       "    .dataframe thead th {\n",
       "        text-align: right;\n",
       "    }\n",
       "</style>\n",
       "<table border=\"1\" class=\"dataframe\">\n",
       "  <thead>\n",
       "    <tr style=\"text-align: right;\">\n",
       "      <th></th>\n",
       "      <th>old</th>\n",
       "      <th>prophet</th>\n",
       "      <th>kpi</th>\n",
       "      <th>start_train</th>\n",
       "      <th>end_train</th>\n",
       "    </tr>\n",
       "  </thead>\n",
       "  <tbody>\n",
       "    <tr>\n",
       "      <th>BRO_ah</th>\n",
       "      <td>54.982456</td>\n",
       "      <td>51.078388</td>\n",
       "      <td>volume</td>\n",
       "      <td>2016-03-10</td>\n",
       "      <td>2020-09-01</td>\n",
       "    </tr>\n",
       "    <tr>\n",
       "      <th>PSG_ah</th>\n",
       "      <td>145.333333</td>\n",
       "      <td>127.745971</td>\n",
       "      <td>volume</td>\n",
       "      <td>2017-01-10</td>\n",
       "      <td>2020-09-01</td>\n",
       "    </tr>\n",
       "    <tr>\n",
       "      <th>CS-Nat</th>\n",
       "      <td>23.175439</td>\n",
       "      <td>19.521367</td>\n",
       "      <td>volume</td>\n",
       "      <td>2017-01-01</td>\n",
       "      <td>2020-09-01</td>\n",
       "    </tr>\n",
       "    <tr>\n",
       "      <th>CS-Ala</th>\n",
       "      <td>13.157895</td>\n",
       "      <td>22.922938</td>\n",
       "      <td>volume</td>\n",
       "      <td>2016-04-30</td>\n",
       "      <td>2020-09-01</td>\n",
       "    </tr>\n",
       "    <tr>\n",
       "      <th>RIS_ah</th>\n",
       "      <td>207.561404</td>\n",
       "      <td>198.316753</td>\n",
       "      <td>volume</td>\n",
       "      <td>2017-01-20</td>\n",
       "      <td>2020-09-01</td>\n",
       "    </tr>\n",
       "    <tr>\n",
       "      <th>CS-Mar</th>\n",
       "      <td>41.578947</td>\n",
       "      <td>64.457328</td>\n",
       "      <td>volume</td>\n",
       "      <td>2017-01-01</td>\n",
       "      <td>2020-09-01</td>\n",
       "    </tr>\n",
       "    <tr>\n",
       "      <th>WISE-C</th>\n",
       "      <td>407.245614</td>\n",
       "      <td>552.770230</td>\n",
       "      <td>volume</td>\n",
       "      <td>2016-01-20</td>\n",
       "      <td>2020-09-01</td>\n",
       "    </tr>\n",
       "    <tr>\n",
       "      <th>RCS-PH</th>\n",
       "      <td>37.508772</td>\n",
       "      <td>40.783542</td>\n",
       "      <td>volume</td>\n",
       "      <td>2016-04-30</td>\n",
       "      <td>2020-09-01</td>\n",
       "    </tr>\n",
       "    <tr>\n",
       "      <th>CS-Joh</th>\n",
       "      <td>54.087719</td>\n",
       "      <td>59.655489</td>\n",
       "      <td>volume</td>\n",
       "      <td>2017-01-01</td>\n",
       "      <td>2020-09-01</td>\n",
       "    </tr>\n",
       "  </tbody>\n",
       "</table>\n",
       "</div>"
      ],
      "text/plain": [
       "               old     prophet     kpi start_train   end_train\n",
       "BRO_ah   54.982456   51.078388  volume  2016-03-10  2020-09-01\n",
       "PSG_ah  145.333333  127.745971  volume  2017-01-10  2020-09-01\n",
       "CS-Nat   23.175439   19.521367  volume  2017-01-01  2020-09-01\n",
       "CS-Ala   13.157895   22.922938  volume  2016-04-30  2020-09-01\n",
       "RIS_ah  207.561404  198.316753  volume  2017-01-20  2020-09-01\n",
       "CS-Mar   41.578947   64.457328  volume  2017-01-01  2020-09-01\n",
       "WISE-C  407.245614  552.770230  volume  2016-01-20  2020-09-01\n",
       "RCS-PH   37.508772   40.783542  volume  2016-04-30  2020-09-01\n",
       "CS-Joh   54.087719   59.655489  volume  2017-01-01  2020-09-01"
      ]
     },
     "execution_count": 22,
     "metadata": {},
     "output_type": "execute_result"
    }
   ],
   "source": [
    "df = pd.read_csv('scores/volume_score.csv', index_col=0)\n",
    "df = df.loc['BRO_ah':]\n",
    "df"
   ]
  },
  {
   "cell_type": "code",
   "execution_count": 23,
   "metadata": {},
   "outputs": [
    {
     "data": {
      "text/plain": [
       "BRO_ah     3.904068\n",
       "PSG_ah    17.587362\n",
       "CS-Nat     3.654072\n",
       "RIS_ah     9.244650\n",
       "Name: diff (hours), dtype: float64"
      ]
     },
     "execution_count": 23,
     "metadata": {},
     "output_type": "execute_result"
    }
   ],
   "source": [
    "df['diff (hours)'] = (df['old'] - df['prophet'])\n",
    "diff = df[df['diff (hours)']>0]['diff (hours)']\n",
    "diff"
   ]
  },
  {
   "cell_type": "code",
   "execution_count": 24,
   "metadata": {
    "scrolled": false
   },
   "outputs": [
    {
     "name": "stdout",
     "output_type": "stream",
     "text": [
      "Daily aht Saved: 34.4\n",
      "Annual Savings: $225,255.50\n"
     ]
    }
   ],
   "source": [
    "hours_saved = diff.sum()\n",
    "\n",
    "print('Daily aht Saved:',round(hours_saved,1))\n",
    "print('Annual Savings:',\"${:,.2f}\".format(hours_saved * 262 * 25))"
   ]
  },
  {
   "cell_type": "markdown",
   "metadata": {},
   "source": [
    "# approximately 36 calls per day in savings\n",
    "accross 262 business days at approximately `$25 per hour = $353,605 per year` in labor allocation cost savings across 'CS-National', 'RIS', 'PSG', 'CS-Maryland', 'CS-John-Hancock', 'WISE-Contractrual'"
   ]
  },
  {
   "cell_type": "code",
   "execution_count": 25,
   "metadata": {},
   "outputs": [
    {
     "data": {
      "image/png": "[encoded data removed]",
      "text/plain": [
       "<Figure size 360x360 with 1 Axes>"
      ]
     },
     "metadata": {},
     "output_type": "display_data"
    }
   ],
   "source": [
    "import matplotlib.pyplot as plt\n",
    "\n",
    "df['diff (hours)'][df['diff (hours)']>0].plot.pie(autopct='%0.1f%%', figsize=(5, 5),\n",
    "                                          shadow=True)\n",
    "plt.title('volume savings in hours')\n",
    "plt.ylabel('')\n",
    "plt.legend(loc='lower right')\n",
    "plt.show()"
   ]
  },
  {
   "cell_type": "code",
   "execution_count": null,
   "metadata": {},
   "outputs": [],
   "source": []
  },
  {
   "cell_type": "code",
   "execution_count": null,
   "metadata": {},
   "outputs": [],
   "source": []
  }
 ],
 "metadata": {
  "kernelspec": {
   "display_name": "Python 3",
   "language": "python",
   "name": "python3"
  },
  "language_info": {
   "codemirror_mode": {
    "name": "ipython",
    "version": 3
   },
   "file_extension": ".py",
   "mimetype": "text/x-python",
   "name": "python",
   "nbconvert_exporter": "python",
   "pygments_lexer": "ipython3",
   "version": "3.7.6"
  }
 },
 "nbformat": 4,
 "nbformat_minor": 4
}
