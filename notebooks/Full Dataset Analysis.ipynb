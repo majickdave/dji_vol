{
 "cells": [
  {
   "cell_type": "code",
   "execution_count": 70,
   "metadata": {},
   "outputs": [
    {
     "data": {
      "text/html": [
       "<div>\n",
       "<style scoped>\n",
       "    .dataframe tbody tr th:only-of-type {\n",
       "        vertical-align: middle;\n",
       "    }\n",
       "\n",
       "    .dataframe tbody tr th {\n",
       "        vertical-align: top;\n",
       "    }\n",
       "\n",
       "    .dataframe thead th {\n",
       "        text-align: right;\n",
       "    }\n",
       "</style>\n",
       "<table border=\"1\" class=\"dataframe\">\n",
       "  <thead>\n",
       "    <tr style=\"text-align: right;\">\n",
       "      <th></th>\n",
       "      <th>date</th>\n",
       "      <th>DIVISION</th>\n",
       "      <th>BUSINESS UNIT</th>\n",
       "      <th>BUSINESS LINE</th>\n",
       "      <th>handle_time</th>\n",
       "      <th>handle_time_forecast</th>\n",
       "      <th>volume</th>\n",
       "      <th>volume_forecast</th>\n",
       "      <th>aht</th>\n",
       "    </tr>\n",
       "  </thead>\n",
       "  <tbody>\n",
       "    <tr>\n",
       "      <th>0</th>\n",
       "      <td>2016-01-01</td>\n",
       "      <td>WISE</td>\n",
       "      <td>WISE</td>\n",
       "      <td>WISE Contractual</td>\n",
       "      <td>0.0</td>\n",
       "      <td>NaN</td>\n",
       "      <td>0.0</td>\n",
       "      <td>0.0</td>\n",
       "      <td>NaN</td>\n",
       "    </tr>\n",
       "    <tr>\n",
       "      <th>1</th>\n",
       "      <td>2016-01-01</td>\n",
       "      <td>College Savings</td>\n",
       "      <td>College Savings</td>\n",
       "      <td>CS Alaska</td>\n",
       "      <td>0.0</td>\n",
       "      <td>NaN</td>\n",
       "      <td>0.0</td>\n",
       "      <td>0.0</td>\n",
       "      <td>NaN</td>\n",
       "    </tr>\n",
       "    <tr>\n",
       "      <th>2</th>\n",
       "      <td>2016-01-01</td>\n",
       "      <td>College Savings</td>\n",
       "      <td>College Savings</td>\n",
       "      <td>CS John Hancock</td>\n",
       "      <td>0.0</td>\n",
       "      <td>NaN</td>\n",
       "      <td>0.0</td>\n",
       "      <td>0.0</td>\n",
       "      <td>NaN</td>\n",
       "    </tr>\n",
       "    <tr>\n",
       "      <th>3</th>\n",
       "      <td>2016-01-01</td>\n",
       "      <td>College Savings</td>\n",
       "      <td>College Savings</td>\n",
       "      <td>CS Maryland</td>\n",
       "      <td>0.0</td>\n",
       "      <td>NaN</td>\n",
       "      <td>0.0</td>\n",
       "      <td>0.0</td>\n",
       "      <td>NaN</td>\n",
       "    </tr>\n",
       "    <tr>\n",
       "      <th>4</th>\n",
       "      <td>2016-01-01</td>\n",
       "      <td>College Savings</td>\n",
       "      <td>College Savings</td>\n",
       "      <td>CS National</td>\n",
       "      <td>0.0</td>\n",
       "      <td>NaN</td>\n",
       "      <td>0.0</td>\n",
       "      <td>0.0</td>\n",
       "      <td>NaN</td>\n",
       "    </tr>\n",
       "  </tbody>\n",
       "</table>\n",
       "</div>"
      ],
      "text/plain": [
       "        date         DIVISION    BUSINESS UNIT     BUSINESS LINE  handle_time  \\\n",
       "0 2016-01-01             WISE             WISE  WISE Contractual          0.0   \n",
       "1 2016-01-01  College Savings  College Savings         CS Alaska          0.0   \n",
       "2 2016-01-01  College Savings  College Savings   CS John Hancock          0.0   \n",
       "3 2016-01-01  College Savings  College Savings       CS Maryland          0.0   \n",
       "4 2016-01-01  College Savings  College Savings       CS National          0.0   \n",
       "\n",
       "   handle_time_forecast  volume  volume_forecast  aht  \n",
       "0                   NaN     0.0              0.0  NaN  \n",
       "1                   NaN     0.0              0.0  NaN  \n",
       "2                   NaN     0.0              0.0  NaN  \n",
       "3                   NaN     0.0              0.0  NaN  \n",
       "4                   NaN     0.0              0.0  NaN  "
      ]
     },
     "execution_count": 70,
     "metadata": {},
     "output_type": "execute_result"
    }
   ],
   "source": [
    "import pandas as pd\n",
    "\n",
    "names = ['date', 'handle_time', 'handle_time_forecast',\n",
    "    'volume', 'volume_forecast']\n",
    "\n",
    "h = pd.read_csv('../data/holidays.csv', parse_dates=['ACTIVITY DATE'])\n",
    "df = pd.read_csv('../data/full_dataset.csv', parse_dates=['ACTIVITY DATE'])\n",
    "df = df.drop('Unnamed: 8', 1)\n",
    "df = df.rename(columns={'ACTIVITY DATE':'date','Sum of TOTAL TIME - AHT (sec)': 'handle_time', \n",
    "                   'Sum of TOTAL TIME - AHT - FORECAST (sec)':  'handle_time_forecast',\n",
    "                  'Sum of VOLUME - RECEIVED':'volume', 'Sum of VOLUME - FORECAST': 'volume_forecast'})\n",
    "\n",
    "df['aht'] = df['handle_time']/df['volume']\n",
    "df.head()"
   ]
  },
  {
   "cell_type": "code",
   "execution_count": 71,
   "metadata": {},
   "outputs": [
    {
     "data": {
      "text/html": [
       "<div>\n",
       "<style scoped>\n",
       "    .dataframe tbody tr th:only-of-type {\n",
       "        vertical-align: middle;\n",
       "    }\n",
       "\n",
       "    .dataframe tbody tr th {\n",
       "        vertical-align: top;\n",
       "    }\n",
       "\n",
       "    .dataframe thead th {\n",
       "        text-align: right;\n",
       "    }\n",
       "</style>\n",
       "<table border=\"1\" class=\"dataframe\">\n",
       "  <thead>\n",
       "    <tr style=\"text-align: right;\">\n",
       "      <th></th>\n",
       "      <th>handle_time</th>\n",
       "      <th>handle_time_forecast</th>\n",
       "      <th>volume</th>\n",
       "      <th>volume_forecast</th>\n",
       "      <th>aht</th>\n",
       "    </tr>\n",
       "  </thead>\n",
       "  <tbody>\n",
       "    <tr>\n",
       "      <th>count</th>\n",
       "      <td>1.378200e+04</td>\n",
       "      <td>1.525000e+03</td>\n",
       "      <td>16672.000000</td>\n",
       "      <td>16591.000000</td>\n",
       "      <td>11838.000000</td>\n",
       "    </tr>\n",
       "    <tr>\n",
       "      <th>mean</th>\n",
       "      <td>6.022210e+05</td>\n",
       "      <td>6.861608e+05</td>\n",
       "      <td>886.230266</td>\n",
       "      <td>914.683684</td>\n",
       "      <td>529.224615</td>\n",
       "    </tr>\n",
       "    <tr>\n",
       "      <th>std</th>\n",
       "      <td>1.029848e+06</td>\n",
       "      <td>1.161274e+06</td>\n",
       "      <td>1669.346384</td>\n",
       "      <td>1726.872549</td>\n",
       "      <td>96.059995</td>\n",
       "    </tr>\n",
       "    <tr>\n",
       "      <th>min</th>\n",
       "      <td>0.000000e+00</td>\n",
       "      <td>0.000000e+00</td>\n",
       "      <td>-1.000000</td>\n",
       "      <td>0.000000</td>\n",
       "      <td>-0.000000</td>\n",
       "    </tr>\n",
       "    <tr>\n",
       "      <th>25%</th>\n",
       "      <td>5.202375e+04</td>\n",
       "      <td>9.459700e+04</td>\n",
       "      <td>0.000000</td>\n",
       "      <td>0.000000</td>\n",
       "      <td>468.495982</td>\n",
       "    </tr>\n",
       "    <tr>\n",
       "      <th>50%</th>\n",
       "      <td>1.780305e+05</td>\n",
       "      <td>1.906860e+05</td>\n",
       "      <td>269.000000</td>\n",
       "      <td>275.000000</td>\n",
       "      <td>532.649132</td>\n",
       "    </tr>\n",
       "    <tr>\n",
       "      <th>75%</th>\n",
       "      <td>5.160570e+05</td>\n",
       "      <td>5.746290e+05</td>\n",
       "      <td>653.250000</td>\n",
       "      <td>658.500000</td>\n",
       "      <td>590.774665</td>\n",
       "    </tr>\n",
       "    <tr>\n",
       "      <th>max</th>\n",
       "      <td>6.893852e+06</td>\n",
       "      <td>6.651624e+06</td>\n",
       "      <td>13410.000000</td>\n",
       "      <td>10830.000000</td>\n",
       "      <td>3957.030201</td>\n",
       "    </tr>\n",
       "  </tbody>\n",
       "</table>\n",
       "</div>"
      ],
      "text/plain": [
       "        handle_time  handle_time_forecast        volume  volume_forecast  \\\n",
       "count  1.378200e+04          1.525000e+03  16672.000000     16591.000000   \n",
       "mean   6.022210e+05          6.861608e+05    886.230266       914.683684   \n",
       "std    1.029848e+06          1.161274e+06   1669.346384      1726.872549   \n",
       "min    0.000000e+00          0.000000e+00     -1.000000         0.000000   \n",
       "25%    5.202375e+04          9.459700e+04      0.000000         0.000000   \n",
       "50%    1.780305e+05          1.906860e+05    269.000000       275.000000   \n",
       "75%    5.160570e+05          5.746290e+05    653.250000       658.500000   \n",
       "max    6.893852e+06          6.651624e+06  13410.000000     10830.000000   \n",
       "\n",
       "                aht  \n",
       "count  11838.000000  \n",
       "mean     529.224615  \n",
       "std       96.059995  \n",
       "min       -0.000000  \n",
       "25%      468.495982  \n",
       "50%      532.649132  \n",
       "75%      590.774665  \n",
       "max     3957.030201  "
      ]
     },
     "execution_count": 71,
     "metadata": {},
     "output_type": "execute_result"
    }
   ],
   "source": [
    "df.describe()"
   ]
  },
  {
   "cell_type": "code",
   "execution_count": 72,
   "metadata": {},
   "outputs": [
    {
     "name": "stdout",
     "output_type": "stream",
     "text": [
      "<class 'pandas.core.frame.DataFrame'>\n",
      "RangeIndex: 17553 entries, 0 to 17552\n",
      "Data columns (total 9 columns):\n",
      " #   Column                Non-Null Count  Dtype         \n",
      "---  ------                --------------  -----         \n",
      " 0   date                  17553 non-null  datetime64[ns]\n",
      " 1   DIVISION              17553 non-null  object        \n",
      " 2   BUSINESS UNIT         17553 non-null  object        \n",
      " 3   BUSINESS LINE         17553 non-null  object        \n",
      " 4   handle_time           13782 non-null  float64       \n",
      " 5   handle_time_forecast  1525 non-null   float64       \n",
      " 6   volume                16672 non-null  float64       \n",
      " 7   volume_forecast       16591 non-null  float64       \n",
      " 8   aht                   11838 non-null  float64       \n",
      "dtypes: datetime64[ns](1), float64(5), object(3)\n",
      "memory usage: 1.2+ MB\n"
     ]
    }
   ],
   "source": [
    "df.info()"
   ]
  },
  {
   "cell_type": "code",
   "execution_count": 73,
   "metadata": {},
   "outputs": [
    {
     "data": {
      "text/plain": [
       "Timestamp('2016-01-01 00:00:00')"
      ]
     },
     "execution_count": 73,
     "metadata": {},
     "output_type": "execute_result"
    }
   ],
   "source": [
    "df['date'].min()"
   ]
  },
  {
   "cell_type": "code",
   "execution_count": 74,
   "metadata": {},
   "outputs": [
    {
     "data": {
      "text/plain": [
       "Timestamp('2020-12-31 00:00:00')"
      ]
     },
     "execution_count": 74,
     "metadata": {},
     "output_type": "execute_result"
    }
   ],
   "source": [
    "df['date'].max()"
   ]
  },
  {
   "cell_type": "code",
   "execution_count": 86,
   "metadata": {},
   "outputs": [
    {
     "data": {
      "text/html": [
       "<div>\n",
       "<style scoped>\n",
       "    .dataframe tbody tr th:only-of-type {\n",
       "        vertical-align: middle;\n",
       "    }\n",
       "\n",
       "    .dataframe tbody tr th {\n",
       "        vertical-align: top;\n",
       "    }\n",
       "\n",
       "    .dataframe thead th {\n",
       "        text-align: right;\n",
       "    }\n",
       "</style>\n",
       "<table border=\"1\" class=\"dataframe\">\n",
       "  <thead>\n",
       "    <tr style=\"text-align: right;\">\n",
       "      <th></th>\n",
       "      <th>DIVISION</th>\n",
       "      <th>BUSINESS UNIT</th>\n",
       "      <th>BUSINESS LINE</th>\n",
       "      <th>handle_time</th>\n",
       "      <th>handle_time_forecast</th>\n",
       "      <th>volume</th>\n",
       "      <th>volume_forecast</th>\n",
       "      <th>aht</th>\n",
       "      <th>month</th>\n",
       "      <th>year</th>\n",
       "    </tr>\n",
       "    <tr>\n",
       "      <th>date</th>\n",
       "      <th></th>\n",
       "      <th></th>\n",
       "      <th></th>\n",
       "      <th></th>\n",
       "      <th></th>\n",
       "      <th></th>\n",
       "      <th></th>\n",
       "      <th></th>\n",
       "      <th></th>\n",
       "      <th></th>\n",
       "    </tr>\n",
       "  </thead>\n",
       "  <tbody>\n",
       "    <tr>\n",
       "      <th>2016-01-01</th>\n",
       "      <td>9</td>\n",
       "      <td>9</td>\n",
       "      <td>9</td>\n",
       "      <td>9</td>\n",
       "      <td>0</td>\n",
       "      <td>9</td>\n",
       "      <td>9</td>\n",
       "      <td>2</td>\n",
       "      <td>9</td>\n",
       "      <td>9</td>\n",
       "    </tr>\n",
       "    <tr>\n",
       "      <th>2016-01-02</th>\n",
       "      <td>9</td>\n",
       "      <td>9</td>\n",
       "      <td>9</td>\n",
       "      <td>9</td>\n",
       "      <td>0</td>\n",
       "      <td>9</td>\n",
       "      <td>9</td>\n",
       "      <td>1</td>\n",
       "      <td>9</td>\n",
       "      <td>9</td>\n",
       "    </tr>\n",
       "    <tr>\n",
       "      <th>2016-01-03</th>\n",
       "      <td>9</td>\n",
       "      <td>9</td>\n",
       "      <td>9</td>\n",
       "      <td>9</td>\n",
       "      <td>0</td>\n",
       "      <td>9</td>\n",
       "      <td>9</td>\n",
       "      <td>0</td>\n",
       "      <td>9</td>\n",
       "      <td>9</td>\n",
       "    </tr>\n",
       "    <tr>\n",
       "      <th>2016-01-04</th>\n",
       "      <td>9</td>\n",
       "      <td>9</td>\n",
       "      <td>9</td>\n",
       "      <td>9</td>\n",
       "      <td>0</td>\n",
       "      <td>9</td>\n",
       "      <td>9</td>\n",
       "      <td>9</td>\n",
       "      <td>9</td>\n",
       "      <td>9</td>\n",
       "    </tr>\n",
       "    <tr>\n",
       "      <th>2016-01-05</th>\n",
       "      <td>9</td>\n",
       "      <td>9</td>\n",
       "      <td>9</td>\n",
       "      <td>9</td>\n",
       "      <td>0</td>\n",
       "      <td>9</td>\n",
       "      <td>9</td>\n",
       "      <td>9</td>\n",
       "      <td>9</td>\n",
       "      <td>9</td>\n",
       "    </tr>\n",
       "    <tr>\n",
       "      <th>...</th>\n",
       "      <td>...</td>\n",
       "      <td>...</td>\n",
       "      <td>...</td>\n",
       "      <td>...</td>\n",
       "      <td>...</td>\n",
       "      <td>...</td>\n",
       "      <td>...</td>\n",
       "      <td>...</td>\n",
       "      <td>...</td>\n",
       "      <td>...</td>\n",
       "    </tr>\n",
       "    <tr>\n",
       "      <th>2020-12-27</th>\n",
       "      <td>10</td>\n",
       "      <td>10</td>\n",
       "      <td>10</td>\n",
       "      <td>0</td>\n",
       "      <td>0</td>\n",
       "      <td>10</td>\n",
       "      <td>9</td>\n",
       "      <td>0</td>\n",
       "      <td>10</td>\n",
       "      <td>10</td>\n",
       "    </tr>\n",
       "    <tr>\n",
       "      <th>2020-12-28</th>\n",
       "      <td>10</td>\n",
       "      <td>10</td>\n",
       "      <td>10</td>\n",
       "      <td>10</td>\n",
       "      <td>10</td>\n",
       "      <td>10</td>\n",
       "      <td>10</td>\n",
       "      <td>10</td>\n",
       "      <td>10</td>\n",
       "      <td>10</td>\n",
       "    </tr>\n",
       "    <tr>\n",
       "      <th>2020-12-29</th>\n",
       "      <td>10</td>\n",
       "      <td>10</td>\n",
       "      <td>10</td>\n",
       "      <td>10</td>\n",
       "      <td>10</td>\n",
       "      <td>10</td>\n",
       "      <td>10</td>\n",
       "      <td>10</td>\n",
       "      <td>10</td>\n",
       "      <td>10</td>\n",
       "    </tr>\n",
       "    <tr>\n",
       "      <th>2020-12-30</th>\n",
       "      <td>10</td>\n",
       "      <td>10</td>\n",
       "      <td>10</td>\n",
       "      <td>10</td>\n",
       "      <td>10</td>\n",
       "      <td>10</td>\n",
       "      <td>10</td>\n",
       "      <td>10</td>\n",
       "      <td>10</td>\n",
       "      <td>10</td>\n",
       "    </tr>\n",
       "    <tr>\n",
       "      <th>2020-12-31</th>\n",
       "      <td>10</td>\n",
       "      <td>10</td>\n",
       "      <td>10</td>\n",
       "      <td>10</td>\n",
       "      <td>10</td>\n",
       "      <td>10</td>\n",
       "      <td>10</td>\n",
       "      <td>10</td>\n",
       "      <td>10</td>\n",
       "      <td>10</td>\n",
       "    </tr>\n",
       "  </tbody>\n",
       "</table>\n",
       "<p>1826 rows × 10 columns</p>\n",
       "</div>"
      ],
      "text/plain": [
       "            DIVISION  BUSINESS UNIT  BUSINESS LINE  handle_time  \\\n",
       "date                                                              \n",
       "2016-01-01         9              9              9            9   \n",
       "2016-01-02         9              9              9            9   \n",
       "2016-01-03         9              9              9            9   \n",
       "2016-01-04         9              9              9            9   \n",
       "2016-01-05         9              9              9            9   \n",
       "...              ...            ...            ...          ...   \n",
       "2020-12-27        10             10             10            0   \n",
       "2020-12-28        10             10             10           10   \n",
       "2020-12-29        10             10             10           10   \n",
       "2020-12-30        10             10             10           10   \n",
       "2020-12-31        10             10             10           10   \n",
       "\n",
       "            handle_time_forecast  volume  volume_forecast  aht  month  year  \n",
       "date                                                                         \n",
       "2016-01-01                     0       9                9    2      9     9  \n",
       "2016-01-02                     0       9                9    1      9     9  \n",
       "2016-01-03                     0       9                9    0      9     9  \n",
       "2016-01-04                     0       9                9    9      9     9  \n",
       "2016-01-05                     0       9                9    9      9     9  \n",
       "...                          ...     ...              ...  ...    ...   ...  \n",
       "2020-12-27                     0      10                9    0     10    10  \n",
       "2020-12-28                    10      10               10   10     10    10  \n",
       "2020-12-29                    10      10               10   10     10    10  \n",
       "2020-12-30                    10      10               10   10     10    10  \n",
       "2020-12-31                    10      10               10   10     10    10  \n",
       "\n",
       "[1826 rows x 10 columns]"
      ]
     },
     "execution_count": 86,
     "metadata": {},
     "output_type": "execute_result"
    }
   ],
   "source": [
    "df.groupby('date').count()"
   ]
  },
  {
   "cell_type": "markdown",
   "metadata": {},
   "source": [
    "# How many days are weekends and Holidays from 2016 to 2020?\n",
    "557"
   ]
  },
  {
   "cell_type": "code",
   "execution_count": 75,
   "metadata": {},
   "outputs": [
    {
     "data": {
      "text/html": [
       "<div>\n",
       "<style scoped>\n",
       "    .dataframe tbody tr th:only-of-type {\n",
       "        vertical-align: middle;\n",
       "    }\n",
       "\n",
       "    .dataframe tbody tr th {\n",
       "        vertical-align: top;\n",
       "    }\n",
       "\n",
       "    .dataframe thead th {\n",
       "        text-align: right;\n",
       "    }\n",
       "</style>\n",
       "<table border=\"1\" class=\"dataframe\">\n",
       "  <thead>\n",
       "    <tr style=\"text-align: right;\">\n",
       "      <th></th>\n",
       "      <th>DIVISION</th>\n",
       "      <th>BUSINESS UNIT</th>\n",
       "      <th>BUSINESS LINE</th>\n",
       "      <th>handle_time</th>\n",
       "      <th>handle_time_forecast</th>\n",
       "      <th>volume</th>\n",
       "      <th>volume_forecast</th>\n",
       "      <th>aht</th>\n",
       "    </tr>\n",
       "    <tr>\n",
       "      <th>date</th>\n",
       "      <th></th>\n",
       "      <th></th>\n",
       "      <th></th>\n",
       "      <th></th>\n",
       "      <th></th>\n",
       "      <th></th>\n",
       "      <th></th>\n",
       "      <th></th>\n",
       "    </tr>\n",
       "  </thead>\n",
       "  <tbody>\n",
       "    <tr>\n",
       "      <th>2016-01-01</th>\n",
       "      <td>9</td>\n",
       "      <td>9</td>\n",
       "      <td>9</td>\n",
       "      <td>9</td>\n",
       "      <td>0</td>\n",
       "      <td>9</td>\n",
       "      <td>9</td>\n",
       "      <td>2</td>\n",
       "    </tr>\n",
       "    <tr>\n",
       "      <th>2016-01-04</th>\n",
       "      <td>9</td>\n",
       "      <td>9</td>\n",
       "      <td>9</td>\n",
       "      <td>9</td>\n",
       "      <td>0</td>\n",
       "      <td>9</td>\n",
       "      <td>9</td>\n",
       "      <td>9</td>\n",
       "    </tr>\n",
       "    <tr>\n",
       "      <th>2016-01-05</th>\n",
       "      <td>9</td>\n",
       "      <td>9</td>\n",
       "      <td>9</td>\n",
       "      <td>9</td>\n",
       "      <td>0</td>\n",
       "      <td>9</td>\n",
       "      <td>9</td>\n",
       "      <td>9</td>\n",
       "    </tr>\n",
       "    <tr>\n",
       "      <th>2016-01-06</th>\n",
       "      <td>9</td>\n",
       "      <td>9</td>\n",
       "      <td>9</td>\n",
       "      <td>9</td>\n",
       "      <td>0</td>\n",
       "      <td>9</td>\n",
       "      <td>9</td>\n",
       "      <td>9</td>\n",
       "    </tr>\n",
       "    <tr>\n",
       "      <th>2016-01-07</th>\n",
       "      <td>9</td>\n",
       "      <td>9</td>\n",
       "      <td>9</td>\n",
       "      <td>9</td>\n",
       "      <td>0</td>\n",
       "      <td>9</td>\n",
       "      <td>9</td>\n",
       "      <td>9</td>\n",
       "    </tr>\n",
       "    <tr>\n",
       "      <th>...</th>\n",
       "      <td>...</td>\n",
       "      <td>...</td>\n",
       "      <td>...</td>\n",
       "      <td>...</td>\n",
       "      <td>...</td>\n",
       "      <td>...</td>\n",
       "      <td>...</td>\n",
       "      <td>...</td>\n",
       "    </tr>\n",
       "    <tr>\n",
       "      <th>2020-12-24</th>\n",
       "      <td>10</td>\n",
       "      <td>10</td>\n",
       "      <td>10</td>\n",
       "      <td>10</td>\n",
       "      <td>10</td>\n",
       "      <td>10</td>\n",
       "      <td>10</td>\n",
       "      <td>10</td>\n",
       "    </tr>\n",
       "    <tr>\n",
       "      <th>2020-12-28</th>\n",
       "      <td>10</td>\n",
       "      <td>10</td>\n",
       "      <td>10</td>\n",
       "      <td>10</td>\n",
       "      <td>10</td>\n",
       "      <td>10</td>\n",
       "      <td>10</td>\n",
       "      <td>10</td>\n",
       "    </tr>\n",
       "    <tr>\n",
       "      <th>2020-12-29</th>\n",
       "      <td>10</td>\n",
       "      <td>10</td>\n",
       "      <td>10</td>\n",
       "      <td>10</td>\n",
       "      <td>10</td>\n",
       "      <td>10</td>\n",
       "      <td>10</td>\n",
       "      <td>10</td>\n",
       "    </tr>\n",
       "    <tr>\n",
       "      <th>2020-12-30</th>\n",
       "      <td>10</td>\n",
       "      <td>10</td>\n",
       "      <td>10</td>\n",
       "      <td>10</td>\n",
       "      <td>10</td>\n",
       "      <td>10</td>\n",
       "      <td>10</td>\n",
       "      <td>10</td>\n",
       "    </tr>\n",
       "    <tr>\n",
       "      <th>2020-12-31</th>\n",
       "      <td>10</td>\n",
       "      <td>10</td>\n",
       "      <td>10</td>\n",
       "      <td>10</td>\n",
       "      <td>10</td>\n",
       "      <td>10</td>\n",
       "      <td>10</td>\n",
       "      <td>10</td>\n",
       "    </tr>\n",
       "  </tbody>\n",
       "</table>\n",
       "<p>1269 rows × 8 columns</p>\n",
       "</div>"
      ],
      "text/plain": [
       "            DIVISION  BUSINESS UNIT  BUSINESS LINE  handle_time  \\\n",
       "date                                                              \n",
       "2016-01-01         9              9              9            9   \n",
       "2016-01-04         9              9              9            9   \n",
       "2016-01-05         9              9              9            9   \n",
       "2016-01-06         9              9              9            9   \n",
       "2016-01-07         9              9              9            9   \n",
       "...              ...            ...            ...          ...   \n",
       "2020-12-24        10             10             10           10   \n",
       "2020-12-28        10             10             10           10   \n",
       "2020-12-29        10             10             10           10   \n",
       "2020-12-30        10             10             10           10   \n",
       "2020-12-31        10             10             10           10   \n",
       "\n",
       "            handle_time_forecast  volume  volume_forecast  aht  \n",
       "date                                                            \n",
       "2016-01-01                     0       9                9    2  \n",
       "2016-01-04                     0       9                9    9  \n",
       "2016-01-05                     0       9                9    9  \n",
       "2016-01-06                     0       9                9    9  \n",
       "2016-01-07                     0       9                9    9  \n",
       "...                          ...     ...              ...  ...  \n",
       "2020-12-24                    10      10               10   10  \n",
       "2020-12-28                    10      10               10   10  \n",
       "2020-12-29                    10      10               10   10  \n",
       "2020-12-30                    10      10               10   10  \n",
       "2020-12-31                    10      10               10   10  \n",
       "\n",
       "[1269 rows x 8 columns]"
      ]
     },
     "execution_count": 75,
     "metadata": {},
     "output_type": "execute_result"
    }
   ],
   "source": [
    "df[~(df['date'].dt.weekday.isin([5,6])) & ~(df['date'].isin(h.iloc[:,0].tolist()))].groupby('date').count()"
   ]
  },
  {
   "cell_type": "markdown",
   "metadata": {},
   "source": [
    "# There are approximately 1269 days that are not holidays or weekends"
   ]
  },
  {
   "cell_type": "code",
   "execution_count": 82,
   "metadata": {},
   "outputs": [
    {
     "name": "stdout",
     "output_type": "stream",
     "text": [
      "<class 'pandas.core.frame.DataFrame'>\n",
      "DatetimeIndex: 253 entries, 2020-01-02 to 2020-12-31\n",
      "Data columns (total 10 columns):\n",
      " #   Column                Non-Null Count  Dtype\n",
      "---  ------                --------------  -----\n",
      " 0   DIVISION              253 non-null    int64\n",
      " 1   BUSINESS UNIT         253 non-null    int64\n",
      " 2   BUSINESS LINE         253 non-null    int64\n",
      " 3   handle_time           253 non-null    int64\n",
      " 4   handle_time_forecast  253 non-null    int64\n",
      " 5   volume                253 non-null    int64\n",
      " 6   volume_forecast       253 non-null    int64\n",
      " 7   aht                   253 non-null    int64\n",
      " 8   month                 253 non-null    int64\n",
      " 9   year                  253 non-null    int64\n",
      "dtypes: int64(10)\n",
      "memory usage: 21.7 KB\n"
     ]
    }
   ],
   "source": [
    "df[~(df['date'].dt.weekday.isin([5,6])) & ~(df['date'].isin(h.iloc[:,0].tolist())) & (df['date'].dt.year==2020)].groupby('date').count().info()"
   ]
  },
  {
   "cell_type": "markdown",
   "metadata": {},
   "source": [
    "# There are approximately 253 business days in 2020"
   ]
  },
  {
   "cell_type": "code",
   "execution_count": 76,
   "metadata": {},
   "outputs": [],
   "source": [
    "df['month'] = df['date'].dt.month_name()\n",
    "df['year'] = df['date'].dt.year"
   ]
  },
  {
   "cell_type": "code",
   "execution_count": 77,
   "metadata": {},
   "outputs": [
    {
     "data": {
      "text/plain": [
       "<matplotlib.axes._subplots.AxesSubplot at 0x7fa02ef883d0>"
      ]
     },
     "execution_count": 77,
     "metadata": {},
     "output_type": "execute_result"
    },
    {
     "data": {
      "image/png": "[encoded data removed]",
      "text/plain": [
       "<Figure size 432x288 with 1 Axes>"
      ]
     },
     "metadata": {
      "needs_background": "light"
     },
     "output_type": "display_data"
    }
   ],
   "source": [
    "import seaborn as sns\n",
    "\n",
    "sns.barplot(x='volume', y='BUSINESS LINE', hue='year', data=df[df['year'].isin([2019,2020])])"
   ]
  },
  {
   "cell_type": "markdown",
   "metadata": {},
   "source": [
    "# Business units WISE, RIS, PSG show slight increase in volume from 2019 to 2020"
   ]
  },
  {
   "cell_type": "code",
   "execution_count": 78,
   "metadata": {},
   "outputs": [
    {
     "data": {
      "text/plain": [
       "<matplotlib.axes._subplots.AxesSubplot at 0x7fa02f0bdbd0>"
      ]
     },
     "execution_count": 78,
     "metadata": {},
     "output_type": "execute_result"
    },
    {
     "data": {
      "image/png": "[encoded data removed]",
      "text/plain": [
       "<Figure size 432x288 with 1 Axes>"
      ]
     },
     "metadata": {
      "needs_background": "light"
     },
     "output_type": "display_data"
    }
   ],
   "source": [
    "import seaborn as sns\n",
    "\n",
    "sns.barplot(x='volume', y='BUSINESS LINE', data=df[df['year']==2020])"
   ]
  },
  {
   "cell_type": "code",
   "execution_count": 81,
   "metadata": {},
   "outputs": [
    {
     "data": {
      "text/plain": [
       "<matplotlib.axes._subplots.AxesSubplot at 0x7fa02f9cfad0>"
      ]
     },
     "execution_count": 81,
     "metadata": {},
     "output_type": "execute_result"
    },
    {
     "data": {
      "image/png": "[encoded data removed]",
      "text/plain": [
       "<Figure size 432x288 with 1 Axes>"
      ]
     },
     "metadata": {
      "needs_background": "light"
     },
     "output_type": "display_data"
    }
   ],
   "source": [
    "sns.barplot(x='aht', y='BUSINESS LINE', data=df[df['year']==2020])"
   ]
  },
  {
   "cell_type": "markdown",
   "metadata": {},
   "source": [
    "# What date had the highest aht?"
   ]
  },
  {
   "cell_type": "code",
   "execution_count": 89,
   "metadata": {},
   "outputs": [
    {
     "data": {
      "text/html": [
       "<div>\n",
       "<style scoped>\n",
       "    .dataframe tbody tr th:only-of-type {\n",
       "        vertical-align: middle;\n",
       "    }\n",
       "\n",
       "    .dataframe tbody tr th {\n",
       "        vertical-align: top;\n",
       "    }\n",
       "\n",
       "    .dataframe thead th {\n",
       "        text-align: right;\n",
       "    }\n",
       "</style>\n",
       "<table border=\"1\" class=\"dataframe\">\n",
       "  <thead>\n",
       "    <tr style=\"text-align: right;\">\n",
       "      <th></th>\n",
       "      <th>date</th>\n",
       "      <th>DIVISION</th>\n",
       "      <th>BUSINESS UNIT</th>\n",
       "      <th>BUSINESS LINE</th>\n",
       "      <th>handle_time</th>\n",
       "      <th>handle_time_forecast</th>\n",
       "      <th>volume</th>\n",
       "      <th>volume_forecast</th>\n",
       "      <th>aht</th>\n",
       "      <th>month</th>\n",
       "      <th>year</th>\n",
       "    </tr>\n",
       "  </thead>\n",
       "  <tbody>\n",
       "    <tr>\n",
       "      <th>6623</th>\n",
       "      <td>2018-01-06</td>\n",
       "      <td>II Services and Operations</td>\n",
       "      <td>SCS</td>\n",
       "      <td>PSG</td>\n",
       "      <td>1179195.0</td>\n",
       "      <td>NaN</td>\n",
       "      <td>298.0</td>\n",
       "      <td>177.0</td>\n",
       "      <td>3957.030201</td>\n",
       "      <td>January</td>\n",
       "      <td>2018</td>\n",
       "    </tr>\n",
       "  </tbody>\n",
       "</table>\n",
       "</div>"
      ],
      "text/plain": [
       "           date                    DIVISION BUSINESS UNIT BUSINESS LINE  \\\n",
       "6623 2018-01-06  II Services and Operations           SCS           PSG   \n",
       "\n",
       "      handle_time  handle_time_forecast  volume  volume_forecast          aht  \\\n",
       "6623    1179195.0                   NaN   298.0            177.0  3957.030201   \n",
       "\n",
       "        month  year  \n",
       "6623  January  2018  "
      ]
     },
     "execution_count": 89,
     "metadata": {},
     "output_type": "execute_result"
    }
   ],
   "source": [
    "df[df['aht']==df['aht'].max()]"
   ]
  },
  {
   "cell_type": "code",
   "execution_count": 91,
   "metadata": {},
   "outputs": [],
   "source": [
    "df.index = df['date']"
   ]
  },
  {
   "cell_type": "code",
   "execution_count": 103,
   "metadata": {},
   "outputs": [],
   "source": [
    "df = df[(df['aht'] > 200) & (df['aht'] < 1500)]"
   ]
  },
  {
   "cell_type": "code",
   "execution_count": 104,
   "metadata": {
    "scrolled": false
   },
   "outputs": [
    {
     "data": {
      "image/png": "[encoded data removed]",
      "text/plain": [
       "<Figure size 432x288 with 1 Axes>"
      ]
     },
     "metadata": {
      "needs_background": "light"
     },
     "output_type": "display_data"
    },
    {
     "data": {
      "image/png": "[encoded data removed]",
      "text/plain": [
       "<Figure size 432x288 with 1 Axes>"
      ]
     },
     "metadata": {
      "needs_background": "light"
     },
     "output_type": "display_data"
    },
    {
     "data": {
      "image/png": "[encoded data removed]",
      "text/plain": [
       "<Figure size 432x288 with 1 Axes>"
      ]
     },
     "metadata": {
      "needs_background": "light"
     },
     "output_type": "display_data"
    },
    {
     "data": {
      "image/png": "[encoded data removed]",
      "text/plain": [
       "<Figure size 432x288 with 1 Axes>"
      ]
     },
     "metadata": {
      "needs_background": "light"
     },
     "output_type": "display_data"
    },
    {
     "data": {
      "image/png": "[encoded data removed]",
      "text/plain": [
       "<Figure size 432x288 with 1 Axes>"
      ]
     },
     "metadata": {
      "needs_background": "light"
     },
     "output_type": "display_data"
    },
    {
     "data": {
      "image/png": "[encoded data removed]",
      "text/plain": [
       "<Figure size 432x288 with 1 Axes>"
      ]
     },
     "metadata": {
      "needs_background": "light"
     },
     "output_type": "display_data"
    },
    {
     "data": {
      "image/png": "[encoded data removed]",
      "text/plain": [
       "<Figure size 432x288 with 1 Axes>"
      ]
     },
     "metadata": {
      "needs_background": "light"
     },
     "output_type": "display_data"
    },
    {
     "data": {
      "image/png": "[encoded data removed]",
      "text/plain": [
       "<Figure size 432x288 with 1 Axes>"
      ]
     },
     "metadata": {
      "needs_background": "light"
     },
     "output_type": "display_data"
    },
    {
     "data": {
      "image/png": "[encoded data removed]",
      "text/plain": [
       "<Figure size 432x288 with 1 Axes>"
      ]
     },
     "metadata": {
      "needs_background": "light"
     },
     "output_type": "display_data"
    },
    {
     "data": {
      "image/png": "[encoded data removed]",
      "text/plain": [
       "<Figure size 432x288 with 1 Axes>"
      ]
     },
     "metadata": {
      "needs_background": "light"
     },
     "output_type": "display_data"
    }
   ],
   "source": [
    "import matplotlib.pyplot as plt\n",
    "for bl in df['BUSINESS LINE'].unique():\n",
    "    _ = df[df['BUSINESS LINE']==bl].plot(x='date', y='aht')\n",
    "    plt.title(bl)\n",
    "    plt.show()"
   ]
  },
  {
   "cell_type": "code",
   "execution_count": 95,
   "metadata": {
    "scrolled": false
   },
   "outputs": [
    {
     "data": {
      "text/html": [
       "<div>\n",
       "<style scoped>\n",
       "    .dataframe tbody tr th:only-of-type {\n",
       "        vertical-align: middle;\n",
       "    }\n",
       "\n",
       "    .dataframe tbody tr th {\n",
       "        vertical-align: top;\n",
       "    }\n",
       "\n",
       "    .dataframe thead th {\n",
       "        text-align: right;\n",
       "    }\n",
       "</style>\n",
       "<table border=\"1\" class=\"dataframe\">\n",
       "  <thead>\n",
       "    <tr style=\"text-align: right;\">\n",
       "      <th></th>\n",
       "      <th>date</th>\n",
       "      <th>DIVISION</th>\n",
       "      <th>BUSINESS UNIT</th>\n",
       "      <th>BUSINESS LINE</th>\n",
       "      <th>handle_time</th>\n",
       "      <th>handle_time_forecast</th>\n",
       "      <th>volume</th>\n",
       "      <th>volume_forecast</th>\n",
       "      <th>aht</th>\n",
       "      <th>month</th>\n",
       "      <th>year</th>\n",
       "    </tr>\n",
       "    <tr>\n",
       "      <th>date</th>\n",
       "      <th></th>\n",
       "      <th></th>\n",
       "      <th></th>\n",
       "      <th></th>\n",
       "      <th></th>\n",
       "      <th></th>\n",
       "      <th></th>\n",
       "      <th></th>\n",
       "      <th></th>\n",
       "      <th></th>\n",
       "      <th></th>\n",
       "    </tr>\n",
       "  </thead>\n",
       "  <tbody>\n",
       "    <tr>\n",
       "      <th>2018-01-06</th>\n",
       "      <td>2018-01-06</td>\n",
       "      <td>WISE</td>\n",
       "      <td>WISE</td>\n",
       "      <td>WISE Contractual</td>\n",
       "      <td>NaN</td>\n",
       "      <td>NaN</td>\n",
       "      <td>0.0</td>\n",
       "      <td>0.0</td>\n",
       "      <td>NaN</td>\n",
       "      <td>January</td>\n",
       "      <td>2018</td>\n",
       "    </tr>\n",
       "    <tr>\n",
       "      <th>2018-01-06</th>\n",
       "      <td>2018-01-06</td>\n",
       "      <td>College Savings</td>\n",
       "      <td>College Savings</td>\n",
       "      <td>CS Alaska</td>\n",
       "      <td>NaN</td>\n",
       "      <td>NaN</td>\n",
       "      <td>0.0</td>\n",
       "      <td>0.0</td>\n",
       "      <td>NaN</td>\n",
       "      <td>January</td>\n",
       "      <td>2018</td>\n",
       "    </tr>\n",
       "    <tr>\n",
       "      <th>2018-01-06</th>\n",
       "      <td>2018-01-06</td>\n",
       "      <td>College Savings</td>\n",
       "      <td>College Savings</td>\n",
       "      <td>CS John Hancock</td>\n",
       "      <td>NaN</td>\n",
       "      <td>NaN</td>\n",
       "      <td>0.0</td>\n",
       "      <td>0.0</td>\n",
       "      <td>NaN</td>\n",
       "      <td>January</td>\n",
       "      <td>2018</td>\n",
       "    </tr>\n",
       "    <tr>\n",
       "      <th>2018-01-06</th>\n",
       "      <td>2018-01-06</td>\n",
       "      <td>College Savings</td>\n",
       "      <td>College Savings</td>\n",
       "      <td>CS Maryland</td>\n",
       "      <td>NaN</td>\n",
       "      <td>NaN</td>\n",
       "      <td>0.0</td>\n",
       "      <td>0.0</td>\n",
       "      <td>NaN</td>\n",
       "      <td>January</td>\n",
       "      <td>2018</td>\n",
       "    </tr>\n",
       "    <tr>\n",
       "      <th>2018-01-06</th>\n",
       "      <td>2018-01-06</td>\n",
       "      <td>College Savings</td>\n",
       "      <td>College Savings</td>\n",
       "      <td>CS National</td>\n",
       "      <td>NaN</td>\n",
       "      <td>NaN</td>\n",
       "      <td>0.0</td>\n",
       "      <td>0.0</td>\n",
       "      <td>NaN</td>\n",
       "      <td>January</td>\n",
       "      <td>2018</td>\n",
       "    </tr>\n",
       "    <tr>\n",
       "      <th>2018-01-06</th>\n",
       "      <td>2018-01-06</td>\n",
       "      <td>II Services and Operations</td>\n",
       "      <td>RIS</td>\n",
       "      <td>RIS</td>\n",
       "      <td>NaN</td>\n",
       "      <td>NaN</td>\n",
       "      <td>0.0</td>\n",
       "      <td>0.0</td>\n",
       "      <td>NaN</td>\n",
       "      <td>January</td>\n",
       "      <td>2018</td>\n",
       "    </tr>\n",
       "    <tr>\n",
       "      <th>2018-01-06</th>\n",
       "      <td>2018-01-06</td>\n",
       "      <td>II Services and Operations</td>\n",
       "      <td>RCS PHONES</td>\n",
       "      <td>RCS PHONES</td>\n",
       "      <td>NaN</td>\n",
       "      <td>NaN</td>\n",
       "      <td>0.0</td>\n",
       "      <td>0.0</td>\n",
       "      <td>NaN</td>\n",
       "      <td>January</td>\n",
       "      <td>2018</td>\n",
       "    </tr>\n",
       "    <tr>\n",
       "      <th>2018-01-06</th>\n",
       "      <td>2018-01-06</td>\n",
       "      <td>II Services and Operations</td>\n",
       "      <td>SCS</td>\n",
       "      <td>BRO</td>\n",
       "      <td>NaN</td>\n",
       "      <td>NaN</td>\n",
       "      <td>0.0</td>\n",
       "      <td>0.0</td>\n",
       "      <td>NaN</td>\n",
       "      <td>January</td>\n",
       "      <td>2018</td>\n",
       "    </tr>\n",
       "    <tr>\n",
       "      <th>2018-01-06</th>\n",
       "      <td>2018-01-06</td>\n",
       "      <td>II Services and Operations</td>\n",
       "      <td>SCS</td>\n",
       "      <td>PSG</td>\n",
       "      <td>1179195.0</td>\n",
       "      <td>NaN</td>\n",
       "      <td>298.0</td>\n",
       "      <td>177.0</td>\n",
       "      <td>3957.030201</td>\n",
       "      <td>January</td>\n",
       "      <td>2018</td>\n",
       "    </tr>\n",
       "  </tbody>\n",
       "</table>\n",
       "</div>"
      ],
      "text/plain": [
       "                 date                    DIVISION    BUSINESS UNIT  \\\n",
       "date                                                                 \n",
       "2018-01-06 2018-01-06                        WISE             WISE   \n",
       "2018-01-06 2018-01-06             College Savings  College Savings   \n",
       "2018-01-06 2018-01-06             College Savings  College Savings   \n",
       "2018-01-06 2018-01-06             College Savings  College Savings   \n",
       "2018-01-06 2018-01-06             College Savings  College Savings   \n",
       "2018-01-06 2018-01-06  II Services and Operations              RIS   \n",
       "2018-01-06 2018-01-06  II Services and Operations       RCS PHONES   \n",
       "2018-01-06 2018-01-06  II Services and Operations              SCS   \n",
       "2018-01-06 2018-01-06  II Services and Operations              SCS   \n",
       "\n",
       "               BUSINESS LINE  handle_time  handle_time_forecast  volume  \\\n",
       "date                                                                      \n",
       "2018-01-06  WISE Contractual          NaN                   NaN     0.0   \n",
       "2018-01-06         CS Alaska          NaN                   NaN     0.0   \n",
       "2018-01-06   CS John Hancock          NaN                   NaN     0.0   \n",
       "2018-01-06       CS Maryland          NaN                   NaN     0.0   \n",
       "2018-01-06       CS National          NaN                   NaN     0.0   \n",
       "2018-01-06               RIS          NaN                   NaN     0.0   \n",
       "2018-01-06        RCS PHONES          NaN                   NaN     0.0   \n",
       "2018-01-06               BRO          NaN                   NaN     0.0   \n",
       "2018-01-06               PSG    1179195.0                   NaN   298.0   \n",
       "\n",
       "            volume_forecast          aht    month  year  \n",
       "date                                                     \n",
       "2018-01-06              0.0          NaN  January  2018  \n",
       "2018-01-06              0.0          NaN  January  2018  \n",
       "2018-01-06              0.0          NaN  January  2018  \n",
       "2018-01-06              0.0          NaN  January  2018  \n",
       "2018-01-06              0.0          NaN  January  2018  \n",
       "2018-01-06              0.0          NaN  January  2018  \n",
       "2018-01-06              0.0          NaN  January  2018  \n",
       "2018-01-06              0.0          NaN  January  2018  \n",
       "2018-01-06            177.0  3957.030201  January  2018  "
      ]
     },
     "execution_count": 95,
     "metadata": {},
     "output_type": "execute_result"
    }
   ],
   "source": [
    "df[df['date']=='2018-01-06']"
   ]
  },
  {
   "cell_type": "markdown",
   "metadata": {},
   "source": [
    "# What was the total call volume in 2020?"
   ]
  },
  {
   "cell_type": "code",
   "execution_count": 105,
   "metadata": {},
   "outputs": [
    {
     "data": {
      "text/plain": [
       "year\n",
       "2016    3067929.0\n",
       "2017    3135103.0\n",
       "2018    3006906.0\n",
       "2019    2689468.0\n",
       "2020    2871338.0\n",
       "Name: volume, dtype: float64"
      ]
     },
     "execution_count": 105,
     "metadata": {},
     "output_type": "execute_result"
    }
   ],
   "source": [
    "df.groupby(['year']).sum()['volume']"
   ]
  },
  {
   "cell_type": "markdown",
   "metadata": {},
   "source": [
    "# Which business unit in 2020 had the highest handle time in a single day?\n",
    "\n",
    "On April 24th, 2020, WISE had around 1729 hours of handle time in a single day!"
   ]
  },
  {
   "cell_type": "code",
   "execution_count": 135,
   "metadata": {},
   "outputs": [],
   "source": [
    "df_2020 = df[df['year']==2020]"
   ]
  },
  {
   "cell_type": "code",
   "execution_count": 140,
   "metadata": {},
   "outputs": [
    {
     "data": {
      "text/html": [
       "<div>\n",
       "<style scoped>\n",
       "    .dataframe tbody tr th:only-of-type {\n",
       "        vertical-align: middle;\n",
       "    }\n",
       "\n",
       "    .dataframe tbody tr th {\n",
       "        vertical-align: top;\n",
       "    }\n",
       "\n",
       "    .dataframe thead th {\n",
       "        text-align: right;\n",
       "    }\n",
       "</style>\n",
       "<table border=\"1\" class=\"dataframe\">\n",
       "  <thead>\n",
       "    <tr style=\"text-align: right;\">\n",
       "      <th></th>\n",
       "      <th>date</th>\n",
       "      <th>DIVISION</th>\n",
       "      <th>BUSINESS UNIT</th>\n",
       "      <th>BUSINESS LINE</th>\n",
       "      <th>handle_time</th>\n",
       "      <th>handle_time_forecast</th>\n",
       "      <th>volume</th>\n",
       "      <th>volume_forecast</th>\n",
       "      <th>aht</th>\n",
       "      <th>month</th>\n",
       "      <th>year</th>\n",
       "    </tr>\n",
       "    <tr>\n",
       "      <th>date</th>\n",
       "      <th></th>\n",
       "      <th></th>\n",
       "      <th></th>\n",
       "      <th></th>\n",
       "      <th></th>\n",
       "      <th></th>\n",
       "      <th></th>\n",
       "      <th></th>\n",
       "      <th></th>\n",
       "      <th></th>\n",
       "      <th></th>\n",
       "    </tr>\n",
       "  </thead>\n",
       "  <tbody>\n",
       "    <tr>\n",
       "      <th>2020-04-24</th>\n",
       "      <td>2020-04-24</td>\n",
       "      <td>WISE</td>\n",
       "      <td>WISE</td>\n",
       "      <td>WISE Contractual</td>\n",
       "      <td>6223511.0</td>\n",
       "      <td>NaN</td>\n",
       "      <td>12770.0</td>\n",
       "      <td>5826.0</td>\n",
       "      <td>487.354033</td>\n",
       "      <td>April</td>\n",
       "      <td>2020</td>\n",
       "    </tr>\n",
       "  </tbody>\n",
       "</table>\n",
       "</div>"
      ],
      "text/plain": [
       "                 date DIVISION BUSINESS UNIT     BUSINESS LINE  handle_time  \\\n",
       "date                                                                          \n",
       "2020-04-24 2020-04-24     WISE          WISE  WISE Contractual    6223511.0   \n",
       "\n",
       "            handle_time_forecast   volume  volume_forecast         aht  month  \\\n",
       "date                                                                            \n",
       "2020-04-24                   NaN  12770.0           5826.0  487.354033  April   \n",
       "\n",
       "            year  \n",
       "date              \n",
       "2020-04-24  2020  "
      ]
     },
     "execution_count": 140,
     "metadata": {},
     "output_type": "execute_result"
    }
   ],
   "source": [
    "max_handletime_2020 = df_2020[df_2020['handle_time']==df_2020['handle_time'].max()]\n",
    "max_handletime_2020 "
   ]
  },
  {
   "cell_type": "code",
   "execution_count": 138,
   "metadata": {},
   "outputs": [
    {
     "data": {
      "text/plain": [
       "date\n",
       "2020-04-24    1728.753056\n",
       "Name: handle_time, dtype: float64"
      ]
     },
     "execution_count": 138,
     "metadata": {},
     "output_type": "execute_result"
    }
   ],
   "source": [
    "max_handletime_2020['handle_time']/3600"
   ]
  },
  {
   "cell_type": "code",
   "execution_count": 147,
   "metadata": {},
   "outputs": [],
   "source": [
    "df_2020 = df_2020.drop('date', 1).reset_index()"
   ]
  },
  {
   "cell_type": "markdown",
   "metadata": {},
   "source": [
    "# Which day in 2020 had the highest total handle_time?\n",
    "\n",
    "On January 2nd, 2020 2,872 hours of handle time was recorded"
   ]
  },
  {
   "cell_type": "code",
   "execution_count": 152,
   "metadata": {},
   "outputs": [
    {
     "data": {
      "text/html": [
       "<div>\n",
       "<style scoped>\n",
       "    .dataframe tbody tr th:only-of-type {\n",
       "        vertical-align: middle;\n",
       "    }\n",
       "\n",
       "    .dataframe tbody tr th {\n",
       "        vertical-align: top;\n",
       "    }\n",
       "\n",
       "    .dataframe thead th {\n",
       "        text-align: right;\n",
       "    }\n",
       "</style>\n",
       "<table border=\"1\" class=\"dataframe\">\n",
       "  <thead>\n",
       "    <tr style=\"text-align: right;\">\n",
       "      <th></th>\n",
       "      <th>handle_time</th>\n",
       "      <th>handle_time_forecast</th>\n",
       "      <th>volume</th>\n",
       "      <th>volume_forecast</th>\n",
       "      <th>aht</th>\n",
       "      <th>year</th>\n",
       "    </tr>\n",
       "    <tr>\n",
       "      <th>date</th>\n",
       "      <th></th>\n",
       "      <th></th>\n",
       "      <th></th>\n",
       "      <th></th>\n",
       "      <th></th>\n",
       "      <th></th>\n",
       "    </tr>\n",
       "  </thead>\n",
       "  <tbody>\n",
       "    <tr>\n",
       "      <th>2020-01-01</th>\n",
       "      <td>284882.0</td>\n",
       "      <td>0.0</td>\n",
       "      <td>642.0</td>\n",
       "      <td>369.0</td>\n",
       "      <td>443.741433</td>\n",
       "      <td>2020</td>\n",
       "    </tr>\n",
       "    <tr>\n",
       "      <th>2020-01-02</th>\n",
       "      <td>10340893.0</td>\n",
       "      <td>0.0</td>\n",
       "      <td>20878.0</td>\n",
       "      <td>17686.0</td>\n",
       "      <td>4491.707683</td>\n",
       "      <td>18180</td>\n",
       "    </tr>\n",
       "    <tr>\n",
       "      <th>2020-01-03</th>\n",
       "      <td>8288847.0</td>\n",
       "      <td>0.0</td>\n",
       "      <td>15066.0</td>\n",
       "      <td>15179.0</td>\n",
       "      <td>4960.666619</td>\n",
       "      <td>18180</td>\n",
       "    </tr>\n",
       "    <tr>\n",
       "      <th>2020-01-04</th>\n",
       "      <td>379299.0</td>\n",
       "      <td>0.0</td>\n",
       "      <td>646.0</td>\n",
       "      <td>1127.0</td>\n",
       "      <td>1177.310837</td>\n",
       "      <td>4040</td>\n",
       "    </tr>\n",
       "    <tr>\n",
       "      <th>2020-01-06</th>\n",
       "      <td>9436881.0</td>\n",
       "      <td>0.0</td>\n",
       "      <td>18254.0</td>\n",
       "      <td>18804.0</td>\n",
       "      <td>4713.648886</td>\n",
       "      <td>18180</td>\n",
       "    </tr>\n",
       "    <tr>\n",
       "      <th>...</th>\n",
       "      <td>...</td>\n",
       "      <td>...</td>\n",
       "      <td>...</td>\n",
       "      <td>...</td>\n",
       "      <td>...</td>\n",
       "      <td>...</td>\n",
       "    </tr>\n",
       "    <tr>\n",
       "      <th>2020-12-24</th>\n",
       "      <td>3454285.0</td>\n",
       "      <td>4561577.0</td>\n",
       "      <td>5654.0</td>\n",
       "      <td>6943.0</td>\n",
       "      <td>5881.829338</td>\n",
       "      <td>20200</td>\n",
       "    </tr>\n",
       "    <tr>\n",
       "      <th>2020-12-28</th>\n",
       "      <td>9119886.0</td>\n",
       "      <td>12002581.0</td>\n",
       "      <td>21067.0</td>\n",
       "      <td>17329.0</td>\n",
       "      <td>4950.190126</td>\n",
       "      <td>20200</td>\n",
       "    </tr>\n",
       "    <tr>\n",
       "      <th>2020-12-29</th>\n",
       "      <td>8311336.0</td>\n",
       "      <td>10931155.0</td>\n",
       "      <td>17995.0</td>\n",
       "      <td>16049.0</td>\n",
       "      <td>5129.678138</td>\n",
       "      <td>20200</td>\n",
       "    </tr>\n",
       "    <tr>\n",
       "      <th>2020-12-30</th>\n",
       "      <td>7468802.0</td>\n",
       "      <td>9663103.0</td>\n",
       "      <td>14943.0</td>\n",
       "      <td>14240.0</td>\n",
       "      <td>5135.740493</td>\n",
       "      <td>20200</td>\n",
       "    </tr>\n",
       "    <tr>\n",
       "      <th>2020-12-31</th>\n",
       "      <td>5772230.0</td>\n",
       "      <td>7785032.0</td>\n",
       "      <td>10489.0</td>\n",
       "      <td>12176.0</td>\n",
       "      <td>5503.663384</td>\n",
       "      <td>20200</td>\n",
       "    </tr>\n",
       "  </tbody>\n",
       "</table>\n",
       "<p>264 rows × 6 columns</p>\n",
       "</div>"
      ],
      "text/plain": [
       "            handle_time  handle_time_forecast   volume  volume_forecast  \\\n",
       "date                                                                      \n",
       "2020-01-01     284882.0                   0.0    642.0            369.0   \n",
       "2020-01-02   10340893.0                   0.0  20878.0          17686.0   \n",
       "2020-01-03    8288847.0                   0.0  15066.0          15179.0   \n",
       "2020-01-04     379299.0                   0.0    646.0           1127.0   \n",
       "2020-01-06    9436881.0                   0.0  18254.0          18804.0   \n",
       "...                 ...                   ...      ...              ...   \n",
       "2020-12-24    3454285.0             4561577.0   5654.0           6943.0   \n",
       "2020-12-28    9119886.0            12002581.0  21067.0          17329.0   \n",
       "2020-12-29    8311336.0            10931155.0  17995.0          16049.0   \n",
       "2020-12-30    7468802.0             9663103.0  14943.0          14240.0   \n",
       "2020-12-31    5772230.0             7785032.0  10489.0          12176.0   \n",
       "\n",
       "                    aht   year  \n",
       "date                            \n",
       "2020-01-01   443.741433   2020  \n",
       "2020-01-02  4491.707683  18180  \n",
       "2020-01-03  4960.666619  18180  \n",
       "2020-01-04  1177.310837   4040  \n",
       "2020-01-06  4713.648886  18180  \n",
       "...                 ...    ...  \n",
       "2020-12-24  5881.829338  20200  \n",
       "2020-12-28  4950.190126  20200  \n",
       "2020-12-29  5129.678138  20200  \n",
       "2020-12-30  5135.740493  20200  \n",
       "2020-12-31  5503.663384  20200  \n",
       "\n",
       "[264 rows x 6 columns]"
      ]
     },
     "execution_count": 152,
     "metadata": {},
     "output_type": "execute_result"
    }
   ],
   "source": [
    "g = df_2020.groupby('date').sum()\n",
    "g"
   ]
  },
  {
   "cell_type": "code",
   "execution_count": 155,
   "metadata": {},
   "outputs": [
    {
     "data": {
      "text/html": [
       "<div>\n",
       "<style scoped>\n",
       "    .dataframe tbody tr th:only-of-type {\n",
       "        vertical-align: middle;\n",
       "    }\n",
       "\n",
       "    .dataframe tbody tr th {\n",
       "        vertical-align: top;\n",
       "    }\n",
       "\n",
       "    .dataframe thead th {\n",
       "        text-align: right;\n",
       "    }\n",
       "</style>\n",
       "<table border=\"1\" class=\"dataframe\">\n",
       "  <thead>\n",
       "    <tr style=\"text-align: right;\">\n",
       "      <th></th>\n",
       "      <th>handle_time</th>\n",
       "      <th>handle_time_forecast</th>\n",
       "      <th>volume</th>\n",
       "      <th>volume_forecast</th>\n",
       "      <th>aht</th>\n",
       "      <th>year</th>\n",
       "    </tr>\n",
       "    <tr>\n",
       "      <th>date</th>\n",
       "      <th></th>\n",
       "      <th></th>\n",
       "      <th></th>\n",
       "      <th></th>\n",
       "      <th></th>\n",
       "      <th></th>\n",
       "    </tr>\n",
       "  </thead>\n",
       "  <tbody>\n",
       "    <tr>\n",
       "      <th>2020-01-02</th>\n",
       "      <td>10340893.0</td>\n",
       "      <td>0.0</td>\n",
       "      <td>20878.0</td>\n",
       "      <td>17686.0</td>\n",
       "      <td>4491.707683</td>\n",
       "      <td>18180</td>\n",
       "    </tr>\n",
       "  </tbody>\n",
       "</table>\n",
       "</div>"
      ],
      "text/plain": [
       "            handle_time  handle_time_forecast   volume  volume_forecast  \\\n",
       "date                                                                      \n",
       "2020-01-02   10340893.0                   0.0  20878.0          17686.0   \n",
       "\n",
       "                    aht   year  \n",
       "date                            \n",
       "2020-01-02  4491.707683  18180  "
      ]
     },
     "execution_count": 155,
     "metadata": {},
     "output_type": "execute_result"
    }
   ],
   "source": [
    "max_handle_time = g[g['handle_time']==g['handle_time'].max()]\n",
    "max_handle_time "
   ]
  },
  {
   "cell_type": "code",
   "execution_count": 156,
   "metadata": {},
   "outputs": [
    {
     "data": {
      "text/plain": [
       "date\n",
       "2020-01-02    2872.470278\n",
       "Name: handle_time, dtype: float64"
      ]
     },
     "execution_count": 156,
     "metadata": {},
     "output_type": "execute_result"
    }
   ],
   "source": [
    "max_handle_time['handle_time']/3600"
   ]
  },
  {
   "cell_type": "markdown",
   "metadata": {},
   "source": [
    "# Which day in 2020 had the highest total call volume?\n",
    "\n",
    "On December 28, 2020 21,067 calls were recieved."
   ]
  },
  {
   "cell_type": "code",
   "execution_count": 157,
   "metadata": {},
   "outputs": [
    {
     "data": {
      "text/html": [
       "<div>\n",
       "<style scoped>\n",
       "    .dataframe tbody tr th:only-of-type {\n",
       "        vertical-align: middle;\n",
       "    }\n",
       "\n",
       "    .dataframe tbody tr th {\n",
       "        vertical-align: top;\n",
       "    }\n",
       "\n",
       "    .dataframe thead th {\n",
       "        text-align: right;\n",
       "    }\n",
       "</style>\n",
       "<table border=\"1\" class=\"dataframe\">\n",
       "  <thead>\n",
       "    <tr style=\"text-align: right;\">\n",
       "      <th></th>\n",
       "      <th>handle_time</th>\n",
       "      <th>handle_time_forecast</th>\n",
       "      <th>volume</th>\n",
       "      <th>volume_forecast</th>\n",
       "      <th>aht</th>\n",
       "      <th>year</th>\n",
       "    </tr>\n",
       "    <tr>\n",
       "      <th>date</th>\n",
       "      <th></th>\n",
       "      <th></th>\n",
       "      <th></th>\n",
       "      <th></th>\n",
       "      <th></th>\n",
       "      <th></th>\n",
       "    </tr>\n",
       "  </thead>\n",
       "  <tbody>\n",
       "    <tr>\n",
       "      <th>2020-12-28</th>\n",
       "      <td>9119886.0</td>\n",
       "      <td>12002581.0</td>\n",
       "      <td>21067.0</td>\n",
       "      <td>17329.0</td>\n",
       "      <td>4950.190126</td>\n",
       "      <td>20200</td>\n",
       "    </tr>\n",
       "  </tbody>\n",
       "</table>\n",
       "</div>"
      ],
      "text/plain": [
       "            handle_time  handle_time_forecast   volume  volume_forecast  \\\n",
       "date                                                                      \n",
       "2020-12-28    9119886.0            12002581.0  21067.0          17329.0   \n",
       "\n",
       "                    aht   year  \n",
       "date                            \n",
       "2020-12-28  4950.190126  20200  "
      ]
     },
     "execution_count": 157,
     "metadata": {},
     "output_type": "execute_result"
    }
   ],
   "source": [
    "max_volume = g[g['volume']==g['volume'].max()]\n",
    "max_volume "
   ]
  },
  {
   "cell_type": "markdown",
   "metadata": {},
   "source": [
    "# What was the total talk time recieved on 2020-12-28\n",
    "\n",
    "approximately 2,533 hours of handle time was recieved"
   ]
  },
  {
   "cell_type": "code",
   "execution_count": 162,
   "metadata": {},
   "outputs": [
    {
     "data": {
      "text/plain": [
       "2533.3016666666667"
      ]
     },
     "execution_count": 162,
     "metadata": {},
     "output_type": "execute_result"
    }
   ],
   "source": [
    "9119886/3600"
   ]
  },
  {
   "cell_type": "code",
   "execution_count": null,
   "metadata": {},
   "outputs": [],
   "source": []
  }
 ],
 "metadata": {
  "kernelspec": {
   "display_name": "Python 3",
   "language": "python",
   "name": "python3"
  },
  "language_info": {
   "codemirror_mode": {
    "name": "ipython",
    "version": 3
   },
   "file_extension": ".py",
   "mimetype": "text/x-python",
   "name": "python",
   "nbconvert_exporter": "python",
   "pygments_lexer": "ipython3",
   "version": "3.7.6"
  }
 },
 "nbformat": 4,
 "nbformat_minor": 4
}
